{
  "cells": [
    {
      "cell_type": "markdown",
      "id": "3c1222ff",
      "metadata": {
        "id": "3c1222ff"
      },
      "source": [
        "#### 1. Import the numpy package under the name `np` (★☆☆)"
      ]
    },
    {
      "cell_type": "code",
      "execution_count": null,
      "id": "f52e6a0b",
      "metadata": {
        "id": "f52e6a0b"
      },
      "outputs": [],
      "source": [
        "import numpy as np"
      ]
    },
    {
      "cell_type": "markdown",
      "id": "9d9f4753",
      "metadata": {
        "id": "9d9f4753"
      },
      "source": [
        "#### 2. Print the numpy version and the configuration (★☆☆)"
      ]
    },
    {
      "cell_type": "code",
      "execution_count": null,
      "id": "b7fa5fa1",
      "metadata": {
        "id": "b7fa5fa1",
        "outputId": "14ce3261-39c8-4647-b568-370a0aaf935b",
        "colab": {
          "base_uri": "https://localhost:8080/",
          "height": 35
        }
      },
      "outputs": [
        {
          "output_type": "execute_result",
          "data": {
            "text/plain": [
              "'1.22.4'"
            ],
            "application/vnd.google.colaboratory.intrinsic+json": {
              "type": "string"
            }
          },
          "metadata": {},
          "execution_count": 2
        }
      ],
      "source": [
        "np.__version__"
      ]
    },
    {
      "cell_type": "code",
      "source": [
        "np.show_config()"
      ],
      "metadata": {
        "colab": {
          "base_uri": "https://localhost:8080/"
        },
        "id": "W7KqWlFmuStG",
        "outputId": "e80705a6-c0ed-4772-bf89-3526dff8e293"
      },
      "id": "W7KqWlFmuStG",
      "execution_count": null,
      "outputs": [
        {
          "output_type": "stream",
          "name": "stdout",
          "text": [
            "openblas64__info:\n",
            "    libraries = ['openblas64_', 'openblas64_']\n",
            "    library_dirs = ['/usr/local/lib']\n",
            "    language = c\n",
            "    define_macros = [('HAVE_CBLAS', None), ('BLAS_SYMBOL_SUFFIX', '64_'), ('HAVE_BLAS_ILP64', None)]\n",
            "    runtime_library_dirs = ['/usr/local/lib']\n",
            "blas_ilp64_opt_info:\n",
            "    libraries = ['openblas64_', 'openblas64_']\n",
            "    library_dirs = ['/usr/local/lib']\n",
            "    language = c\n",
            "    define_macros = [('HAVE_CBLAS', None), ('BLAS_SYMBOL_SUFFIX', '64_'), ('HAVE_BLAS_ILP64', None)]\n",
            "    runtime_library_dirs = ['/usr/local/lib']\n",
            "openblas64__lapack_info:\n",
            "    libraries = ['openblas64_', 'openblas64_']\n",
            "    library_dirs = ['/usr/local/lib']\n",
            "    language = c\n",
            "    define_macros = [('HAVE_CBLAS', None), ('BLAS_SYMBOL_SUFFIX', '64_'), ('HAVE_BLAS_ILP64', None), ('HAVE_LAPACKE', None)]\n",
            "    runtime_library_dirs = ['/usr/local/lib']\n",
            "lapack_ilp64_opt_info:\n",
            "    libraries = ['openblas64_', 'openblas64_']\n",
            "    library_dirs = ['/usr/local/lib']\n",
            "    language = c\n",
            "    define_macros = [('HAVE_CBLAS', None), ('BLAS_SYMBOL_SUFFIX', '64_'), ('HAVE_BLAS_ILP64', None), ('HAVE_LAPACKE', None)]\n",
            "    runtime_library_dirs = ['/usr/local/lib']\n",
            "Supported SIMD extensions in this NumPy install:\n",
            "    baseline = SSE,SSE2,SSE3\n",
            "    found = SSSE3,SSE41,POPCNT,SSE42,AVX,F16C,FMA3,AVX2\n",
            "    not found = AVX512F,AVX512CD,AVX512_KNL,AVX512_KNM,AVX512_SKX,AVX512_CLX,AVX512_CNL,AVX512_ICL\n"
          ]
        }
      ]
    },
    {
      "cell_type": "markdown",
      "id": "3e4c23c6",
      "metadata": {
        "id": "3e4c23c6"
      },
      "source": [
        "#### 3. Create a null vector of size 10 (★☆☆)"
      ]
    },
    {
      "cell_type": "code",
      "execution_count": null,
      "id": "083c5c46",
      "metadata": {
        "id": "083c5c46",
        "outputId": "2e7d5cf2-ed1c-464f-ac77-d786cfe9b2fa",
        "colab": {
          "base_uri": "https://localhost:8080/"
        }
      },
      "outputs": [
        {
          "output_type": "execute_result",
          "data": {
            "text/plain": [
              "array([0., 0., 0., 0., 0., 0., 0., 0., 0., 0.])"
            ]
          },
          "metadata": {},
          "execution_count": 4
        }
      ],
      "source": [
        "np.zeros(10)"
      ]
    },
    {
      "cell_type": "markdown",
      "id": "c38bbe82",
      "metadata": {
        "id": "c38bbe82"
      },
      "source": [
        "#### 4. How to find the memory size of any array (★☆☆)"
      ]
    },
    {
      "cell_type": "code",
      "execution_count": null,
      "id": "02b04021",
      "metadata": {
        "id": "02b04021",
        "outputId": "f96e201f-9fcf-45e4-c71e-aa1be99f1a6e",
        "colab": {
          "base_uri": "https://localhost:8080/"
        }
      },
      "outputs": [
        {
          "output_type": "execute_result",
          "data": {
            "text/plain": [
              "10"
            ]
          },
          "metadata": {},
          "execution_count": 5
        }
      ],
      "source": [
        "arr=np.zeros(10)\n",
        "np.size(arr)"
      ]
    },
    {
      "cell_type": "markdown",
      "id": "67f893d4",
      "metadata": {
        "id": "67f893d4"
      },
      "source": [
        "#### 5. How to get the documentation of the numpy add function from the command line? (★☆☆)"
      ]
    },
    {
      "cell_type": "code",
      "execution_count": null,
      "id": "40e6b70d",
      "metadata": {
        "id": "40e6b70d"
      },
      "outputs": [],
      "source": [
        "np.info()"
      ]
    },
    {
      "cell_type": "markdown",
      "id": "e0c739c6",
      "metadata": {
        "id": "e0c739c6"
      },
      "source": [
        "#### 6. Create a null vector of size 10 but the fifth value which is 1 (★☆☆)"
      ]
    },
    {
      "cell_type": "code",
      "execution_count": null,
      "id": "bcceacf7",
      "metadata": {
        "id": "bcceacf7",
        "colab": {
          "base_uri": "https://localhost:8080/"
        },
        "outputId": "53293d82-ef8c-450a-f96d-734df58c02ac"
      },
      "outputs": [
        {
          "output_type": "stream",
          "name": "stdout",
          "text": [
            "[0. 0. 0. 0. 1. 0. 0. 0. 0. 0.]\n"
          ]
        }
      ],
      "source": [
        "arr=np.zeros(10)\n",
        "arr[4]=1\n",
        "print(arr)"
      ]
    },
    {
      "cell_type": "markdown",
      "id": "fbebedab",
      "metadata": {
        "id": "fbebedab"
      },
      "source": [
        "#### 7. Create a vector with values ranging from 10 to 49 (★☆☆)"
      ]
    },
    {
      "cell_type": "code",
      "execution_count": null,
      "id": "3d117d54",
      "metadata": {
        "id": "3d117d54",
        "colab": {
          "base_uri": "https://localhost:8080/"
        },
        "outputId": "c7e35184-47a3-45bc-eab5-878ddcb8feb7"
      },
      "outputs": [
        {
          "output_type": "stream",
          "name": "stdout",
          "text": [
            "[10 11 12 13 14 15 16 17 18 19 20 21 22 23 24 25 26 27 28 29 30 31 32 33\n",
            " 34 35 36 37 38 39 40 41 42 43 44 45 46 47 48 49]\n"
          ]
        }
      ],
      "source": [
        "arr=np.arange(10,50)\n",
        "print(arr)"
      ]
    },
    {
      "cell_type": "markdown",
      "id": "ad0bff02",
      "metadata": {
        "id": "ad0bff02"
      },
      "source": [
        "####8. Reverse a vector (first element becomes last) (★☆☆)"
      ]
    },
    {
      "cell_type": "code",
      "execution_count": null,
      "id": "22d23470",
      "metadata": {
        "id": "22d23470",
        "colab": {
          "base_uri": "https://localhost:8080/"
        },
        "outputId": "e008780a-4dab-4292-d337-6f1c19d76a6d"
      },
      "outputs": [
        {
          "output_type": "execute_result",
          "data": {
            "text/plain": [
              "array([10,  9,  8,  7,  6,  5,  4,  3,  2,  1])"
            ]
          },
          "metadata": {},
          "execution_count": 9
        }
      ],
      "source": [
        "arr=np.arange(1,11)\n",
        "arr[::-1]"
      ]
    },
    {
      "cell_type": "markdown",
      "id": "9f59d7e1",
      "metadata": {
        "id": "9f59d7e1"
      },
      "source": [
        "####9. Create a 3x3 matrix with values ranging from 0 to 8 (★☆☆)"
      ]
    },
    {
      "cell_type": "code",
      "execution_count": null,
      "id": "7449e82d",
      "metadata": {
        "id": "7449e82d",
        "colab": {
          "base_uri": "https://localhost:8080/"
        },
        "outputId": "4d7b5c21-c105-43d7-cb09-31dbd7b927f5"
      },
      "outputs": [
        {
          "output_type": "execute_result",
          "data": {
            "text/plain": [
              "array([[0, 1, 2],\n",
              "       [3, 4, 5],\n",
              "       [6, 7, 8]])"
            ]
          },
          "metadata": {},
          "execution_count": 10
        }
      ],
      "source": [
        "m=np.arange(0,9)\n",
        "m.reshape(3,3)"
      ]
    },
    {
      "cell_type": "markdown",
      "id": "f374c4cf",
      "metadata": {
        "id": "f374c4cf"
      },
      "source": [
        "#### 10. Find indices of non-zero elements from [1,2,0,0,4,0] (★☆☆)"
      ]
    },
    {
      "cell_type": "code",
      "execution_count": null,
      "id": "1a84bed8",
      "metadata": {
        "id": "1a84bed8",
        "colab": {
          "base_uri": "https://localhost:8080/"
        },
        "outputId": "0c4aabab-e7de-4cfb-870a-cd310cab5408"
      },
      "outputs": [
        {
          "output_type": "execute_result",
          "data": {
            "text/plain": [
              "(array([0, 1, 4]),)"
            ]
          },
          "metadata": {},
          "execution_count": 11
        }
      ],
      "source": [
        "arr=[1,2,0,0,4,0]\n",
        "np.nonzero(arr)"
      ]
    },
    {
      "cell_type": "markdown",
      "id": "9c4707f5",
      "metadata": {
        "id": "9c4707f5"
      },
      "source": [
        "#### 11. Create a 3x3 identity matrix (★☆☆)"
      ]
    },
    {
      "cell_type": "code",
      "execution_count": null,
      "id": "29dc1fd3",
      "metadata": {
        "id": "29dc1fd3",
        "colab": {
          "base_uri": "https://localhost:8080/"
        },
        "outputId": "93949e03-fe16-471f-fab3-6b71a72161e4"
      },
      "outputs": [
        {
          "output_type": "execute_result",
          "data": {
            "text/plain": [
              "array([[1., 0., 0.],\n",
              "       [0., 1., 0.],\n",
              "       [0., 0., 1.]])"
            ]
          },
          "metadata": {},
          "execution_count": 12
        }
      ],
      "source": [
        "np.eye(3)"
      ]
    },
    {
      "cell_type": "markdown",
      "id": "3bac294a",
      "metadata": {
        "id": "3bac294a"
      },
      "source": [
        "#### 12. Create a 3x3x3 array with random values (★☆☆)"
      ]
    },
    {
      "cell_type": "code",
      "execution_count": null,
      "id": "eadfae67",
      "metadata": {
        "id": "eadfae67",
        "colab": {
          "base_uri": "https://localhost:8080/"
        },
        "outputId": "159d7c9b-aff2-42eb-fc0b-0f2de6d124f8"
      },
      "outputs": [
        {
          "output_type": "execute_result",
          "data": {
            "text/plain": [
              "array([[[0.9056543 , 0.3435111 , 0.99168446],\n",
              "        [0.44864934, 0.99259395, 0.34182259],\n",
              "        [0.00838595, 0.58092945, 0.02709376]],\n",
              "\n",
              "       [[0.42652283, 0.96260735, 0.06102814],\n",
              "        [0.10729636, 0.50436675, 0.83048214],\n",
              "        [0.86344434, 0.27513796, 0.94208607]],\n",
              "\n",
              "       [[0.48797759, 0.02876502, 0.55877102],\n",
              "        [0.80934756, 0.86441343, 0.8404809 ],\n",
              "        [0.98368261, 0.5724636 , 0.5192518 ]]])"
            ]
          },
          "metadata": {},
          "execution_count": 13
        }
      ],
      "source": [
        "np.random.random((3,3,3))"
      ]
    },
    {
      "cell_type": "markdown",
      "id": "466c2989",
      "metadata": {
        "id": "466c2989"
      },
      "source": [
        "#### 13. Create a 10x10 array with random values and find the minimum and maximum values (★☆☆)"
      ]
    },
    {
      "cell_type": "code",
      "execution_count": null,
      "id": "9a74dbfc",
      "metadata": {
        "id": "9a74dbfc",
        "colab": {
          "base_uri": "https://localhost:8080/"
        },
        "outputId": "ced7bbb9-6689-4067-e539-4505e6675d39"
      },
      "outputs": [
        {
          "output_type": "stream",
          "name": "stdout",
          "text": [
            "[[0.04048279 0.99889371 0.88389434 0.19171783 0.43345999 0.68810423\n",
            "  0.57433851 0.39039088 0.72285338 0.20464194]\n",
            " [0.11163973 0.38647261 0.97647736 0.93154201 0.66050894 0.30333081\n",
            "  0.22809175 0.06477097 0.90732302 0.48455456]\n",
            " [0.2244493  0.85714919 0.20718762 0.3076935  0.73195951 0.29186073\n",
            "  0.46999011 0.94830665 0.05115965 0.0521191 ]\n",
            " [0.60633464 0.57281889 0.89475268 0.87034129 0.30760793 0.75017122\n",
            "  0.47172133 0.77269762 0.95041936 0.15164713]\n",
            " [0.62294895 0.95761972 0.97032418 0.43418542 0.57277593 0.76745646\n",
            "  0.68317255 0.67160995 0.60142353 0.14714623]\n",
            " [0.94821378 0.75517777 0.53000275 0.55988989 0.2526799  0.79070974\n",
            "  0.00847048 0.45566376 0.48660656 0.50290107]\n",
            " [0.23934408 0.48387754 0.93966087 0.17202066 0.006533   0.82854711\n",
            "  0.12823342 0.89245951 0.33375281 0.77368441]\n",
            " [0.04058571 0.61271397 0.83812385 0.55177062 0.80794823 0.79438245\n",
            "  0.52153251 0.66770274 0.79633699 0.61838234]\n",
            " [0.41354493 0.28946287 0.88068511 0.66743177 0.0242906  0.21619788\n",
            "  0.17860029 0.05577873 0.15104455 0.4636642 ]\n",
            " [0.52200519 0.96390146 0.9977048  0.35317036 0.17466923 0.78841159\n",
            "  0.87460379 0.98862144 0.91830471 0.3706263 ]]\n"
          ]
        }
      ],
      "source": [
        "arr=np.random.random((10,10))\n",
        "print(arr)"
      ]
    },
    {
      "cell_type": "code",
      "source": [
        "np.amax(arr)"
      ],
      "metadata": {
        "colab": {
          "base_uri": "https://localhost:8080/"
        },
        "id": "IEDaubfZz0FN",
        "outputId": "85e29694-e6e3-417c-cdac-957b20dbe6ce"
      },
      "id": "IEDaubfZz0FN",
      "execution_count": null,
      "outputs": [
        {
          "output_type": "execute_result",
          "data": {
            "text/plain": [
              "0.9988937052334312"
            ]
          },
          "metadata": {},
          "execution_count": 15
        }
      ]
    },
    {
      "cell_type": "code",
      "source": [
        "np.amin(arr)"
      ],
      "metadata": {
        "colab": {
          "base_uri": "https://localhost:8080/"
        },
        "id": "N-r-Hf43z27f",
        "outputId": "c77effe9-1246-448b-f38b-6a6812152d15"
      },
      "id": "N-r-Hf43z27f",
      "execution_count": null,
      "outputs": [
        {
          "output_type": "execute_result",
          "data": {
            "text/plain": [
              "0.0065329996046720185"
            ]
          },
          "metadata": {},
          "execution_count": 16
        }
      ]
    },
    {
      "cell_type": "markdown",
      "id": "53a8edb2",
      "metadata": {
        "id": "53a8edb2"
      },
      "source": [
        "#### 14. Create a random vector of size 30 and find the mean value (★☆☆)"
      ]
    },
    {
      "cell_type": "code",
      "execution_count": null,
      "id": "6691530b",
      "metadata": {
        "id": "6691530b",
        "colab": {
          "base_uri": "https://localhost:8080/"
        },
        "outputId": "c786cf62-d0c0-4f05-b272-2745802ca21e"
      },
      "outputs": [
        {
          "output_type": "stream",
          "name": "stdout",
          "text": [
            "[0.28688554 0.20177252 0.51446445 0.82069291 0.83839823 0.64957408\n",
            " 0.85261469 0.00350849 0.13818332 0.24530411 0.81708085 0.5976983\n",
            " 0.64716879 0.4703854  0.3061573  0.62266507 0.54341608 0.4667086\n",
            " 0.29991084 0.47303601 0.13077063 0.06730969 0.21448638 0.84793325\n",
            " 0.03804721 0.15886399 0.93639843 0.20911083 0.8074659  0.07039721]\n"
          ]
        }
      ],
      "source": [
        "arr=np.random.random(30)\n",
        "print(arr)"
      ]
    },
    {
      "cell_type": "code",
      "source": [
        "np.mean(arr)"
      ],
      "metadata": {
        "colab": {
          "base_uri": "https://localhost:8080/"
        },
        "id": "JIcKjH2s0WMe",
        "outputId": "b85d2472-f642-483b-9efe-87f7c119ac74"
      },
      "id": "JIcKjH2s0WMe",
      "execution_count": null,
      "outputs": [
        {
          "output_type": "execute_result",
          "data": {
            "text/plain": [
              "0.44254697036194274"
            ]
          },
          "metadata": {},
          "execution_count": 18
        }
      ]
    },
    {
      "cell_type": "markdown",
      "id": "cbaad31c",
      "metadata": {
        "id": "cbaad31c"
      },
      "source": [
        "#### 15. Create a 2d array with 1 on the border and 0 inside (★☆☆)"
      ]
    },
    {
      "cell_type": "code",
      "execution_count": null,
      "id": "ad8308e3",
      "metadata": {
        "id": "ad8308e3",
        "colab": {
          "base_uri": "https://localhost:8080/"
        },
        "outputId": "12341392-ae5b-4c7f-baa8-c693508c98a6"
      },
      "outputs": [
        {
          "output_type": "stream",
          "name": "stdout",
          "text": [
            "[[1. 1. 1. 1. 1. 1. 1.]\n",
            " [1. 0. 0. 0. 0. 0. 1.]\n",
            " [1. 0. 0. 0. 0. 0. 1.]\n",
            " [1. 0. 0. 0. 0. 0. 1.]\n",
            " [1. 0. 0. 0. 0. 0. 1.]\n",
            " [1. 0. 0. 0. 0. 0. 1.]\n",
            " [1. 1. 1. 1. 1. 1. 1.]]\n"
          ]
        }
      ],
      "source": [
        "arr=np.ones((7,7))\n",
        "arr[1:-1, 1:-1]=0\n",
        "print(arr)"
      ]
    },
    {
      "cell_type": "markdown",
      "id": "c5ecc267",
      "metadata": {
        "id": "c5ecc267"
      },
      "source": [
        "#### 16. How to add a border (filled with 0's) around an existing array? (★☆☆)"
      ]
    },
    {
      "cell_type": "code",
      "execution_count": null,
      "id": "9d5c78c4",
      "metadata": {
        "id": "9d5c78c4",
        "colab": {
          "base_uri": "https://localhost:8080/"
        },
        "outputId": "22268094-509a-4a22-e452-5fd18b1194e2"
      },
      "outputs": [
        {
          "output_type": "execute_result",
          "data": {
            "text/plain": [
              "array([[0., 0., 0., 0., 0., 0., 0.],\n",
              "       [0., 1., 1., 1., 1., 1., 0.],\n",
              "       [0., 1., 1., 1., 1., 1., 0.],\n",
              "       [0., 1., 1., 1., 1., 1., 0.],\n",
              "       [0., 1., 1., 1., 1., 1., 0.],\n",
              "       [0., 1., 1., 1., 1., 1., 0.],\n",
              "       [0., 0., 0., 0., 0., 0., 0.]])"
            ]
          },
          "metadata": {},
          "execution_count": 20
        }
      ],
      "source": [
        "arr=np.ones((5,5))\n",
        "np.pad(arr,1,'constant',constant_values=0)"
      ]
    },
    {
      "cell_type": "markdown",
      "id": "ef909b72",
      "metadata": {
        "id": "ef909b72"
      },
      "source": [
        "#### 17. What is the result of the following expression? (★☆☆)\n",
        "```python\n",
        "0 * np.nan\n",
        "np.nan == np.nan\n",
        "np.inf > np.nan\n",
        "np.nan - np.nan\n",
        "np.nan in set([np.nan])\n",
        "0.3 == 3 * 0.1\n",
        "```"
      ]
    },
    {
      "cell_type": "code",
      "execution_count": null,
      "id": "3b4985f2",
      "metadata": {
        "id": "3b4985f2",
        "colab": {
          "base_uri": "https://localhost:8080/"
        },
        "outputId": "279ab895-6b20-429a-fb13-c69dcffe648e"
      },
      "outputs": [
        {
          "output_type": "execute_result",
          "data": {
            "text/plain": [
              "False"
            ]
          },
          "metadata": {},
          "execution_count": 21
        }
      ],
      "source": [
        "0 * np.nan\n",
        "np.nan == np.nan\n",
        "np.inf > np.nan\n",
        "np.nan - np.nan\n",
        "np.nan in set([np.nan])\n",
        "0.3 == 3 * 0.1"
      ]
    },
    {
      "cell_type": "markdown",
      "id": "502738ac",
      "metadata": {
        "id": "502738ac"
      },
      "source": [
        "#### 18. Create a 5x5 matrix with values 1,2,3,4 just below the diagonal (★☆☆)\n",
        "\n"
      ]
    },
    {
      "cell_type": "code",
      "execution_count": null,
      "id": "faed6e2b",
      "metadata": {
        "id": "faed6e2b",
        "colab": {
          "base_uri": "https://localhost:8080/"
        },
        "outputId": "59d3511c-f609-4303-de49-ec90beda82ce"
      },
      "outputs": [
        {
          "output_type": "stream",
          "name": "stdout",
          "text": [
            "[[0. 0. 0. 0. 0.]\n",
            " [1. 0. 0. 0. 0.]\n",
            " [2. 2. 0. 0. 0.]\n",
            " [3. 3. 3. 0. 0.]\n",
            " [4. 4. 4. 4. 0.]]\n"
          ]
        }
      ],
      "source": [
        "arr=np.zeros((5,5))\n",
        "for i in range(1,len(arr)):\n",
        "  for j in range(len(arr)-1):\n",
        "    if j<i:\n",
        "      arr[i][j]=i\n",
        "\n",
        "print(arr)\n"
      ]
    },
    {
      "cell_type": "markdown",
      "id": "a65da660",
      "metadata": {
        "id": "a65da660"
      },
      "source": [
        "#### 19. Create a 8x8 matrix and fill it with a checkerboard pattern (★☆☆)"
      ]
    },
    {
      "cell_type": "code",
      "execution_count": null,
      "id": "ed150400",
      "metadata": {
        "id": "ed150400",
        "colab": {
          "base_uri": "https://localhost:8080/"
        },
        "outputId": "53de020b-a613-4df8-d77d-8f25992f752a"
      },
      "outputs": [
        {
          "output_type": "stream",
          "name": "stdout",
          "text": [
            "[[1. 0. 1. 0. 1. 0. 1. 0.]\n",
            " [0. 1. 0. 1. 0. 1. 0. 1.]\n",
            " [1. 0. 1. 0. 1. 0. 1. 0.]\n",
            " [0. 1. 0. 1. 0. 1. 0. 1.]\n",
            " [1. 0. 1. 0. 1. 0. 1. 0.]\n",
            " [0. 1. 0. 1. 0. 1. 0. 1.]\n",
            " [1. 0. 1. 0. 1. 0. 1. 0.]\n",
            " [0. 1. 0. 1. 0. 1. 0. 1.]]\n"
          ]
        }
      ],
      "source": [
        "def IsEven(num):\n",
        "  if(num%2==0):\n",
        "    return True\n",
        "  return False\n",
        "\n",
        "arr=np.zeros((8,8))\n",
        "for i in range(len(arr)):\n",
        "  if (IsEven(i)):\n",
        "    j=0\n",
        "  else:\n",
        "    j=1\n",
        "  while(j in range(len(arr))):\n",
        "    arr[i][j]=1\n",
        "    j=j+2\n",
        "print(arr)"
      ]
    },
    {
      "cell_type": "markdown",
      "id": "9f7f9c49",
      "metadata": {
        "id": "9f7f9c49"
      },
      "source": [
        "#### 20. Consider a (6,7,8) shape array, what is the index (x,y,z) of the 100th element? (★☆☆)"
      ]
    },
    {
      "cell_type": "code",
      "execution_count": null,
      "id": "3782b5a9",
      "metadata": {
        "id": "3782b5a9",
        "colab": {
          "base_uri": "https://localhost:8080/"
        },
        "outputId": "a14ffeac-c537-4e1e-d226-1baa0a2a224d"
      },
      "outputs": [
        {
          "output_type": "stream",
          "name": "stdout",
          "text": [
            "The index of the 100th element is: (1, 5, 3)\n"
          ]
        }
      ],
      "source": [
        "shape=(6,7,8)\n",
        "arr=np.random.random((6,7,8))\n",
        "x, y, z = np.unravel_index(99, shape)\n",
        "print(f\"The index of the 100th element is: ({x}, {y}, {z})\")"
      ]
    },
    {
      "cell_type": "markdown",
      "id": "66bfda35",
      "metadata": {
        "id": "66bfda35"
      },
      "source": [
        "#### 21. Create a checkerboard 8x8 matrix using the tile function (★☆☆)"
      ]
    },
    {
      "cell_type": "code",
      "execution_count": null,
      "id": "4c07477c",
      "metadata": {
        "id": "4c07477c",
        "colab": {
          "base_uri": "https://localhost:8080/"
        },
        "outputId": "f4e1ee81-a562-489f-9d64-7696d6d852a6"
      },
      "outputs": [
        {
          "output_type": "stream",
          "name": "stdout",
          "text": [
            "[[0 1 0 1 0 1 0 1]\n",
            " [1 0 1 0 1 0 1 0]\n",
            " [0 1 0 1 0 1 0 1]\n",
            " [1 0 1 0 1 0 1 0]\n",
            " [0 1 0 1 0 1 0 1]\n",
            " [1 0 1 0 1 0 1 0]\n",
            " [0 1 0 1 0 1 0 1]\n",
            " [1 0 1 0 1 0 1 0]]\n"
          ]
        }
      ],
      "source": [
        "checkerboard = np.array([[0, 1], [1, 0]])\n",
        "full_checkerboard = np.tile(checkerboard, (4, 4))\n",
        "print(full_checkerboard)"
      ]
    },
    {
      "cell_type": "markdown",
      "id": "d5bcfc08",
      "metadata": {
        "id": "d5bcfc08"
      },
      "source": [
        "#### 22. Normalize a 5x5 random matrix (★☆☆)"
      ]
    },
    {
      "cell_type": "code",
      "execution_count": null,
      "id": "cea6c993",
      "metadata": {
        "id": "cea6c993",
        "colab": {
          "base_uri": "https://localhost:8080/"
        },
        "outputId": "95e82f9f-e4c2-4f73-818d-ac4de7cce782"
      },
      "outputs": [
        {
          "output_type": "stream",
          "name": "stdout",
          "text": [
            "[[0.07310452 0.90715358 0.00212628 0.73145552 0.00462097]\n",
            " [0.71491398 0.4934822  0.55285413 0.90715298 0.90702782]\n",
            " [0.63627073 0.8457846  0.13076112 0.60020364 0.61557134]\n",
            " [0.79927131 0.03805976 0.47644676 0.05794497 0.5102114 ]\n",
            " [0.91263395 0.7374991  0.11114367 0.9063497  0.34963265]]\n",
            "\n",
            " [[-1.38131092  1.19166239 -1.600273    0.64964819 -1.59257709]\n",
            " [ 0.59861889 -0.08448007  0.09867747  1.19166053  1.19127443]\n",
            " [ 0.35601087  1.00234407 -1.20344502  0.24474685  0.29215495]\n",
            " [ 0.85885438 -1.48942117 -0.13703301 -1.4280769  -0.03287188]\n",
            " [ 1.20856886  0.66829215 -1.26396324  1.18918247 -0.52824421]]\n"
          ]
        }
      ],
      "source": [
        "random_matrix = np.random.rand(5, 5)\n",
        "mean = random_matrix.mean()\n",
        "std = random_matrix.std()\n",
        "normalized_matrix = random_matrix - mean\n",
        "normalized_matrix /= std\n",
        "print(random_matrix)\n",
        "print('\\n',normalized_matrix)"
      ]
    },
    {
      "cell_type": "markdown",
      "id": "f9a0911e",
      "metadata": {
        "id": "f9a0911e"
      },
      "source": [
        "#### 23. Create a custom dtype that describes a color as four unsigned bytes (RGBA) (★☆☆)"
      ]
    },
    {
      "cell_type": "code",
      "execution_count": null,
      "id": "d165044b",
      "metadata": {
        "id": "d165044b",
        "colab": {
          "base_uri": "https://localhost:8080/"
        },
        "outputId": "ff77123c-bb42-412a-e8b9-13c41b12240c"
      },
      "outputs": [
        {
          "output_type": "stream",
          "name": "stdout",
          "text": [
            "(255, 128, 0, 255)\n"
          ]
        }
      ],
      "source": [
        "dtype_rgba = np.dtype('uint8, uint8, uint8, uint8')\n",
        "color = np.array((255, 128, 0, 255), dtype=dtype_rgba)\n",
        "print(color)"
      ]
    },
    {
      "cell_type": "markdown",
      "id": "654805b1",
      "metadata": {
        "id": "654805b1"
      },
      "source": [
        "#### 24. Multiply a 5x3 matrix by a 3x2 matrix (real matrix product) (★☆☆)"
      ]
    },
    {
      "cell_type": "code",
      "execution_count": null,
      "id": "6a42619f",
      "metadata": {
        "id": "6a42619f",
        "colab": {
          "base_uri": "https://localhost:8080/"
        },
        "outputId": "3dc5f210-9981-4b81-f52d-4872e0eb2778"
      },
      "outputs": [
        {
          "output_type": "stream",
          "name": "stdout",
          "text": [
            "Matrix 1:\n",
            " [[0.47516118 0.18158395 0.73180172]\n",
            " [0.88800317 0.16061395 0.50870622]\n",
            " [0.64818496 0.82904065 0.26900581]\n",
            " [0.02928891 0.30916344 0.17061428]\n",
            " [0.10775893 0.18497244 0.00613884]]\n",
            "\n",
            "Matrix 2:\n",
            " [[0.58831434 0.04501995]\n",
            " [0.68581953 0.3744079 ]\n",
            " [0.69040154 0.12186755]]\n",
            "\n",
            "Product:\n",
            " [[0.90931498 0.17856108]\n",
            " [0.98378874 0.16210777]\n",
            " [1.1356308  0.3723637 ]\n",
            " [0.34705378 0.13786417]\n",
            " [0.1944921  0.07485457]]\n"
          ]
        }
      ],
      "source": [
        "m1 = np.random.rand(5, 3)\n",
        "m2 = np.random.rand(3, 2)\n",
        "result = np.dot(m1, m2)\n",
        "print(\"Matrix 1:\\n\",m1)\n",
        "print(\"\\nMatrix 2:\\n\",m2)\n",
        "print(\"\\nProduct:\\n\",result)"
      ]
    },
    {
      "cell_type": "markdown",
      "id": "994c25df",
      "metadata": {
        "id": "994c25df"
      },
      "source": [
        "#### 25. Given a 1D array, negate all elements which are between 3 and 8, in place. (★☆☆)"
      ]
    },
    {
      "cell_type": "code",
      "execution_count": null,
      "id": "e4b39c03",
      "metadata": {
        "id": "e4b39c03",
        "colab": {
          "base_uri": "https://localhost:8080/"
        },
        "outputId": "b1d5f5fc-f12a-499c-85c4-42938d331cef"
      },
      "outputs": [
        {
          "output_type": "stream",
          "name": "stdout",
          "text": [
            "Original array:\n",
            "[ 1  2  3 -4 -5 -6 -7  8  9]\n"
          ]
        }
      ],
      "source": [
        "arr = np.array([1,2,3,4,5,6,7,8,9])\n",
        "mask = (arr > 3) & (arr < 8)  #exclusive\n",
        "arr[mask] = -arr[mask]\n",
        "print(\"Original array:\")\n",
        "print(arr)"
      ]
    },
    {
      "cell_type": "markdown",
      "id": "b7d15d1a",
      "metadata": {
        "id": "b7d15d1a"
      },
      "source": [
        "#### 26. What is the output of the following script? (★☆☆)\n",
        "```python\n",
        "# Author: Jake VanderPlas\n",
        "\n",
        "print(sum(range(5),-1))\n",
        "from numpy import *\n",
        "print(sum(range(5),-1))\n",
        "```"
      ]
    },
    {
      "cell_type": "code",
      "execution_count": null,
      "id": "4c95bc3f",
      "metadata": {
        "id": "4c95bc3f",
        "colab": {
          "base_uri": "https://localhost:8080/"
        },
        "outputId": "39b5080b-c242-4f9e-b402-7c93b48b5d6b"
      },
      "outputs": [
        {
          "output_type": "stream",
          "name": "stdout",
          "text": [
            "9\n",
            "10\n"
          ]
        }
      ],
      "source": [
        "print(sum(range(5),-1))\n",
        "from numpy import *\n",
        "print(sum(range(5),-1))"
      ]
    },
    {
      "cell_type": "markdown",
      "id": "a34f0d08",
      "metadata": {
        "id": "a34f0d08"
      },
      "source": [
        "#### 27. Consider an integer vector Z, which of these expressions are legal? (★☆☆)\n",
        "```python\n",
        "Z**Z\n",
        "2 << Z >> 2\n",
        "Z <- Z\n",
        "1j*Z\n",
        "Z/1/1\n",
        "Z<Z>Z\n",
        "```"
      ]
    },
    {
      "cell_type": "code",
      "execution_count": null,
      "id": "564658fc",
      "metadata": {
        "id": "564658fc"
      },
      "outputs": [],
      "source": [
        "Z**Z            #Legal\n",
        "2 << Z >> 2     #Legal\n",
        "Z <- Z          #Legal\n",
        "1j*Z            #Legal\n",
        "Z/1/1           #Legal\n",
        "Z<Z>Z           #Legal"
      ]
    },
    {
      "cell_type": "markdown",
      "id": "c34e94bf",
      "metadata": {
        "id": "c34e94bf"
      },
      "source": [
        "#### 28. What are the result of the following expressions? (★☆☆)\n",
        "```python\n",
        "np.array(0) / np.array(0)\n",
        "np.array(0) // np.array(0)\n",
        "np.array([np.nan]).astype(int).astype(float)\n",
        "```"
      ]
    },
    {
      "cell_type": "code",
      "execution_count": null,
      "id": "56663562",
      "metadata": {
        "id": "56663562",
        "colab": {
          "base_uri": "https://localhost:8080/"
        },
        "outputId": "3d255ded-e411-4a97-ec34-fce3fe135c9b"
      },
      "outputs": [
        {
          "output_type": "stream",
          "name": "stderr",
          "text": [
            "<ipython-input-31-cd809174da5d>:1: RuntimeWarning: invalid value encountered in true_divide\n",
            "  np.array(0) / np.array(0)\n",
            "<ipython-input-31-cd809174da5d>:2: RuntimeWarning: divide by zero encountered in floor_divide\n",
            "  np.array(0) // np.array(0)\n"
          ]
        },
        {
          "output_type": "execute_result",
          "data": {
            "text/plain": [
              "array([-9.22337204e+18])"
            ]
          },
          "metadata": {},
          "execution_count": 31
        }
      ],
      "source": [
        "np.array(0) / np.array(0)\n",
        "np.array(0) // np.array(0)\n",
        "np.array([np.nan]).astype(int).astype(float)"
      ]
    },
    {
      "cell_type": "markdown",
      "id": "546f5e7b",
      "metadata": {
        "id": "546f5e7b"
      },
      "source": [
        "#### 29. How to round away from zero a float array ? (★☆☆)"
      ]
    },
    {
      "cell_type": "code",
      "execution_count": null,
      "id": "f725a6d2",
      "metadata": {
        "id": "f725a6d2",
        "colab": {
          "base_uri": "https://localhost:8080/"
        },
        "outputId": "83e2e475-c532-40c6-f7fe-5ba48ac88534"
      },
      "outputs": [
        {
          "output_type": "stream",
          "name": "stdout",
          "text": [
            "[-4.  3. -2.  5.  1. -1.]\n"
          ]
        }
      ],
      "source": [
        "arr=[-3.2, 2.7, -1.5, 4.9, 0.3, -0.8]\n",
        "sign = np.sign(arr)\n",
        "rounded_abs_values = np.ceil(np.abs(arr))\n",
        "rounded_arr = rounded_abs_values * sign\n",
        "print(rounded_arr)"
      ]
    },
    {
      "cell_type": "markdown",
      "id": "eadca856",
      "metadata": {
        "id": "eadca856"
      },
      "source": [
        "#### 30. How to find common values between two arrays? (★☆☆)"
      ]
    },
    {
      "cell_type": "code",
      "execution_count": null,
      "id": "e0270b5b",
      "metadata": {
        "id": "e0270b5b",
        "colab": {
          "base_uri": "https://localhost:8080/"
        },
        "outputId": "5adba70b-4817-40e6-f06a-bcab96a921b8"
      },
      "outputs": [
        {
          "output_type": "stream",
          "name": "stdout",
          "text": [
            "[3 4 5]\n"
          ]
        }
      ],
      "source": [
        "arr1=[1, 2, 3, 4, 5]\n",
        "arr2=[3, 4, 5, 6, 7]\n",
        "common=np.intersect1d(arr1, arr2)\n",
        "print(common)"
      ]
    },
    {
      "cell_type": "markdown",
      "id": "ca16ca22",
      "metadata": {
        "id": "ca16ca22"
      },
      "source": [
        "#### 31. How to ignore all numpy warnings (not recommended)? (★☆☆)"
      ]
    },
    {
      "cell_type": "code",
      "execution_count": null,
      "id": "7d7208ef",
      "metadata": {
        "id": "7d7208ef"
      },
      "outputs": [],
      "source": [
        "import warnings\n",
        "warnings.filterwarnings(\"ignore\", category=np.VisibleDeprecationWarning)\n",
        "warnings.filterwarnings(\"ignore\", category=np.RankWarning)"
      ]
    },
    {
      "cell_type": "markdown",
      "id": "c7871d0d",
      "metadata": {
        "id": "c7871d0d"
      },
      "source": [
        "#### 32. Is the following expressions true? (★☆☆)\n",
        "```python\n",
        "np.sqrt(-1) == np.emath.sqrt(-1)\n",
        "```"
      ]
    },
    {
      "cell_type": "code",
      "execution_count": null,
      "id": "acc3701a",
      "metadata": {
        "id": "acc3701a",
        "colab": {
          "base_uri": "https://localhost:8080/"
        },
        "outputId": "75a9d41e-e203-436a-cf55-9173998c51dc"
      },
      "outputs": [
        {
          "output_type": "stream",
          "name": "stderr",
          "text": [
            "<ipython-input-35-16339fbc685e>:1: RuntimeWarning: invalid value encountered in sqrt\n",
            "  np.sqrt(-1) == np.emath.sqrt(-1)\n"
          ]
        },
        {
          "output_type": "execute_result",
          "data": {
            "text/plain": [
              "False"
            ]
          },
          "metadata": {},
          "execution_count": 35
        }
      ],
      "source": [
        "np.sqrt(-1) == np.emath.sqrt(-1)"
      ]
    },
    {
      "cell_type": "markdown",
      "id": "e0433e30",
      "metadata": {
        "id": "e0433e30"
      },
      "source": [
        "#### 33. How to get the dates of yesterday, today and tomorrow? (★☆☆)"
      ]
    },
    {
      "cell_type": "code",
      "execution_count": null,
      "id": "9c4d2152",
      "metadata": {
        "id": "9c4d2152",
        "colab": {
          "base_uri": "https://localhost:8080/"
        },
        "outputId": "4c103969-4505-4b04-ae5a-7a8650a559bf"
      },
      "outputs": [
        {
          "output_type": "stream",
          "name": "stdout",
          "text": [
            "Yesterday: 2023-07-23\n",
            "Today: 2023-07-24\n",
            "Tomorrow: 2023-07-25\n"
          ]
        }
      ],
      "source": [
        "from datetime import datetime, timedelta\n",
        "today = datetime.now().date()\n",
        "yesterday = today - timedelta(days=1)\n",
        "tomorrow = today + timedelta(days=1)\n",
        "print(\"Yesterday:\", yesterday)\n",
        "print(\"Today:\", today)\n",
        "print(\"Tomorrow:\", tomorrow)"
      ]
    },
    {
      "cell_type": "markdown",
      "id": "9f52a2ef",
      "metadata": {
        "id": "9f52a2ef"
      },
      "source": [
        "#### 34. How to get all the dates corresponding to the month of July 2016? (★★☆)"
      ]
    },
    {
      "cell_type": "code",
      "execution_count": null,
      "id": "d6c34dec",
      "metadata": {
        "id": "d6c34dec",
        "colab": {
          "base_uri": "https://localhost:8080/"
        },
        "outputId": "886b0f0e-527b-41f5-b6be-f5d984010dfa"
      },
      "outputs": [
        {
          "output_type": "stream",
          "name": "stdout",
          "text": [
            "2016-07-01\n",
            "2016-07-02\n",
            "2016-07-03\n",
            "2016-07-04\n",
            "2016-07-05\n",
            "2016-07-06\n",
            "2016-07-07\n",
            "2016-07-08\n",
            "2016-07-09\n",
            "2016-07-10\n",
            "2016-07-11\n",
            "2016-07-12\n",
            "2016-07-13\n",
            "2016-07-14\n",
            "2016-07-15\n",
            "2016-07-16\n",
            "2016-07-17\n",
            "2016-07-18\n",
            "2016-07-19\n",
            "2016-07-20\n",
            "2016-07-21\n",
            "2016-07-22\n",
            "2016-07-23\n",
            "2016-07-24\n",
            "2016-07-25\n",
            "2016-07-26\n",
            "2016-07-27\n",
            "2016-07-28\n",
            "2016-07-29\n",
            "2016-07-30\n",
            "2016-07-31\n"
          ]
        }
      ],
      "source": [
        "from datetime import datetime, timedelta\n",
        "\n",
        "def get_dates(year, month):\n",
        "    start_date = datetime(year, month, 1)\n",
        "    next_month = start_date.replace(day=28) + timedelta(days=4)  # Adding 4 days handles cases like January where 28 + 4 is February 1\n",
        "    last_day = next_month - timedelta(days=next_month.day)\n",
        "    all_dates = [start_date + timedelta(days=i) for i in range((last_day - start_date).days + 1)]\n",
        "    return all_dates\n",
        "\n",
        "july_2016_dates = get_dates(2016, 7)\n",
        "for date in july_2016_dates:\n",
        "    print(date.date())"
      ]
    },
    {
      "cell_type": "markdown",
      "id": "4a64e059",
      "metadata": {
        "id": "4a64e059"
      },
      "source": [
        "#### 35. How to compute ((A+B)*(-A/2)) in place (without copy)? (★★☆)"
      ]
    },
    {
      "cell_type": "code",
      "execution_count": null,
      "id": "49267f60",
      "metadata": {
        "id": "49267f60",
        "colab": {
          "base_uri": "https://localhost:8080/"
        },
        "outputId": "ccda26fd-90a7-41ab-8217-eb5c3ea95413"
      },
      "outputs": [
        {
          "output_type": "stream",
          "name": "stdout",
          "text": [
            "[-12.5 -24.5 -40.5]\n"
          ]
        }
      ],
      "source": [
        "A = np.array([1.0, 2.0, 3.0], dtype=float)\n",
        "B = np.array([4.0, 5.0, 6.0], dtype=float)\n",
        "A += B\n",
        "A *= -A / 2\n",
        "print(A)"
      ]
    },
    {
      "cell_type": "markdown",
      "id": "8a98c2a8",
      "metadata": {
        "id": "8a98c2a8"
      },
      "source": [
        "#### 36. Extract the integer part of a random array of positive numbers using 4 different methods (★★☆)"
      ]
    },
    {
      "cell_type": "code",
      "execution_count": null,
      "id": "368130b3",
      "metadata": {
        "id": "368130b3",
        "colab": {
          "base_uri": "https://localhost:8080/"
        },
        "outputId": "0ad4d9d8-fa84-40ed-9613-bb3742acd170"
      },
      "outputs": [
        {
          "output_type": "stream",
          "name": "stdout",
          "text": [
            "Original random array: [6.0646883  8.73145778 0.05216653 6.0077333  3.16672938]\n",
            "Integer part using floor: [6. 8. 0. 6. 3.]\n",
            "Integer part using trunc: [6. 8. 0. 6. 3.]\n",
            "Integer part using astype: [6 8 0 6 3]\n",
            "Integer part using int64: [6 8 0 6 3]\n"
          ]
        }
      ],
      "source": [
        "random_array = np.random.rand(5) * 10\n",
        "\n",
        "integer_part_floor = np.floor(random_array)\n",
        "integer_part_trunc = np.trunc(random_array)\n",
        "integer_part_astype = random_array.astype(int)\n",
        "integer_part_int64 = np.int64(random_array)\n",
        "\n",
        "print(\"Original random array:\", random_array)\n",
        "print(\"Integer part using floor:\", integer_part_floor)\n",
        "print(\"Integer part using trunc:\", integer_part_trunc)\n",
        "print(\"Integer part using astype:\", integer_part_astype)\n",
        "print(\"Integer part using int64:\", integer_part_int64)"
      ]
    },
    {
      "cell_type": "markdown",
      "id": "5a2e3d85",
      "metadata": {
        "id": "5a2e3d85"
      },
      "source": [
        "#### 37. Create a 5x5 matrix with row values ranging from 0 to 4 (★★☆)"
      ]
    },
    {
      "cell_type": "code",
      "execution_count": null,
      "id": "1d974e8f",
      "metadata": {
        "id": "1d974e8f",
        "colab": {
          "base_uri": "https://localhost:8080/"
        },
        "outputId": "10f10b34-bc4c-4d8f-9bd0-33a009aa0c0f"
      },
      "outputs": [
        {
          "output_type": "execute_result",
          "data": {
            "text/plain": [
              "array([[0, 1, 2, 3, 4],\n",
              "       [1, 2, 3, 4, 5],\n",
              "       [2, 3, 4, 5, 6],\n",
              "       [3, 4, 5, 6, 7],\n",
              "       [4, 5, 6, 7, 8]])"
            ]
          },
          "metadata": {},
          "execution_count": 40
        }
      ],
      "source": [
        "np.arange(5).reshape(-1, 1) + np.arange(5)"
      ]
    },
    {
      "cell_type": "markdown",
      "id": "9720e2d5",
      "metadata": {
        "id": "9720e2d5"
      },
      "source": [
        "#### 38. Consider a generator function that generates 10 integers and use it to build an array (★☆☆)"
      ]
    },
    {
      "cell_type": "code",
      "execution_count": null,
      "id": "e5dd8fc9",
      "metadata": {
        "id": "e5dd8fc9",
        "colab": {
          "base_uri": "https://localhost:8080/"
        },
        "outputId": "72816f4c-2b7b-400b-ab06-2de29ec8aacb"
      },
      "outputs": [
        {
          "output_type": "stream",
          "name": "stdout",
          "text": [
            "[0 1 2 3 4 5 6 7 8 9]\n"
          ]
        }
      ],
      "source": [
        "def integer_generator():\n",
        "    for i in range(10):\n",
        "        yield i\n",
        "\n",
        "arr = np.fromiter(integer_generator(), dtype=int)\n",
        "print(arr)"
      ]
    },
    {
      "cell_type": "markdown",
      "id": "c6f2c912",
      "metadata": {
        "id": "c6f2c912"
      },
      "source": [
        "#### 39. Create a vector of size 10 with values ranging from 0 to 1, both excluded (★★☆)"
      ]
    },
    {
      "cell_type": "code",
      "execution_count": null,
      "id": "6aaa27d3",
      "metadata": {
        "id": "6aaa27d3",
        "colab": {
          "base_uri": "https://localhost:8080/"
        },
        "outputId": "c7ce2006-5fee-463e-e138-c17d06dd3989"
      },
      "outputs": [
        {
          "output_type": "stream",
          "name": "stdout",
          "text": [
            "[0.  0.1 0.2 0.3 0.4 0.5 0.6 0.7 0.8 0.9]\n"
          ]
        }
      ],
      "source": [
        "vector = np.linspace(0, 1, 10, endpoint=False)\n",
        "print(vector)"
      ]
    },
    {
      "cell_type": "markdown",
      "id": "a36d6ee4",
      "metadata": {
        "id": "a36d6ee4"
      },
      "source": [
        "#### 40. Create a random vector of size 10 and sort it (★★☆)"
      ]
    },
    {
      "cell_type": "code",
      "execution_count": null,
      "id": "e589d216",
      "metadata": {
        "id": "e589d216",
        "colab": {
          "base_uri": "https://localhost:8080/"
        },
        "outputId": "5c1b1d63-8b73-41b9-fbd4-180ad8a06305"
      },
      "outputs": [
        {
          "output_type": "execute_result",
          "data": {
            "text/plain": [
              "array([0.13624004, 0.20385563, 0.26006515, 0.29332508, 0.35248655,\n",
              "       0.47458558, 0.64093921, 0.7269662 , 0.74439846, 0.97634058])"
            ]
          },
          "metadata": {},
          "execution_count": 43
        }
      ],
      "source": [
        "random_vector = np.random.rand(10)\n",
        "np.sort(random_vector)"
      ]
    },
    {
      "cell_type": "markdown",
      "id": "0fb4ad68",
      "metadata": {
        "id": "0fb4ad68"
      },
      "source": [
        "#### 41. How to sum a small array faster than np.sum? (★★☆)\n"
      ]
    },
    {
      "cell_type": "code",
      "execution_count": null,
      "id": "a1ba05a0",
      "metadata": {
        "id": "a1ba05a0",
        "colab": {
          "base_uri": "https://localhost:8080/"
        },
        "outputId": "326f0b7f-d6e7-4da2-f2c3-e8d89ccf7da7"
      },
      "outputs": [
        {
          "output_type": "stream",
          "name": "stdout",
          "text": [
            "Time taken by np.sum: 0.7883869990000107\n",
            "Time taken by built-in sum: 0.7476831129999937\n"
          ]
        }
      ],
      "source": [
        "import timeit\n",
        "arr = np.array([1, 2, 3, 4, 5])\n",
        "time_np = timeit.timeit(lambda: np.sum(arr), number=100000)\n",
        "time_builtin = timeit.timeit(lambda: sum(arr), number=100000)\n",
        "print(\"Time taken by np.sum:\", time_np)\n",
        "print(\"Time taken by built-in sum:\", time_builtin)"
      ]
    },
    {
      "cell_type": "markdown",
      "id": "024ac365",
      "metadata": {
        "id": "024ac365"
      },
      "source": [
        "#### 42. Consider two random array A and B, check if they are equal (★★☆)"
      ]
    },
    {
      "cell_type": "code",
      "execution_count": null,
      "id": "7db3846d",
      "metadata": {
        "id": "7db3846d",
        "colab": {
          "base_uri": "https://localhost:8080/"
        },
        "outputId": "4b33dba9-c65e-4fe3-d54e-bb8d440a8665"
      },
      "outputs": [
        {
          "output_type": "stream",
          "name": "stdout",
          "text": [
            "Array A: [-12.5 -24.5 -40.5]\n",
            "Array B: [4. 5. 6.]\n",
            "Are A and B equal? False\n"
          ]
        }
      ],
      "source": [
        "arr1=np.round(np.random.rand(5), 2)\n",
        "arr2=np.round(np.random.rand(5), 2)\n",
        "equal = np.array_equal(A, B)\n",
        "print(\"Array A:\", A)\n",
        "print(\"Array B:\", B)\n",
        "print(\"Are A and B equal?\",equal)"
      ]
    },
    {
      "cell_type": "markdown",
      "id": "c68d2401",
      "metadata": {
        "id": "c68d2401"
      },
      "source": [
        "#### 43. Make an array immutable (read-only) (★★☆)"
      ]
    },
    {
      "cell_type": "code",
      "execution_count": null,
      "id": "7828539d",
      "metadata": {
        "id": "7828539d",
        "colab": {
          "base_uri": "https://localhost:8080/"
        },
        "outputId": "38a33aa3-3105-4f7f-d5bb-ecb76a69d075"
      },
      "outputs": [
        {
          "output_type": "stream",
          "name": "stdout",
          "text": [
            "[1 2 3 4 5]\n"
          ]
        }
      ],
      "source": [
        "arr = np.array([1, 2, 3, 4, 5])\n",
        "arr.flags.writeable = False\n",
        "print(arr)"
      ]
    },
    {
      "cell_type": "markdown",
      "id": "55df6280",
      "metadata": {
        "id": "55df6280"
      },
      "source": [
        "#### 44. Consider a random 10x2 matrix representing cartesian coordinates, convert them to polar coordinates (★★☆)"
      ]
    },
    {
      "cell_type": "code",
      "execution_count": null,
      "id": "f1c86ea0",
      "metadata": {
        "id": "f1c86ea0",
        "colab": {
          "base_uri": "https://localhost:8080/"
        },
        "outputId": "b9e31a52-5f99-4f34-a6b6-eba8dca41d3a"
      },
      "outputs": [
        {
          "output_type": "stream",
          "name": "stdout",
          "text": [
            "Cartesian Coordinates:\n",
            " [[4.82092252e-01 2.99576186e-01]\n",
            " [5.18612909e-01 3.07729906e-03]\n",
            " [1.38647368e-01 8.55762424e-01]\n",
            " [4.58285978e-01 8.61328868e-01]\n",
            " [3.75474137e-01 4.25524649e-01]\n",
            " [3.01635852e-02 7.17713487e-01]\n",
            " [6.50608842e-01 6.58902144e-01]\n",
            " [6.50637749e-01 2.26720869e-02]\n",
            " [4.69729671e-01 7.54148590e-02]\n",
            " [5.40599255e-04 1.48593600e-03]]\n",
            "\n",
            "Polar Coordinates:\n",
            " [[0.56759037 0.55601244]\n",
            " [0.51862204 0.00593364]\n",
            " [0.86692123 1.41017582]\n",
            " [0.97566052 1.08182423]\n",
            " [0.5674963  0.84780216]\n",
            " [0.71834706 1.52879371]\n",
            " [0.92598267 0.79173121]\n",
            " [0.65103264 0.03483185]\n",
            " [0.47574506 0.15919099]\n",
            " [0.00158122 1.22187145]]\n"
          ]
        }
      ],
      "source": [
        "cartesian = np.random.rand(10, 2)\n",
        "r = np.hypot(cartesian[:, 0], cartesian[:, 1])\n",
        "theta = np.arctan2(cartesian[:, 1], cartesian[:, 0])\n",
        "polar = np.column_stack((r, theta))\n",
        "\n",
        "print(\"Cartesian Coordinates:\\n\", cartesian)\n",
        "print(\"\\nPolar Coordinates:\\n\",polar)"
      ]
    },
    {
      "cell_type": "markdown",
      "id": "2f60f1ec",
      "metadata": {
        "id": "2f60f1ec"
      },
      "source": [
        "#### 45. Create random vector of size 10 and replace the maximum value by 0 (★★☆)"
      ]
    },
    {
      "cell_type": "code",
      "execution_count": null,
      "id": "d9f48f1c",
      "metadata": {
        "id": "d9f48f1c",
        "colab": {
          "base_uri": "https://localhost:8080/"
        },
        "outputId": "8b306e08-9dd8-4bef-d896-3647ed19bfbc"
      },
      "outputs": [
        {
          "output_type": "stream",
          "name": "stdout",
          "text": [
            "[0.06096722 0.40575341 0.05398923 0.59998102 0.8561317  0.\n",
            " 0.35952137 0.0592676  0.19989047 0.62042438]\n"
          ]
        }
      ],
      "source": [
        "random_vector = np.random.rand(10)\n",
        "max_index = np.argmax(random_vector)\n",
        "random_vector[max_index] = 0\n",
        "print(random_vector)"
      ]
    },
    {
      "cell_type": "markdown",
      "id": "084e8ad4",
      "metadata": {
        "id": "084e8ad4"
      },
      "source": [
        "#### 46. Create a structured array with `x` and `y` coordinates covering the [0,1]x[0,1] area (★★☆)"
      ]
    },
    {
      "cell_type": "code",
      "execution_count": null,
      "id": "58b47c13",
      "metadata": {
        "id": "58b47c13",
        "colab": {
          "base_uri": "https://localhost:8080/"
        },
        "outputId": "9623451f-7893-45fd-f31f-6202efa6f837"
      },
      "outputs": [
        {
          "output_type": "stream",
          "name": "stdout",
          "text": [
            "[[0.  0. ]\n",
            " [0.5 0. ]\n",
            " [1.  0. ]\n",
            " [0.  0.5]\n",
            " [0.5 0.5]\n",
            " [1.  0.5]\n",
            " [0.  1. ]\n",
            " [0.5 1. ]\n",
            " [1.  1. ]]\n"
          ]
        }
      ],
      "source": [
        "num_points = 3\n",
        "x, y = np.meshgrid(np.linspace(0, 1, num_points), np.linspace(0, 1, num_points))\n",
        "coordinates = np.column_stack((x.ravel(), y.ravel()))\n",
        "print(coordinates)"
      ]
    },
    {
      "cell_type": "markdown",
      "id": "d7b9bc42",
      "metadata": {
        "id": "d7b9bc42"
      },
      "source": [
        "#### 47. Given two arrays, X and Y, construct the Cauchy matrix C (Cij =1/(xi - yj)) (★★☆)"
      ]
    },
    {
      "cell_type": "code",
      "execution_count": null,
      "id": "a24824fb",
      "metadata": {
        "id": "a24824fb",
        "colab": {
          "base_uri": "https://localhost:8080/"
        },
        "outputId": "b2919934-7150-4817-83b1-11f966b1b5fb"
      },
      "outputs": [
        {
          "output_type": "stream",
          "name": "stdout",
          "text": [
            "Cauchy Matrix:\n",
            " [[-0.25       -0.2        -0.16666667]\n",
            " [-0.33333333 -0.25       -0.2       ]\n",
            " [-0.5        -0.33333333 -0.25      ]\n",
            " [-1.         -0.5        -0.33333333]]\n"
          ]
        }
      ],
      "source": [
        "X = np.array([1, 2, 3, 4])\n",
        "Y = np.array([5, 6, 7])\n",
        "diff = X[:, np.newaxis] - Y\n",
        "C = 1.0 / diff\n",
        "print(\"Cauchy Matrix:\\n\", C)"
      ]
    },
    {
      "cell_type": "markdown",
      "id": "65ebc11b",
      "metadata": {
        "id": "65ebc11b"
      },
      "source": [
        "#### 48. Print the minimum and maximum representable value for each numpy scalar type (★★☆)"
      ]
    },
    {
      "cell_type": "code",
      "execution_count": null,
      "id": "e45d38fb",
      "metadata": {
        "id": "e45d38fb",
        "colab": {
          "base_uri": "https://localhost:8080/"
        },
        "outputId": "9cea32e1-7c1f-45e8-eac7-eadecaf712d1"
      },
      "outputs": [
        {
          "output_type": "stream",
          "name": "stdout",
          "text": [
            "Integer types:\n",
            "int8  : Min = -128, Max = 127\n",
            "uint8 : Min = 0, Max = 255\n",
            "int16 : Min = -32768, Max = 32767\n",
            "uint16: Min = 0, Max = 65535\n",
            "int32 : Min = -2147483648, Max = 2147483647\n",
            "uint32: Min = 0, Max = 4294967295\n",
            "int64 : Min = -9223372036854775808, Max = 9223372036854775807\n",
            "uint64: Min = 0, Max = 18446744073709551615\n",
            "\n",
            "Floating-point types:\n",
            "float16   : Min = -65504.0, Max = 65504.0\n",
            "float32   : Min = -3.4028234663852886e+38, Max = 3.4028234663852886e+38\n",
            "float64   : Min = -1.7976931348623157e+308, Max = 1.7976931348623157e+308\n",
            "float128  : Min = -inf, Max = inf\n"
          ]
        }
      ],
      "source": [
        "integer_types = [np.int8, np.uint8, np.int16, np.uint16, np.int32, np.uint32,np.int64, np.uint64]\n",
        "print(\"Integer types:\")\n",
        "for int_type in integer_types:\n",
        "    info = np.iinfo(int_type)\n",
        "    print(f\"{int_type.__name__:6}: Min = {info.min}, Max = {info.max}\")\n",
        "\n",
        "float_types = [np.float16, np.float32, np.float64, np.float128]\n",
        "print(\"\\nFloating-point types:\")\n",
        "for float_type in float_types:\n",
        "    info = np.finfo(float_type)\n",
        "    print(f\"{float_type.__name__:10}: Min = {info.min}, Max = {info.max}\")"
      ]
    },
    {
      "cell_type": "markdown",
      "id": "9b317a98",
      "metadata": {
        "id": "9b317a98"
      },
      "source": [
        "#### 49. How to print all the values of an array? (★★☆)"
      ]
    },
    {
      "cell_type": "code",
      "execution_count": null,
      "id": "309cdeb9",
      "metadata": {
        "id": "309cdeb9",
        "colab": {
          "base_uri": "https://localhost:8080/"
        },
        "outputId": "14c11ae7-590d-451a-bdb3-219b3f354c9c"
      },
      "outputs": [
        {
          "output_type": "stream",
          "name": "stdout",
          "text": [
            "[ 0  1  2  3  4  5  6  7  8  9 10 11 12 13 14 15 16 17 18 19 20 21 22 23\n",
            " 24 25 26 27 28 29]\n"
          ]
        }
      ],
      "source": [
        "arr = np.arange(30)\n",
        "np.set_printoptions(threshold=np.inf)\n",
        "print(arr)"
      ]
    },
    {
      "cell_type": "markdown",
      "id": "b580f9d0",
      "metadata": {
        "id": "b580f9d0"
      },
      "source": [
        "#### 50. How to find the closest value (to a given scalar) in a vector? (★★☆)"
      ]
    },
    {
      "cell_type": "code",
      "execution_count": null,
      "id": "ebfb6714",
      "metadata": {
        "id": "ebfb6714",
        "colab": {
          "base_uri": "https://localhost:8080/"
        },
        "outputId": "934ad113-4ca9-4f73-90d1-2b5339cb386e"
      },
      "outputs": [
        {
          "output_type": "stream",
          "name": "stdout",
          "text": [
            "Vector: [ 1  5  9 12 15]\n",
            "Given Scalar: 8\n",
            "Closest Value: 9\n"
          ]
        }
      ],
      "source": [
        "vector = np.array([1, 5, 9, 12, 15])\n",
        "given_scalar = 8\n",
        "abs_diff = np.abs(vector - given_scalar)\n",
        "closest_index = np.argmin(abs_diff)\n",
        "closest_value = vector[closest_index]\n",
        "print(\"Vector:\", vector)\n",
        "print(\"Given Scalar:\", given_scalar)\n",
        "print(\"Closest Value:\", closest_value)"
      ]
    },
    {
      "cell_type": "markdown",
      "id": "602e6252",
      "metadata": {
        "id": "602e6252"
      },
      "source": [
        "#### 51. Create a structured array representing a position (x,y) and a color (r,g,b) (★★☆)"
      ]
    },
    {
      "cell_type": "code",
      "execution_count": null,
      "id": "cf002b3a",
      "metadata": {
        "id": "cf002b3a",
        "colab": {
          "base_uri": "https://localhost:8080/"
        },
        "outputId": "288f48f7-7331-4b5d-c57a-6ad5f804d4d6"
      },
      "outputs": [
        {
          "output_type": "stream",
          "name": "stdout",
          "text": [
            "[(0.5, 1.2, 255,   0, 128) (1. , 2. ,   0, 128, 255)\n",
            " (2.2, 0.9, 128,  64, 192) (3.7, 3.5,  64, 192,   0)\n",
            " (4.1, 2.8, 192, 255,  64)]\n"
          ]
        }
      ],
      "source": [
        "dtype_positions = [('x', float), ('y', float)]\n",
        "dtype_colors = [('r', int), ('g', int), ('b', int)]\n",
        "structured_array = np.zeros(5, dtype=dtype_positions + dtype_colors)\n",
        "\n",
        "structured_array['x'] = [0.5, 1.0, 2.2, 3.7, 4.1]\n",
        "structured_array['y'] = [1.2, 2.0, 0.9, 3.5, 2.8]\n",
        "structured_array['r'] = [255, 0, 128, 64, 192]\n",
        "structured_array['g'] = [0, 128, 64, 192, 255]\n",
        "structured_array['b'] = [128, 255, 192, 0, 64]\n",
        "\n",
        "print(structured_array)"
      ]
    },
    {
      "cell_type": "markdown",
      "id": "78bcd92f",
      "metadata": {
        "id": "78bcd92f"
      },
      "source": [
        "#### 52. Consider a random vector with shape (100,2) representing coordinates, find point by point distances (★★☆)"
      ]
    },
    {
      "cell_type": "code",
      "execution_count": null,
      "id": "fea7f9a6",
      "metadata": {
        "id": "fea7f9a6",
        "colab": {
          "base_uri": "https://localhost:8080/"
        },
        "outputId": "6d32b9f1-dc88-4be2-a81f-173be4d55a01"
      },
      "outputs": [
        {
          "output_type": "stream",
          "name": "stdout",
          "text": [
            "[[0.         0.15178913 0.28833282 0.95142416 0.68847704]\n",
            " [0.15178913 0.         0.25041665 0.93378787 0.5999944 ]\n",
            " [0.28833282 0.25041665 0.         0.6842181  0.40948124]\n",
            " [0.95142416 0.93378787 0.6842181  0.         0.49157429]\n",
            " [0.68847704 0.5999944  0.40948124 0.49157429 0.        ]]\n"
          ]
        }
      ],
      "source": [
        "from scipy.spatial import distance\n",
        "random_vector = np.random.rand(5, 2)\n",
        "distances = distance.cdist(random_vector, random_vector)\n",
        "print(distances)"
      ]
    },
    {
      "cell_type": "markdown",
      "id": "343c5a85",
      "metadata": {
        "id": "343c5a85"
      },
      "source": [
        "#### 53. How to convert a float (32 bits) array into an integer (32 bits) in place?"
      ]
    },
    {
      "cell_type": "code",
      "execution_count": null,
      "id": "fc1b687b",
      "metadata": {
        "id": "fc1b687b",
        "colab": {
          "base_uri": "https://localhost:8080/"
        },
        "outputId": "503654ad-c817-4178-f5fc-28c41966029a"
      },
      "outputs": [
        {
          "output_type": "stream",
          "name": "stdout",
          "text": [
            "Float array: [1.5 2.7 3.9 4.1]\n",
            "Integer array: [1069547520 1076677837 1081711002 1082340147]\n",
            "Integer array: [1.5 2.7 3.9 4.1]\n"
          ]
        }
      ],
      "source": [
        "float_array = np.array([1.5, 2.7, 3.9, 4.1], dtype=np.float32)\n",
        "int_array = float_array.view(np.int32)[:]\n",
        "\n",
        "print(\"Float array:\", float_array)\n",
        "print(\"Integer array:\", int_array)\n",
        "\n",
        "#float_array.view(np.int32)[:] = float_array #in place change\n",
        "print('Integer array:',float_array)"
      ]
    },
    {
      "cell_type": "markdown",
      "id": "a69e1ace",
      "metadata": {
        "id": "a69e1ace"
      },
      "source": [
        "#### 54. How to read the following file? (★★☆)\n",
        "```\n",
        "1, 2, 3, 4, 5\n",
        "6,  ,  , 7, 8\n",
        " ,  , 9,10,11\n",
        "```"
      ]
    },
    {
      "cell_type": "code",
      "execution_count": null,
      "id": "1c7957d4",
      "metadata": {
        "id": "1c7957d4"
      },
      "outputs": [],
      "source": [
        "data = np.genfromtxt('data.txt', delimiter=',', filling_values=np.nan)\n",
        "print(data)"
      ]
    },
    {
      "cell_type": "markdown",
      "id": "c23bd80d",
      "metadata": {
        "id": "c23bd80d"
      },
      "source": [
        "#### 55. What is the equivalent of enumerate for numpy arrays? (★★☆)"
      ]
    },
    {
      "cell_type": "code",
      "execution_count": null,
      "id": "d95d9578",
      "metadata": {
        "id": "d95d9578",
        "colab": {
          "base_uri": "https://localhost:8080/"
        },
        "outputId": "ab02c7c0-f1f2-4df0-efd6-6ffc03d52dd7"
      },
      "outputs": [
        {
          "output_type": "stream",
          "name": "stdout",
          "text": [
            "Index: (0, 0), Value: 1\n",
            "Index: (0, 1), Value: 2\n",
            "Index: (0, 2), Value: 3\n",
            "Index: (1, 0), Value: 4\n",
            "Index: (1, 1), Value: 5\n",
            "Index: (1, 2), Value: 6\n",
            "Index: (2, 0), Value: 7\n",
            "Index: (2, 1), Value: 8\n",
            "Index: (2, 2), Value: 9\n"
          ]
        }
      ],
      "source": [
        "arr = np.array([[1, 2, 3], [4, 5, 6], [7, 8, 9]])\n",
        "for index, value in np.ndenumerate(arr):\n",
        "    print(f\"Index: {index}, Value: {value}\")"
      ]
    },
    {
      "cell_type": "markdown",
      "id": "2153a5ec",
      "metadata": {
        "id": "2153a5ec"
      },
      "source": [
        "#### 56. Generate a generic 2D Gaussian-like array (★★☆)"
      ]
    },
    {
      "cell_type": "code",
      "execution_count": null,
      "id": "61122d1e",
      "metadata": {
        "id": "61122d1e",
        "colab": {
          "base_uri": "https://localhost:8080/",
          "height": 472
        },
        "outputId": "91e4ec7b-8bb9-489b-d85d-f7844313bc7c"
      },
      "outputs": [
        {
          "output_type": "display_data",
          "data": {
            "text/plain": [
              "<Figure size 640x480 with 2 Axes>"
            ],
            "image/png": "[encoded data removed]"
          },
          "metadata": {}
        }
      ],
      "source": [
        "import matplotlib.pyplot as plt\n",
        "\n",
        "def gaussian_2d(x, y, A, x0, y0, sigma_x, sigma_y):\n",
        "    return A * np.exp(-(x - x0)**2 / (2 * sigma_x**2) - (y - y0)**2 / (2 * sigma_y**2))\n",
        "\n",
        "size_x, size_y = 100, 100\n",
        "x, y = np.meshgrid(np.linspace(-1, 1, size_x), np.linspace(-1, 1, size_y))\n",
        "\n",
        "A = 1.0  # Amplitude\n",
        "x0, y0 = 0.0, 0.0  # Center of the Gaussian\n",
        "sigma_x, sigma_y = 0.5, 0.3  # Standard deviations\n",
        "\n",
        "gaussian_array = gaussian_2d(x, y, A, x0, y0, sigma_x, sigma_y)\n",
        "gaussian_array /= np.max(gaussian_array)\n",
        "\n",
        "#print(gaussian_array)\n",
        "\n",
        "# Plot the Gaussian-like array\n",
        "plt.imshow(gaussian_array, cmap='viridis', extent=[-1, 1, -1, 1])\n",
        "plt.colorbar()\n",
        "plt.title('2D Gaussian-like Array')\n",
        "plt.xlabel('x')\n",
        "plt.ylabel('y')\n",
        "plt.show()"
      ]
    },
    {
      "cell_type": "markdown",
      "id": "2e76d589",
      "metadata": {
        "id": "2e76d589"
      },
      "source": [
        "#### 57. How to randomly place p elements in a 2D array? (★★☆)"
      ]
    },
    {
      "cell_type": "code",
      "execution_count": null,
      "id": "0c2e4fcc",
      "metadata": {
        "id": "0c2e4fcc",
        "colab": {
          "base_uri": "https://localhost:8080/"
        },
        "outputId": "6381a8b2-087f-428d-9776-b37876613042"
      },
      "outputs": [
        {
          "output_type": "stream",
          "name": "stdout",
          "text": [
            "[[3 1 1]\n",
            " [1 1 3]\n",
            " [1 1 1]]\n"
          ]
        }
      ],
      "source": [
        "def randomly_place_elements_2d(array, p, element_value):\n",
        "    rows, cols = array.shape\n",
        "    total_elements = rows * cols\n",
        "    random_indices = np.random.choice(total_elements, p, replace=False)\n",
        "    row_indices, col_indices = np.unravel_index(random_indices, (rows, cols))\n",
        "    array[row_indices, col_indices] = element_value\n",
        "\n",
        "array = np.ones((3, 3), dtype=int)\n",
        "p = 2\n",
        "element_value = 3\n",
        "randomly_place_elements_2d(array, p, element_value)\n",
        "\n",
        "print(array)"
      ]
    },
    {
      "cell_type": "markdown",
      "id": "8b3933eb",
      "metadata": {
        "id": "8b3933eb"
      },
      "source": [
        "#### 58. Subtract the mean of each row of a matrix (★★☆)"
      ]
    },
    {
      "cell_type": "code",
      "execution_count": null,
      "id": "a306c9ef",
      "metadata": {
        "id": "a306c9ef",
        "colab": {
          "base_uri": "https://localhost:8080/"
        },
        "outputId": "156cb382-60fe-4632-e242-3ad770e0df6a"
      },
      "outputs": [
        {
          "output_type": "stream",
          "name": "stdout",
          "text": [
            "Matrix:\n",
            " [[ 1  2  3  4]\n",
            " [ 5  6  7  8]\n",
            " [ 9 10 11 12]]\n",
            "\n",
            "Row Means:\n",
            " [[ 2.5]\n",
            " [ 6.5]\n",
            " [10.5]]\n",
            "\n",
            "Centered Matrix:\n",
            " [[-1.5 -0.5  0.5  1.5]\n",
            " [-1.5 -0.5  0.5  1.5]\n",
            " [-1.5 -0.5  0.5  1.5]]\n"
          ]
        }
      ],
      "source": [
        "matrix = np.array([[1, 2, 3, 4], [5, 6, 7, 8], [9, 10, 11, 12]])\n",
        "row_means = np.mean(matrix, axis=1, keepdims=True)\n",
        "centered_matrix = matrix - row_means\n",
        "print(\"Matrix:\\n\",matrix)\n",
        "print(\"\\nRow Means:\\n\",row_means)\n",
        "print(\"\\nCentered Matrix:\\n\",centered_matrix)"
      ]
    },
    {
      "cell_type": "markdown",
      "id": "ea8807c0",
      "metadata": {
        "id": "ea8807c0"
      },
      "source": [
        "#### 59. How to sort an array by the nth column? (★★☆)"
      ]
    },
    {
      "cell_type": "code",
      "execution_count": null,
      "id": "cc89a699",
      "metadata": {
        "id": "cc89a699",
        "colab": {
          "base_uri": "https://localhost:8080/"
        },
        "outputId": "0ba6cb40-18d7-456c-b5e0-acbfdee51f3d"
      },
      "outputs": [
        {
          "output_type": "stream",
          "name": "stdout",
          "text": [
            "Original Array:\n",
            " [[3 1 5]\n",
            " [2 4 6]\n",
            " [9 8 7]]\n",
            "\n",
            "Sorted Array by the nth column:\n",
            " [[3 1 5]\n",
            " [2 4 6]\n",
            " [9 8 7]]\n"
          ]
        }
      ],
      "source": [
        "array = np.array([[3, 1, 5], [2, 4, 6], [9, 8, 7]])\n",
        "n = 1\n",
        "sorted_indices = np.argsort(array[:, n])\n",
        "sorted_array = array[sorted_indices]\n",
        "\n",
        "print(\"Original Array:\\n\", array)\n",
        "print(\"\\nSorted Array by the nth column:\\n\",sorted_array)"
      ]
    },
    {
      "cell_type": "markdown",
      "id": "00fa00a1",
      "metadata": {
        "id": "00fa00a1"
      },
      "source": [
        "#### 60. How to tell if a given 2D array has null columns? (★★☆)"
      ]
    },
    {
      "cell_type": "code",
      "execution_count": null,
      "id": "3436e165",
      "metadata": {
        "id": "3436e165",
        "colab": {
          "base_uri": "https://localhost:8080/"
        },
        "outputId": "fdece0eb-9667-4d21-8d1f-f6187ee94c27"
      },
      "outputs": [
        {
          "output_type": "stream",
          "name": "stdout",
          "text": [
            "Original Array:\n",
            " [[1 0 3]\n",
            " [0 0 0]\n",
            " [4 0 6]]\n",
            "\n",
            "Null Columns:\n",
            " [False  True False]\n"
          ]
        }
      ],
      "source": [
        "def has_null_columns(array):\n",
        "    return np.all(array == 0, axis=0)\n",
        "array = np.array([[1, 0, 3], [0, 0, 0], [4, 0, 6]])\n",
        "null_columns = has_null_columns(array)\n",
        "print(\"Original Array:\\n\",array)\n",
        "print(\"\\nNull Columns:\\n\",null_columns)"
      ]
    },
    {
      "cell_type": "markdown",
      "id": "5a65c7a2",
      "metadata": {
        "id": "5a65c7a2"
      },
      "source": [
        "#### 61. Find the nearest value from a given value in an array (★★☆)"
      ]
    },
    {
      "cell_type": "code",
      "execution_count": null,
      "id": "73f149d6",
      "metadata": {
        "id": "73f149d6",
        "colab": {
          "base_uri": "https://localhost:8080/"
        },
        "outputId": "3c0bd209-ec8e-4508-9669-44ccfad2d706"
      },
      "outputs": [
        {
          "output_type": "stream",
          "name": "stdout",
          "text": [
            "Array: [ 1  4  8 10 12]\n",
            "Given Value: 7\n",
            "Nearest Value: 8\n"
          ]
        }
      ],
      "source": [
        "def find_nearest_value(array, value):\n",
        "    idx = np.abs(array - value).argmin()\n",
        "    return array[idx]\n",
        "\n",
        "arr = np.array([1, 4, 8, 10, 12])\n",
        "given_value = 7\n",
        "nearest_value = find_nearest_value(arr, given_value)\n",
        "\n",
        "print(\"Array:\", arr)\n",
        "print(\"Given Value:\", given_value)\n",
        "print(\"Nearest Value:\", nearest_value)"
      ]
    },
    {
      "cell_type": "markdown",
      "id": "dd83e8af",
      "metadata": {
        "id": "dd83e8af"
      },
      "source": [
        "#### 62. Considering two arrays with shape (1,3) and (3,1), how to compute their sum using an iterator? (★★☆)"
      ]
    },
    {
      "cell_type": "code",
      "execution_count": null,
      "id": "29a709a1",
      "metadata": {
        "id": "29a709a1",
        "colab": {
          "base_uri": "https://localhost:8080/"
        },
        "outputId": "440331ba-f980-48d7-dc80-21cffa0c5c2f"
      },
      "outputs": [
        {
          "output_type": "stream",
          "name": "stdout",
          "text": [
            "Array 1:\n",
            " [[1 2 3]]\n",
            "\n",
            "Array 2:\n",
            " [[4]\n",
            " [5]\n",
            " [6]]\n",
            "\n",
            "Sum of the arrays using an iterator: 21\n"
          ]
        }
      ],
      "source": [
        "arr1 = np.array([[1, 2, 3]])\n",
        "arr2 = np.array([[4], [5], [6]])\n",
        "\n",
        "result = 0\n",
        "for a, b in zip(arr1[0], arr2[:, 0]):\n",
        "    result += a + b\n",
        "\n",
        "print(\"Array 1:\\n\",arr1)\n",
        "print(\"\\nArray 2:\\n\",arr2)\n",
        "print(\"\\nSum of the arrays using an iterator:\", result)"
      ]
    },
    {
      "cell_type": "markdown",
      "id": "6c042efa",
      "metadata": {
        "id": "6c042efa"
      },
      "source": [
        "#### 63. Create an array class that has a name attribute (★★☆)"
      ]
    },
    {
      "cell_type": "code",
      "execution_count": null,
      "id": "45b3d2e0",
      "metadata": {
        "id": "45b3d2e0",
        "colab": {
          "base_uri": "https://localhost:8080/"
        },
        "outputId": "86de7230-0ee2-4607-9766-d32225fa002f"
      },
      "outputs": [
        {
          "output_type": "stream",
          "name": "stdout",
          "text": [
            "Named Array: Example Array\n",
            "[1, 2, 3, 4, 5]\n",
            "Sum: 15\n"
          ]
        }
      ],
      "source": [
        "class NamedArray:\n",
        "    def __init__(self, name, data):\n",
        "        self.name = name\n",
        "        self.data = data\n",
        "\n",
        "    def __repr__(self):\n",
        "        return f\"NamedArray('{self.name}', {self.data})\"\n",
        "\n",
        "    def __str__(self):\n",
        "        return f\"Named Array: {self.name}\\n{self.data}\"\n",
        "\n",
        "    def sum(self):\n",
        "        return sum(self.data)\n",
        "\n",
        "data_array = [1, 2, 3, 4, 5]\n",
        "name = \"Example Array\"\n",
        "named_array = NamedArray(name, data_array)\n",
        "\n",
        "print(named_array)\n",
        "print(\"Sum:\", named_array.sum())"
      ]
    },
    {
      "cell_type": "markdown",
      "id": "0a075c3d",
      "metadata": {
        "id": "0a075c3d"
      },
      "source": [
        "#### 64. Consider a given vector, how to add 1 to each element indexed by a second vector (be careful with repeated indices)? (★★★)"
      ]
    },
    {
      "cell_type": "code",
      "execution_count": null,
      "id": "36c50470",
      "metadata": {
        "id": "36c50470",
        "colab": {
          "base_uri": "https://localhost:8080/"
        },
        "outputId": "57da5710-825a-42fa-b1b1-2459e4b9ef1e"
      },
      "outputs": [
        {
          "output_type": "stream",
          "name": "stdout",
          "text": [
            "Original Vector: [11 22 31 43 50]\n",
            "Indices Vector: [1 3 0 3 2 1 3]\n",
            "Resulting Vector: [11 22 31 43 50]\n"
          ]
        }
      ],
      "source": [
        "def add_to_elements_by_index(vector, indices):\n",
        "    unique_indices, index_counts = np.unique(indices, return_counts=True)\n",
        "    vector[unique_indices] += index_counts\n",
        "    return vector\n",
        "\n",
        "vector = np.array([10, 20, 30, 40, 50])\n",
        "indices = np.array([1, 3, 0, 3, 2, 1, 3])\n",
        "result_vector = add_to_elements_by_index(vector, indices)\n",
        "\n",
        "print(\"Original Vector:\", vector)\n",
        "print(\"Indices Vector:\", indices)\n",
        "print(\"Resulting Vector:\", result_vector)"
      ]
    },
    {
      "cell_type": "markdown",
      "id": "0fb2f0c5",
      "metadata": {
        "id": "0fb2f0c5"
      },
      "source": [
        "#### 65. How to accumulate elements of a vector (X) to an array (F) based on an index list (I)? (★★★)"
      ]
    },
    {
      "cell_type": "code",
      "execution_count": null,
      "id": "58aa5f82",
      "metadata": {
        "id": "58aa5f82",
        "colab": {
          "base_uri": "https://localhost:8080/"
        },
        "outputId": "8cccf82f-40d2-489f-a4d1-33236e384d73"
      },
      "outputs": [
        {
          "output_type": "stream",
          "name": "stdout",
          "text": [
            "Vector X: [0 3 2 4 3 5]\n",
            "Index List I: [1 2 3 4 5]\n",
            "Initial Array F: [1. 1. 1. 1. 1.]\n",
            "Resulting Array F after accumulation: None\n"
          ]
        }
      ],
      "source": [
        "def accumulate_elements_by_index(X, I, F):\n",
        "    np.add.at(X,I,F)\n",
        "\n",
        "X = np.array([0, 2, 1, 3, 2, 4])\n",
        "I = np.array([1, 2, 3, 4, 5])\n",
        "F = np.ones(5)\n",
        "result_array = accumulate_elements_by_index(X, I, F)\n",
        "\n",
        "print(\"Vector X:\", X)\n",
        "print(\"Index List I:\", I)\n",
        "print(\"Initial Array F:\", F)\n",
        "print(\"Resulting Array F after accumulation:\", result_array)"
      ]
    },
    {
      "cell_type": "markdown",
      "id": "d89dc506",
      "metadata": {
        "id": "d89dc506"
      },
      "source": [
        "#### 66. Considering a (w,h,3) image of (dtype=ubyte), compute the number of unique colors (★★☆)"
      ]
    },
    {
      "cell_type": "code",
      "execution_count": null,
      "id": "8fb43a49",
      "metadata": {
        "id": "8fb43a49",
        "colab": {
          "base_uri": "https://localhost:8080/"
        },
        "outputId": "9095a8d3-1db7-4736-b7e1-0affa52e6883"
      },
      "outputs": [
        {
          "output_type": "stream",
          "name": "stdout",
          "text": [
            "Image:\n",
            " [[[199 132  77]\n",
            "  [ 99 176 210]\n",
            "  [229 239 193]]\n",
            "\n",
            " [[139 118 181]\n",
            "  [ 67  93  78]\n",
            "  [121  33 223]]\n",
            "\n",
            " [[219 231 201]\n",
            "  [ 14 139 141]\n",
            "  [ 81  95 228]]]\n",
            "Number of Unique Colors: 9\n"
          ]
        }
      ],
      "source": [
        "def count_unique_colors(image):\n",
        "    flat_image = image.reshape(-1, 3)\n",
        "    unique_colors = np.unique(flat_image, axis=0)\n",
        "    return len(unique_colors)\n",
        "\n",
        "w, h = 3, 3\n",
        "image = np.random.randint(0, 256, (w, h, 3), dtype=np.uint8)\n",
        "num_unique_colors = count_unique_colors(image)\n",
        "\n",
        "print(\"Image:\\n\",image)\n",
        "print(\"Number of Unique Colors:\", num_unique_colors)"
      ]
    },
    {
      "cell_type": "markdown",
      "id": "535a5d81",
      "metadata": {
        "id": "535a5d81"
      },
      "source": [
        "#### 67. Considering a four dimensions array, how to get sum over the last two axis at once? (★★★)"
      ]
    },
    {
      "cell_type": "code",
      "execution_count": null,
      "id": "f954ab9d",
      "metadata": {
        "id": "f954ab9d",
        "colab": {
          "base_uri": "https://localhost:8080/"
        },
        "outputId": "9810b02f-6b96-4a4f-b872-1e4f5c4566be"
      },
      "outputs": [
        {
          "output_type": "stream",
          "name": "stdout",
          "text": [
            "Original 4D Array:\n",
            " [[[[1 2 3 2 0]\n",
            "   [2 0 0 3 2]\n",
            "   [1 2 1 0 3]\n",
            "   [2 0 3 1 3]]\n",
            "\n",
            "  [[0 2 0 1 1]\n",
            "   [1 3 1 0 0]\n",
            "   [3 2 3 2 1]\n",
            "   [1 1 0 0 1]]\n",
            "\n",
            "  [[1 2 3 3 2]\n",
            "   [0 3 3 1 1]\n",
            "   [1 0 3 1 0]\n",
            "   [1 3 2 3 2]]]\n",
            "\n",
            "\n",
            " [[[1 2 3 1 1]\n",
            "   [1 3 2 3 0]\n",
            "   [2 3 2 1 1]\n",
            "   [2 0 2 3 2]]\n",
            "\n",
            "  [[3 1 2 0 0]\n",
            "   [0 2 1 1 1]\n",
            "   [3 1 0 1 2]\n",
            "   [2 0 0 2 0]]\n",
            "\n",
            "  [[1 1 2 2 0]\n",
            "   [2 3 3 0 3]\n",
            "   [2 2 2 1 1]\n",
            "   [2 0 3 1 3]]]]\n",
            "Sum over the Last Two Axes:\n",
            " [[31 23 35]\n",
            " [35 22 34]]\n"
          ]
        }
      ],
      "source": [
        "array_4d = np.random.randint(0, 4, size=(2, 3, 4, 5))\n",
        "sum_last_two_axes = np.sum(array_4d, axis=(-2, -1))\n",
        "\n",
        "print(\"Original 4D Array:\\n\",array_4d)\n",
        "print(\"Sum over the Last Two Axes:\\n\",sum_last_two_axes)"
      ]
    },
    {
      "cell_type": "markdown",
      "id": "eee66d3c",
      "metadata": {
        "id": "eee66d3c"
      },
      "source": [
        "#### 68. Considering a one-dimensional vector D, how to compute means of subsets of D using a vector S of same size describing subset  indices? (★★★)"
      ]
    },
    {
      "cell_type": "code",
      "execution_count": null,
      "id": "8929773a",
      "metadata": {
        "id": "8929773a",
        "colab": {
          "base_uri": "https://localhost:8080/"
        },
        "outputId": "6f4f0037-e4c5-4d0c-f90c-33c377ddc976"
      },
      "outputs": [
        {
          "output_type": "stream",
          "name": "stdout",
          "text": [
            "Vector D: [ 1  2  3  4  5  6  7  8  9 10]\n",
            "Vector S: [0 0 1 1 1 2 2 3 3 3]\n",
            "Means of Subsets of D: [1.5 4.  6.5 9. ]\n"
          ]
        }
      ],
      "source": [
        "def compute_means_by_subset(D, S):\n",
        "    unique_indices, inverse_indices, counts = np.unique(S, return_inverse=True, return_counts=True)\n",
        "    sums = np.bincount(inverse_indices, weights=D)\n",
        "    means = sums / counts\n",
        "    return means\n",
        "\n",
        "D = np.array([1, 2, 3, 4, 5, 6, 7, 8, 9, 10])\n",
        "S = np.array([0, 0, 1, 1, 1, 2, 2, 3, 3, 3])\n",
        "means_by_subset = compute_means_by_subset(D, S)\n",
        "\n",
        "print(\"Vector D:\", D)\n",
        "print(\"Vector S:\", S)\n",
        "print(\"Means of Subsets of D:\", means_by_subset)"
      ]
    },
    {
      "cell_type": "markdown",
      "id": "f90d4c40",
      "metadata": {
        "id": "f90d4c40"
      },
      "source": [
        "#### 69. How to get the diagonal of a dot product? (★★★)"
      ]
    },
    {
      "cell_type": "code",
      "execution_count": null,
      "id": "b47d392d",
      "metadata": {
        "id": "b47d392d",
        "colab": {
          "base_uri": "https://localhost:8080/"
        },
        "outputId": "d8e559d8-37c8-4c3e-e9c9-f58f8a7a2ff2"
      },
      "outputs": [
        {
          "output_type": "stream",
          "name": "stdout",
          "text": [
            "Matrix A:\n",
            " [[1 2 3]\n",
            " [4 5 6]]\n",
            "Matrix B:\n",
            " [[ 7  8]\n",
            " [ 9 10]\n",
            " [11 12]]\n",
            "Dot Product (A * B):\n",
            " [[ 58  64]\n",
            " [139 154]]\n",
            "Diagonal of the Dot Product:\n",
            " [ 58 154]\n"
          ]
        }
      ],
      "source": [
        "A = np.array([[1, 2, 3], [4, 5, 6]])\n",
        "B = np.array([[7, 8], [9, 10], [11, 12]])\n",
        "dot_product = np.dot(A, B)\n",
        "diagonal_dot_product = np.diagonal(dot_product)\n",
        "\n",
        "print(\"Matrix A:\\n\",A)\n",
        "print(\"Matrix B:\\n\",B)\n",
        "print(\"Dot Product (A * B):\\n\",dot_product)\n",
        "print(\"Diagonal of the Dot Product:\\n\",diagonal_dot_product)"
      ]
    },
    {
      "cell_type": "markdown",
      "id": "a8a97e7d",
      "metadata": {
        "id": "a8a97e7d"
      },
      "source": [
        "#### 70. Consider the vector [1, 2, 3, 4, 5], how to build a new vector with 3 consecutive zeros interleaved between each value? (★★★)"
      ]
    },
    {
      "cell_type": "code",
      "execution_count": null,
      "id": "ee6c6c37",
      "metadata": {
        "id": "ee6c6c37",
        "colab": {
          "base_uri": "https://localhost:8080/"
        },
        "outputId": "a556725e-7b8f-469e-dbf4-80e5c6f2f814"
      },
      "outputs": [
        {
          "output_type": "stream",
          "name": "stdout",
          "text": [
            "Original Vector: [1 2 3 4 5]\n",
            "New Vector: [1. 0. 0. 0. 2. 0. 0. 0. 3. 0. 0. 0. 4. 0. 0. 0. 5. 0. 0. 0.]\n"
          ]
        }
      ],
      "source": [
        "original_vector = np.array([1, 2, 3, 4, 5])\n",
        "num_zeros = 3\n",
        "new_vector = np.hstack((original_vector[:, np.newaxis], np.zeros((original_vector.size, num_zeros)))).flatten()\n",
        "\n",
        "print(\"Original Vector:\", original_vector)\n",
        "print(\"New Vector:\", new_vector)"
      ]
    },
    {
      "cell_type": "markdown",
      "id": "d6a30d60",
      "metadata": {
        "id": "d6a30d60"
      },
      "source": [
        "#### 71. Consider an array of dimension (5,5,3), how to mulitply it by an array with dimensions (5,5)? (★★★)"
      ]
    },
    {
      "cell_type": "code",
      "execution_count": null,
      "id": "e9703f2e",
      "metadata": {
        "id": "e9703f2e",
        "colab": {
          "base_uri": "https://localhost:8080/"
        },
        "outputId": "2286ecf2-3d24-42eb-e328-cce3d66d2d85"
      },
      "outputs": [
        {
          "output_type": "stream",
          "name": "stdout",
          "text": [
            "3-dimensional Array (shape (5, 5, 3)):\n",
            "[[[0.73477884 0.21796939 0.82730737]\n",
            "  [0.16776755 0.31125562 0.83233171]\n",
            "  [0.50359814 0.90672243 0.17854361]\n",
            "  [0.39650643 0.69067581 0.09465061]\n",
            "  [0.95200082 0.56654171 0.90092952]]\n",
            "\n",
            " [[0.51031554 0.49577252 0.00869375]\n",
            "  [0.62580872 0.9376241  0.36701304]\n",
            "  [0.35882531 0.57812456 0.88098318]\n",
            "  [0.42132164 0.38349064 0.5501958 ]\n",
            "  [0.06658392 0.70907832 0.37778792]]\n",
            "\n",
            " [[0.12244131 0.12598711 0.81212405]\n",
            "  [0.65800832 0.06322837 0.66999525]\n",
            "  [0.88234786 0.38593047 0.96880808]\n",
            "  [0.6791912  0.93863271 0.27141236]\n",
            "  [0.02365024 0.49600483 0.34292726]]\n",
            "\n",
            " [[0.3920741  0.79601615 0.97549913]\n",
            "  [0.54136529 0.90615214 0.75885844]\n",
            "  [0.83462448 0.21957433 0.09332714]\n",
            "  [0.60768302 0.52203685 0.80929382]\n",
            "  [0.70641893 0.59948151 0.89962402]]\n",
            "\n",
            " [[0.11848163 0.93283401 0.91178938]\n",
            "  [0.65585561 0.58781734 0.87804835]\n",
            "  [0.31834914 0.7031272  0.08278016]\n",
            "  [0.58187153 0.1028065  0.35599071]\n",
            "  [0.56141251 0.94133521 0.50205886]]]\n",
            "\n",
            "2-dimensional Array (shape (5, 5)):\n",
            "[[0.15043542 0.8022785  0.26654082 0.30961725 0.0691489 ]\n",
            " [0.61822518 0.87183371 0.6216875  0.76858597 0.39530064]\n",
            " [0.79585905 0.12830191 0.11972473 0.5205063  0.31875213]\n",
            " [0.15178733 0.65258743 0.85764885 0.75989117 0.76168354]\n",
            " [0.0205197  0.78095001 0.71954125 0.36211897 0.393571  ]]\n",
            "\n",
            "Result Array (shape (5, 5, 3)):\n",
            "[[[0.11053677 0.03279032 0.12445633]\n",
            "  [0.1345963  0.24971369 0.66776184]\n",
            "  [0.13422946 0.24167854 0.04758916]\n",
            "  [0.12276523 0.21384515 0.02930546]\n",
            "  [0.06582981 0.03917573 0.06229828]]\n",
            "\n",
            " [[0.31548992 0.30649905 0.0053747 ]\n",
            "  [0.54560114 0.8174523  0.31997434]\n",
            "  [0.22307721 0.35941281 0.54769623]\n",
            "  [0.3238219  0.29474552 0.42287277]\n",
            "  [0.02632067 0.28029911 0.1493398 ]]\n",
            "\n",
            " [[0.09744602 0.10026798 0.64633628]\n",
            "  [0.08442373 0.00811232 0.08596167]\n",
            "  [0.10563886 0.04620542 0.11599029]\n",
            "  [0.3535233  0.48856424 0.14127184]\n",
            "  [0.00753856 0.1581026  0.10930879]]\n",
            "\n",
            " [[0.05951188 0.12082516 0.1480684 ]\n",
            "  [0.35328818 0.5913435  0.49522148]\n",
            "  [0.71581473 0.18831767 0.08004191]\n",
            "  [0.46177296 0.3966912  0.61497523]\n",
            "  [0.53806767 0.4566152  0.68522881]]\n",
            "\n",
            " [[0.00243121 0.01914148 0.01870965]\n",
            "  [0.51219045 0.45905596 0.68571187]\n",
            "  [0.22906533 0.50592902 0.05956374]\n",
            "  [0.21070672 0.03722818 0.12891099]\n",
            "  [0.22095568 0.37048224 0.19759581]]]\n"
          ]
        }
      ],
      "source": [
        "array_3d = np.random.random((5, 5, 3))\n",
        "array_2d = np.random.random((5, 5))\n",
        "result_array = array_3d * array_2d[:, :, np.newaxis]\n",
        "\n",
        "print(\"3-dimensional Array (shape {}):\".format(array_3d.shape))\n",
        "print(array_3d)\n",
        "print(\"\\n2-dimensional Array (shape {}):\".format(array_2d.shape))\n",
        "print(array_2d)\n",
        "print(\"\\nResult Array (shape {}):\".format(result_array.shape))\n",
        "print(result_array)"
      ]
    },
    {
      "cell_type": "markdown",
      "id": "bac359a9",
      "metadata": {
        "id": "bac359a9"
      },
      "source": [
        "#### 72. How to swap two rows of an array? (★★★)"
      ]
    },
    {
      "cell_type": "code",
      "execution_count": null,
      "id": "f1b432b1",
      "metadata": {
        "id": "f1b432b1",
        "colab": {
          "base_uri": "https://localhost:8080/"
        },
        "outputId": "b161e9d5-b754-4f5d-b16e-8cedf57abfd2"
      },
      "outputs": [
        {
          "output_type": "stream",
          "name": "stdout",
          "text": [
            "[[1 2 3]\n",
            " [7 8 9]\n",
            " [7 8 9]]\n"
          ]
        }
      ],
      "source": [
        "arr = np.array([[1, 2, 3], [4, 5, 6], [7, 8, 9]])\n",
        "arr[1],arr[2] = arr[2],arr[1]\n",
        "print(arr)"
      ]
    },
    {
      "cell_type": "markdown",
      "id": "620c9f83",
      "metadata": {
        "id": "620c9f83"
      },
      "source": [
        "#### 73. Consider a set of 10 triplets describing 10 triangles (with shared vertices), find the set of unique line segments composing all the  triangles (★★★)"
      ]
    },
    {
      "cell_type": "code",
      "execution_count": null,
      "id": "4e595ffc",
      "metadata": {
        "id": "4e595ffc",
        "colab": {
          "base_uri": "https://localhost:8080/"
        },
        "outputId": "759a850e-3670-47c9-898b-bb36928bd75c"
      },
      "outputs": [
        {
          "output_type": "stream",
          "name": "stdout",
          "text": [
            "Set of Unique Line Segments:\n",
            "{(0, 1), (1, 2), (0, 0), (1, 1), (0, 2), (2, 2)}\n"
          ]
        }
      ],
      "source": [
        "triplets = [\n",
        "    [(0, 0), (1, 1), (0, 1)],\n",
        "    [(0, 0), (1, 0), (1, 1)],\n",
        "    [(0, 1), (1, 1), (1, 2)],\n",
        "    [(1, 1), (2, 2), (1, 2)],\n",
        "    [(0, 0), (0, 1), (1, 1)],\n",
        "    [(1, 0), (1, 1), (2, 1)],\n",
        "    [(1, 1), (1, 2), (2, 1)],\n",
        "    [(0, 1), (1, 1), (0, 2)],\n",
        "    [(1, 1), (2, 1), (1, 2)],\n",
        "    [(0, 1), (1, 2), (0, 2)]\n",
        "]\n",
        "\n",
        "edges = np.array(triplets).reshape(-1, 2)\n",
        "sorted_edges = np.sort(edges, axis=1)\n",
        "unique_edges = [tuple(edge) for edge in sorted_edges]\n",
        "unique_line_segments = set(unique_edges)\n",
        "print(\"Set of Unique Line Segments:\")\n",
        "print(unique_line_segments)"
      ]
    },
    {
      "cell_type": "markdown",
      "id": "a76c55a2",
      "metadata": {
        "id": "a76c55a2"
      },
      "source": [
        "#### 74. Given a sorted array C that corresponds to a bincount, how to produce an array A such that np.bincount(A) == C? (★★★)"
      ]
    },
    {
      "cell_type": "code",
      "execution_count": null,
      "id": "2d2ae65a",
      "metadata": {
        "id": "2d2ae65a",
        "colab": {
          "base_uri": "https://localhost:8080/"
        },
        "outputId": "99e11eb6-2fae-4649-fe18-1058591e1c52"
      },
      "outputs": [
        {
          "output_type": "stream",
          "name": "stdout",
          "text": [
            "Array C: [0 1 3 0 2]\n",
            "Array A: [1 2 2 2 4 4]\n",
            "Bincount of A: [0 1 3 0 2]\n"
          ]
        }
      ],
      "source": [
        "C = np.array([0, 1, 3, 0, 2])\n",
        "A_length = np.sum(C)\n",
        "A = np.repeat(np.arange(len(C)), C)\n",
        "print(\"Array C:\", C)\n",
        "print(\"Array A:\", A)\n",
        "print(\"Bincount of A:\", np.bincount(A))"
      ]
    },
    {
      "cell_type": "markdown",
      "id": "d550c8e2",
      "metadata": {
        "id": "d550c8e2"
      },
      "source": [
        "#### 75. How to compute averages using a sliding window over an array? (★★★)"
      ]
    },
    {
      "cell_type": "code",
      "execution_count": null,
      "id": "841c457c",
      "metadata": {
        "id": "841c457c",
        "colab": {
          "base_uri": "https://localhost:8080/"
        },
        "outputId": "e4f11bdd-0706-40e7-a279-4561ffc355aa"
      },
      "outputs": [
        {
          "output_type": "stream",
          "name": "stdout",
          "text": [
            "Original Array: [1 2 3 4 5 6 7 8 9]\n",
            "Averages with a sliding window of size 3 : [1.         2.         3.         4.         5.         6.\n",
            " 7.         8.         5.66666667]\n"
          ]
        }
      ],
      "source": [
        "from scipy.ndimage import convolve1d\n",
        "\n",
        "def sliding_window_average(arr, window_size):\n",
        "    window = np.ones(window_size)\n",
        "    window_sum = convolve1d(arr, window, mode='constant')\n",
        "    window_averages = window_sum / window_size\n",
        "    return window_averages\n",
        "\n",
        "array = np.array([1, 2, 3, 4, 5, 6, 7, 8, 9])\n",
        "window_size = 3\n",
        "averages = sliding_window_average(array, window_size)\n",
        "\n",
        "print(\"Original Array:\", array)\n",
        "print(\"Averages with a sliding window of size\", window_size, \":\", averages)"
      ]
    },
    {
      "cell_type": "markdown",
      "id": "6b170b00",
      "metadata": {
        "id": "6b170b00"
      },
      "source": [
        "#### 76. Consider a one-dimensional array Z, build a two-dimensional array whose first row is (Z[0],Z[1],Z[2]) and each subsequent row is  shifted by 1 (last row should be (Z[-3],Z[-2],Z[-1]) (★★★)"
      ]
    },
    {
      "cell_type": "code",
      "execution_count": null,
      "id": "d9a0cf4e",
      "metadata": {
        "id": "d9a0cf4e",
        "colab": {
          "base_uri": "https://localhost:8080/"
        },
        "outputId": "17a7f9b6-9941-428c-f04a-19c997b6ed7f"
      },
      "outputs": [
        {
          "output_type": "stream",
          "name": "stdout",
          "text": [
            "[[1 2 3]\n",
            " [2 3 4]\n",
            " [3 4 5]]\n"
          ]
        }
      ],
      "source": [
        "Z = np.array([1, 2, 3, 4, 5])\n",
        "shifted_array = np.vstack([Z[i:i+3] for i in range(len(Z) - 2)])\n",
        "print(shifted_array)"
      ]
    },
    {
      "cell_type": "markdown",
      "id": "e94a5c1d",
      "metadata": {
        "id": "e94a5c1d"
      },
      "source": [
        "#### 77. How to negate a boolean, or to change the sign of a float inplace? (★★★)"
      ]
    },
    {
      "cell_type": "code",
      "execution_count": null,
      "id": "c0f9504f",
      "metadata": {
        "id": "c0f9504f",
        "colab": {
          "base_uri": "https://localhost:8080/"
        },
        "outputId": "31d31aeb-e6ce-4082-a449-08020675f97d"
      },
      "outputs": [
        {
          "output_type": "stream",
          "name": "stdout",
          "text": [
            "False\n"
          ]
        }
      ],
      "source": [
        "# Negate a boolean inplace\n",
        "x = True\n",
        "x = not x\n",
        "print(x)"
      ]
    },
    {
      "cell_type": "code",
      "source": [
        "# Change the sign of a float inplace\n",
        "x = 5.0\n",
        "x *= -1\n",
        "print(x)"
      ],
      "metadata": {
        "colab": {
          "base_uri": "https://localhost:8080/"
        },
        "id": "o0raKyYsovkF",
        "outputId": "5b8d324a-e305-4352-8041-75239258e015"
      },
      "id": "o0raKyYsovkF",
      "execution_count": null,
      "outputs": [
        {
          "output_type": "stream",
          "name": "stdout",
          "text": [
            "-5.0\n"
          ]
        }
      ]
    },
    {
      "cell_type": "markdown",
      "id": "4eb8b5c1",
      "metadata": {
        "id": "4eb8b5c1"
      },
      "source": [
        "#### 78. Consider 2 sets of points P0,P1 describing lines (2d) and a point p, how to compute distance from p to each line i (P0[i],P1[i])? (★★★)"
      ]
    },
    {
      "cell_type": "code",
      "execution_count": null,
      "id": "487f47ec",
      "metadata": {
        "id": "487f47ec"
      },
      "outputs": [],
      "source": []
    },
    {
      "cell_type": "markdown",
      "id": "3df99948",
      "metadata": {
        "id": "3df99948"
      },
      "source": [
        "#### 79. Consider 2 sets of points P0,P1 describing lines (2d) and a set of points P, how to compute distance from each point j (P[j]) to each line i (P0[i],P1[i])? (★★★)"
      ]
    },
    {
      "cell_type": "code",
      "execution_count": null,
      "id": "dc2df37b",
      "metadata": {
        "id": "dc2df37b"
      },
      "outputs": [],
      "source": []
    },
    {
      "cell_type": "markdown",
      "id": "11e972c2",
      "metadata": {
        "id": "11e972c2"
      },
      "source": [
        "#### 80. Consider an arbitrary array, write a function that extract a subpart with a fixed shape and centered on a given element (pad with a `fill` value when necessary) (★★★)"
      ]
    },
    {
      "cell_type": "code",
      "execution_count": null,
      "id": "0291247f",
      "metadata": {
        "id": "0291247f"
      },
      "outputs": [],
      "source": []
    },
    {
      "cell_type": "markdown",
      "id": "93cfeab3",
      "metadata": {
        "id": "93cfeab3"
      },
      "source": [
        "#### 81. Consider an array Z = [1,2,3,4,5,6,7,8,9,10,11,12,13,14], how to generate an array R = [[1,2,3,4], [2,3,4,5], [3,4,5,6], ..., [11,12,13,14]]? (★★★)"
      ]
    },
    {
      "cell_type": "code",
      "execution_count": null,
      "id": "360de791",
      "metadata": {
        "id": "360de791"
      },
      "outputs": [],
      "source": []
    },
    {
      "cell_type": "markdown",
      "id": "4c15ceff",
      "metadata": {
        "id": "4c15ceff"
      },
      "source": [
        "#### 82. Compute a matrix rank (★★★)"
      ]
    },
    {
      "cell_type": "code",
      "execution_count": null,
      "id": "9a4272d2",
      "metadata": {
        "id": "9a4272d2"
      },
      "outputs": [],
      "source": []
    },
    {
      "cell_type": "markdown",
      "id": "1171cb84",
      "metadata": {
        "id": "1171cb84"
      },
      "source": [
        "#### 83. How to find the most frequent value in an array?"
      ]
    },
    {
      "cell_type": "code",
      "execution_count": null,
      "id": "33e951c8",
      "metadata": {
        "id": "33e951c8"
      },
      "outputs": [],
      "source": []
    },
    {
      "cell_type": "markdown",
      "id": "04f472aa",
      "metadata": {
        "id": "04f472aa"
      },
      "source": [
        "#### 84. Extract all the contiguous 3x3 blocks from a random 10x10 matrix (★★★)"
      ]
    },
    {
      "cell_type": "code",
      "execution_count": null,
      "id": "7aade14a",
      "metadata": {
        "id": "7aade14a"
      },
      "outputs": [],
      "source": []
    },
    {
      "cell_type": "markdown",
      "id": "52836346",
      "metadata": {
        "id": "52836346"
      },
      "source": [
        "#### 85. Create a 2D array subclass such that Z[i,j] == Z[j,i] (★★★)"
      ]
    },
    {
      "cell_type": "code",
      "execution_count": null,
      "id": "4df70318",
      "metadata": {
        "id": "4df70318"
      },
      "outputs": [],
      "source": []
    },
    {
      "cell_type": "markdown",
      "id": "78c43ee5",
      "metadata": {
        "id": "78c43ee5"
      },
      "source": [
        "#### 86. Consider a set of p matrices with shape (n,n) and a set of p vectors with shape (n,1). How to compute the sum of of the p matrix products at once? (result has shape (n,1)) (★★★)"
      ]
    },
    {
      "cell_type": "code",
      "execution_count": null,
      "id": "32fd2c3b",
      "metadata": {
        "id": "32fd2c3b"
      },
      "outputs": [],
      "source": []
    },
    {
      "cell_type": "markdown",
      "id": "158f9945",
      "metadata": {
        "id": "158f9945"
      },
      "source": [
        "#### 87. Consider a 16x16 array, how to get the block-sum (block size is 4x4)? (★★★)"
      ]
    },
    {
      "cell_type": "code",
      "execution_count": null,
      "id": "5a9b808f",
      "metadata": {
        "id": "5a9b808f"
      },
      "outputs": [],
      "source": []
    },
    {
      "cell_type": "markdown",
      "id": "2e0ad860",
      "metadata": {
        "id": "2e0ad860"
      },
      "source": [
        "#### 88. How to implement the Game of Life using numpy arrays? (★★★)"
      ]
    },
    {
      "cell_type": "code",
      "execution_count": null,
      "id": "574acff5",
      "metadata": {
        "id": "574acff5"
      },
      "outputs": [],
      "source": []
    },
    {
      "cell_type": "markdown",
      "id": "69a892fa",
      "metadata": {
        "id": "69a892fa"
      },
      "source": [
        "#### 89. How to get the n largest values of an array (★★★)"
      ]
    },
    {
      "cell_type": "code",
      "execution_count": null,
      "id": "21b2bd48",
      "metadata": {
        "id": "21b2bd48"
      },
      "outputs": [],
      "source": []
    },
    {
      "cell_type": "markdown",
      "id": "b55ccacc",
      "metadata": {
        "id": "b55ccacc"
      },
      "source": [
        "#### 90. Given an arbitrary number of vectors, build the cartesian product (every combinations of every item) (★★★)"
      ]
    },
    {
      "cell_type": "code",
      "execution_count": null,
      "id": "4b645da4",
      "metadata": {
        "id": "4b645da4",
        "colab": {
          "base_uri": "https://localhost:8080/"
        },
        "outputId": "16b9e0ae-bb11-45da-fc74-aa3b4bf09578"
      },
      "outputs": [
        {
          "output_type": "stream",
          "name": "stdout",
          "text": [
            "Cartesian Product:\n",
            " [(1, 'a', True), (1, 'a', False), (1, 'b', True), (1, 'b', False), (1, 'c', True), (1, 'c', False), (2, 'a', True), (2, 'a', False), (2, 'b', True), (2, 'b', False), (2, 'c', True), (2, 'c', False)]\n"
          ]
        }
      ],
      "source": [
        "from itertools import product\n",
        "\n",
        "vector1 = [1, 2]\n",
        "vector2 = ['a', 'b', 'c']\n",
        "vector3 = [True, False]\n",
        "cartesian_product = list(product(vector1, vector2, vector3))\n",
        "print(\"Cartesian Product:\\n\",cartesian_product)"
      ]
    },
    {
      "cell_type": "markdown",
      "id": "89187a23",
      "metadata": {
        "id": "89187a23"
      },
      "source": [
        "#### 91. How to create a record array from a regular array? (★★★)"
      ]
    },
    {
      "cell_type": "code",
      "execution_count": null,
      "id": "da94c71a",
      "metadata": {
        "id": "da94c71a",
        "colab": {
          "base_uri": "https://localhost:8080/"
        },
        "outputId": "92c37bcf-45b8-4f34-e7d2-e63d28082d34"
      },
      "outputs": [
        {
          "output_type": "stream",
          "name": "stdout",
          "text": [
            "[(1, 2, 3) (4, 5, 6) (7, 8, 9)]\n"
          ]
        }
      ],
      "source": [
        "regular_array = np.array([[1, 2, 3], [4, 5, 6], [7, 8, 9]])\n",
        "record_array = np.rec.fromarrays(regular_array.T, names='col1, col2, col3')\n",
        "print(record_array)"
      ]
    },
    {
      "cell_type": "markdown",
      "id": "aa70d4ca",
      "metadata": {
        "id": "aa70d4ca"
      },
      "source": [
        "#### 92. Consider a large vector Z, compute Z to the power of 3 using 3 different methods (★★★)"
      ]
    },
    {
      "cell_type": "code",
      "execution_count": null,
      "id": "7cff1bf5",
      "metadata": {
        "id": "7cff1bf5",
        "colab": {
          "base_uri": "https://localhost:8080/"
        },
        "outputId": "c6a2aa02-8b8e-4bdc-9f3d-d345a2045afd"
      },
      "outputs": [
        {
          "output_type": "stream",
          "name": "stdout",
          "text": [
            "Method 1: [  1   8  27  64 125]\n",
            "Method 2: [  1   8  27  64 125]\n",
            "Method 3: [  1   8  27  64 125]\n"
          ]
        }
      ],
      "source": [
        "Z = np.array([1, 2, 3, 4, 5])\n",
        "\n",
        "result1 = np.power(Z, 3)\n",
        "result2 = Z ** 3\n",
        "result3 = np.zeros_like(Z)\n",
        "for i in range(len(Z)):\n",
        "    result3[i] = Z[i] ** 3\n",
        "\n",
        "print(\"Method 1:\", result1)\n",
        "print(\"Method 2:\", result2)\n",
        "print(\"Method 3:\", result3)"
      ]
    },
    {
      "cell_type": "markdown",
      "id": "5f79dd00",
      "metadata": {
        "id": "5f79dd00"
      },
      "source": [
        "#### 93. Consider two arrays A and B of shape (8,3) and (2,2). How to find rows of A that contain elements of each row of B regardless of the order of the elements in B? (★★★)"
      ]
    },
    {
      "cell_type": "code",
      "execution_count": null,
      "id": "20c105b2",
      "metadata": {
        "id": "20c105b2",
        "colab": {
          "base_uri": "https://localhost:8080/"
        },
        "outputId": "122db152-c174-4550-cdef-799cad32986a"
      },
      "outputs": [
        {
          "output_type": "stream",
          "name": "stdout",
          "text": [
            "Array A:\n",
            " [[1 2 3]\n",
            " [4 5 6]\n",
            " [3 2 1]\n",
            " [7 8 9]\n",
            " [2 1 3]\n",
            " [6 5 4]\n",
            " [1 2 3]\n",
            " [9 8 7]]\n",
            "Array B:\n",
            " [[1 2]\n",
            " [3 4]]\n",
            "Rows of A containing elements of each row of B:\n",
            " [[1 2 3]\n",
            " [3 2 1]\n",
            " [2 1 3]\n",
            " [1 2 3]]\n"
          ]
        }
      ],
      "source": [
        "A = np.array([\n",
        "    [1, 2, 3],\n",
        "    [4, 5, 6],\n",
        "    [3, 2, 1],\n",
        "    [7, 8, 9],\n",
        "    [2, 1, 3],\n",
        "    [6, 5, 4],\n",
        "    [1, 2, 3],\n",
        "    [9, 8, 7]\n",
        "])\n",
        "\n",
        "B = np.array([\n",
        "    [1, 2],\n",
        "    [3, 4]\n",
        "])\n",
        "\n",
        "rows_containing_B = np.all(np.isin(A, B), axis=1)\n",
        "result_rows_A = A[rows_containing_B]\n",
        "print(\"Array A:\\n\",A)\n",
        "print(\"Array B:\\n\",B)\n",
        "print(\"Rows of A containing elements of each row of B:\\n\",result_rows_A)"
      ]
    },
    {
      "cell_type": "markdown",
      "id": "a80570cd",
      "metadata": {
        "id": "a80570cd"
      },
      "source": [
        "#### 94. Considering a 10x3 matrix, extract rows with unequal values (e.g. [2,2,3]) (★★★)"
      ]
    },
    {
      "cell_type": "code",
      "execution_count": null,
      "id": "84db8de1",
      "metadata": {
        "id": "84db8de1",
        "colab": {
          "base_uri": "https://localhost:8080/"
        },
        "outputId": "a17eae7e-a629-464d-e482-1e34293a8dbe"
      },
      "outputs": [
        {
          "output_type": "stream",
          "name": "stdout",
          "text": [
            "Original Matrix:\n",
            " [[2 2 2]\n",
            " [1 2 3]\n",
            " [4 4 4]\n",
            " [5 6 7]\n",
            " [8 8 9]\n",
            " [1 1 1]\n",
            " [0 0 0]\n",
            " [3 3 2]\n",
            " [1 2 2]\n",
            " [7 7 7]]\n",
            "Result Matrix with Rows Having Unequal Values:\n",
            " [[1 2 3]\n",
            " [4 4 4]\n",
            " [5 6 7]\n",
            " [8 8 9]\n",
            " [1 1 1]\n",
            " [0 0 0]\n",
            " [3 3 2]\n",
            " [1 2 2]\n",
            " [7 7 7]]\n"
          ]
        }
      ],
      "source": [
        "matrix = np.array([\n",
        "    [2, 2, 2],\n",
        "    [1, 2, 3],\n",
        "    [4, 4, 4],\n",
        "    [5, 6, 7],\n",
        "    [8, 8, 9],\n",
        "    [1, 1, 1],\n",
        "    [0, 0, 0],\n",
        "    [3, 3, 2],\n",
        "    [1, 2, 2],\n",
        "    [7, 7, 7]\n",
        "])\n",
        "\n",
        "rows_with_unequal_values = np.logical_not(np.all(matrix == matrix[0], axis=1))\n",
        "result_matrix = matrix[rows_with_unequal_values]\n",
        "print(\"Original Matrix:\\n\",matrix)\n",
        "print(\"Result Matrix with Rows Having Unequal Values:\\n\",result_matrix)"
      ]
    },
    {
      "cell_type": "markdown",
      "id": "ba154f43",
      "metadata": {
        "id": "ba154f43"
      },
      "source": [
        "#### 95. Convert a vector of ints into a matrix binary representation (★★★)"
      ]
    },
    {
      "cell_type": "code",
      "execution_count": null,
      "id": "cfa96e1b",
      "metadata": {
        "id": "cfa96e1b",
        "colab": {
          "base_uri": "https://localhost:8080/"
        },
        "outputId": "c2cf37a8-72fa-449c-88e4-4e2462651cd9"
      },
      "outputs": [
        {
          "output_type": "stream",
          "name": "stdout",
          "text": [
            "Vector of Integers: [5 3 7 2]\n",
            "Binary Matrix Representation: [[0 0 0 0 0 1 0 1]\n",
            " [0 0 0 0 0 0 1 1]\n",
            " [0 0 0 0 0 1 1 1]\n",
            " [0 0 0 0 0 0 1 0]]\n"
          ]
        }
      ],
      "source": [
        "vector = np.array([5, 3, 7, 2])\n",
        "binary_matrix = np.unpackbits(np.expand_dims(vector, axis=1).astype(np.uint8), axis=1)\n",
        "print(\"Vector of Integers:\",vector)\n",
        "print(\"Binary Matrix Representation:\",binary_matrix)"
      ]
    },
    {
      "cell_type": "markdown",
      "id": "420e2343",
      "metadata": {
        "id": "420e2343"
      },
      "source": [
        "#### 96. Given a two dimensional array, how to extract unique rows? (★★★)"
      ]
    },
    {
      "cell_type": "code",
      "execution_count": null,
      "id": "4680dfd0",
      "metadata": {
        "id": "4680dfd0",
        "colab": {
          "base_uri": "https://localhost:8080/"
        },
        "outputId": "47bdc898-cac6-4517-979b-d13e87d2a144"
      },
      "outputs": [
        {
          "output_type": "stream",
          "name": "stdout",
          "text": [
            "Original 2D Array:\n",
            " [[1 2 3]\n",
            " [4 5 6]\n",
            " [1 2 3]\n",
            " [7 8 9]\n",
            " [4 5 6]]\n",
            "Unique Rows:\n",
            " [[1 2 3]\n",
            " [4 5 6]\n",
            " [7 8 9]]\n"
          ]
        }
      ],
      "source": [
        "array_2d = np.array([[1, 2, 3], [4, 5, 6], [1, 2, 3], [7, 8, 9], [4, 5, 6]])\n",
        "unique_rows = np.unique(array_2d, axis=0)\n",
        "\n",
        "print(\"Original 2D Array:\\n\",array_2d)\n",
        "print(\"Unique Rows:\\n\",unique_rows)"
      ]
    },
    {
      "cell_type": "markdown",
      "id": "89fef2f3",
      "metadata": {
        "id": "89fef2f3"
      },
      "source": [
        "#### 97. Considering 2 vectors A & B, write the einsum equivalent of inner, outer, sum, and mul function (★★★)"
      ]
    },
    {
      "cell_type": "code",
      "execution_count": null,
      "id": "bb9c14b2",
      "metadata": {
        "id": "bb9c14b2",
        "colab": {
          "base_uri": "https://localhost:8080/"
        },
        "outputId": "ee7f5e72-7bc3-4461-ef79-c7b5b54c0e61"
      },
      "outputs": [
        {
          "output_type": "stream",
          "name": "stdout",
          "text": [
            "Inner dot product: 32\n",
            "Outer dot product:\n",
            " [[ 4  5  6]\n",
            " [ 8 10 12]\n",
            " [12 15 18]]\n",
            "Sum: 6\n",
            "Element-wise multiplication: [ 4 10 18]\n"
          ]
        }
      ],
      "source": [
        "A = np.array([1, 2, 3])\n",
        "B = np.array([4, 5, 6])\n",
        "result_dot_product = np.einsum('i,i->', A, B)\n",
        "print(\"Inner dot product:\", result_dot_product)\n",
        "\n",
        "result_outer_product = np.einsum('i,j->ij', A, B)\n",
        "print(\"Outer dot product:\\n\", result_outer_product)\n",
        "\n",
        "result_sum = np.einsum('i->', A)\n",
        "print(\"Sum:\", result_sum)\n",
        "\n",
        "result_elementwise_mul = np.einsum('i,i->i', A, B)\n",
        "print(\"Element-wise multiplication:\", result_elementwise_mul)"
      ]
    },
    {
      "cell_type": "markdown",
      "id": "7ad5cc5f",
      "metadata": {
        "id": "7ad5cc5f"
      },
      "source": [
        "#### 98. Considering a path described by two vectors (X,Y), how to sample it using equidistant samples (★★★)?"
      ]
    },
    {
      "cell_type": "code",
      "execution_count": null,
      "id": "0899d1d5",
      "metadata": {
        "id": "0899d1d5",
        "colab": {
          "base_uri": "https://localhost:8080/"
        },
        "outputId": "ed886f9b-ae8e-41c4-9d87-124a5b98c140"
      },
      "outputs": [
        {
          "output_type": "stream",
          "name": "stdout",
          "text": [
            "Original Path:\n",
            "X: [1 2 3 4 5]\n",
            "Y: [ 6  7  8  9 10]\n",
            "Equidistant Sampled Path:\n",
            "X: [1.         1.44444444 1.88888889 2.33333333 2.77777778 3.22222222\n",
            " 3.66666667 4.11111111 4.55555556 5.        ]\n",
            "Y: [ 6.          6.44444444  6.88888889  7.33333333  7.77777778  8.22222222\n",
            "  8.66666667  9.11111111  9.55555556 10.        ]\n"
          ]
        }
      ],
      "source": [
        "X = np.array([1, 2, 3, 4, 5])\n",
        "Y = np.array([6, 7, 8, 9, 10])\n",
        "num_samples = 10\n",
        "path_length = np.sum(np.sqrt(np.diff(X)**2 + np.diff(Y)**2))\n",
        "sample_spacing = path_length / (num_samples - 1)\n",
        "sampled_X = np.linspace(X[0], X[-1], num_samples)\n",
        "sampled_Y = np.interp(sampled_X, X, Y)\n",
        "\n",
        "print(\"Original Path:\")\n",
        "print(\"X:\", X)\n",
        "print(\"Y:\", Y)\n",
        "print(\"Equidistant Sampled Path:\")\n",
        "print(\"X:\", sampled_X)\n",
        "print(\"Y:\", sampled_Y)"
      ]
    },
    {
      "cell_type": "markdown",
      "id": "2b69272e",
      "metadata": {
        "id": "2b69272e"
      },
      "source": [
        "#### 99. Given an integer n and a 2D array X, select from X the rows which can be interpreted as draws from a multinomial distribution with n degrees, i.e., the rows which only contain integers and which sum to n. (★★★)"
      ]
    },
    {
      "cell_type": "code",
      "execution_count": null,
      "id": "55c8b034",
      "metadata": {
        "id": "55c8b034",
        "colab": {
          "base_uri": "https://localhost:8080/"
        },
        "outputId": "cb77eea4-0e2e-42bf-8c93-df1adbccc7ca"
      },
      "outputs": [
        {
          "output_type": "stream",
          "name": "stdout",
          "text": [
            "Original 2D Array (X): [[1.  2.  3. ]\n",
            " [4.  5.  6. ]\n",
            " [7.  8.  9. ]\n",
            " [0.5 1.5 2. ]\n",
            " [3.  4.  5. ]]\n",
            "Selected Rows (Draws from Multinomial Distribution with n=10):\n",
            "[]\n"
          ]
        },
        {
          "output_type": "stream",
          "name": "stderr",
          "text": [
            "/usr/local/lib/python3.10/dist-packages/ipykernel/ipkernel.py:283: DeprecationWarning: `should_run_async` will not call `transform_cell` automatically in the future. Please pass the result to `transformed_cell` argument and any exception that happen during thetransform in `preprocessing_exc_tuple` in IPython 7.17 and above.\n",
            "  and should_run_async(code)\n"
          ]
        }
      ],
      "source": [
        "def is_multinomial_draw(row, n):\n",
        "    return np.all(np.equal(np.mod(row, 1), 0)) and np.sum(row) == n\n",
        "\n",
        "X = np.array([[1, 2, 3], [4, 5, 6], [7, 8, 9], [0.5, 1.5, 2], [3, 4, 5]])\n",
        "n = 10\n",
        "selected_rows = X[np.apply_along_axis(is_multinomial_draw, 1, X, n)]\n",
        "\n",
        "print(\"Original 2D Array (X):\",X)\n",
        "print(\"Selected Rows (Draws from Multinomial Distribution with n={}):\".format(n))\n",
        "print(selected_rows)"
      ]
    },
    {
      "cell_type": "markdown",
      "id": "59ab5516",
      "metadata": {
        "id": "59ab5516"
      },
      "source": [
        "#### 100. Compute bootstrapped 95% confidence intervals for the mean of a 1D array X (i.e., resample the elements of an array with replacement N times, compute the mean of each sample, and then compute percentiles over the means). (★★★)"
      ]
    },
    {
      "cell_type": "code",
      "execution_count": null,
      "id": "450877d8",
      "metadata": {
        "id": "450877d8",
        "colab": {
          "base_uri": "https://localhost:8080/"
        },
        "outputId": "ca5dd85b-45ff-4714-bb27-0f146d23288e"
      },
      "outputs": [
        {
          "output_type": "stream",
          "name": "stdout",
          "text": [
            "1D Array X: [ 1  2  3  4  5  6  7  8  9 10]\n",
            "Bootstrapped 95% Confidence Intervals for the Mean: [3.70, 7.30]\n"
          ]
        }
      ],
      "source": [
        "def bootstrap_confidence_intervals(X, num_samples, alpha=0.05):\n",
        "    sample_means = np.zeros(num_samples)\n",
        "    n = len(X)\n",
        "\n",
        "    for i in range(num_samples):\n",
        "        resampled_indices = np.random.randint(0, n, n)\n",
        "        resampled_data = X[resampled_indices]\n",
        "        sample_means[i] = np.mean(resampled_data)\n",
        "    lower_percentile = (alpha / 2) * 100\n",
        "    upper_percentile = 100 - lower_percentile\n",
        "    lower_bound = np.percentile(sample_means, lower_percentile)\n",
        "    upper_bound = np.percentile(sample_means, upper_percentile)\n",
        "    return lower_bound, upper_bound\n",
        "\n",
        "X = np.array([1, 2, 3, 4, 5, 6, 7, 8, 9, 10])\n",
        "num_samples = 1000\n",
        "lower_bound, upper_bound = bootstrap_confidence_intervals(X, num_samples)\n",
        "\n",
        "print(\"1D Array X:\", X)\n",
        "print(\"Bootstrapped 95% Confidence Intervals for the Mean: [{:.2f}, {:.2f}]\".format(lower_bound, upper_bound))"
      ]
    }
  ],
  "metadata": {
    "kernelspec": {
      "display_name": "Python 3 (ipykernel)",
      "language": "python",
      "name": "python3"
    },
    "language_info": {
      "codemirror_mode": {
        "name": "ipython",
        "version": 3
      },
      "file_extension": ".py",
      "mimetype": "text/x-python",
      "name": "python",
      "nbconvert_exporter": "python",
      "pygments_lexer": "ipython3",
      "version": "3.9.13"
    },
    "colab": {
      "provenance": []
    }
  },
  "nbformat": 4,
  "nbformat_minor": 5
}