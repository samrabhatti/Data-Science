{
  "nbformat": 4,
  "nbformat_minor": 0,
  "metadata": {
    "colab": {
      "provenance": []
    },
    "kernelspec": {
      "name": "python3",
      "display_name": "Python 3"
    },
    "language_info": {
      "name": "python"
    }
  },
  "cells": [
    {
      "cell_type": "code",
      "execution_count": null,
      "metadata": {
        "colab": {
          "base_uri": "https://localhost:8080/"
        },
        "id": "OGuRdfv49yxb",
        "outputId": "c987a756-be04-44e7-afa1-b2ac3704d599"
      },
      "outputs": [
        {
          "output_type": "stream",
          "name": "stdout",
          "text": [
            "Sum:  8\n"
          ]
        }
      ],
      "source": [
        "#Add two numbers\n",
        "n1=5\n",
        "n2=3\n",
        "sum=n1+n2\n",
        "print('Sum: ',sum)"
      ]
    },
    {
      "cell_type": "code",
      "source": [
        "#Max of two numbers\n",
        "n1=5\n",
        "n2=3\n",
        "maximum=max(n1,n2)\n",
        "print('Maximum: ', maximum)"
      ],
      "metadata": {
        "colab": {
          "base_uri": "https://localhost:8080/"
        },
        "id": "vEh0tHnD-pxA",
        "outputId": "e3639b63-7547-4868-b6b9-edee299fee13"
      },
      "execution_count": null,
      "outputs": [
        {
          "output_type": "stream",
          "name": "stdout",
          "text": [
            "Maximum:  5\n"
          ]
        }
      ]
    },
    {
      "cell_type": "code",
      "source": [
        "#Factorial of a number\n",
        "def Factorial(n):\n",
        "  if (n==0 or n==1):\n",
        "    return n\n",
        "  else:\n",
        "    return n*Factorial(n-1)\n",
        "\n",
        "factorial=Factorial(5)\n",
        "print('Factorial: ',factorial)"
      ],
      "metadata": {
        "colab": {
          "base_uri": "https://localhost:8080/"
        },
        "id": "WFzpOkfY_CSl",
        "outputId": "8fd8efa8-caf2-450b-8e0e-d227e70dfd79"
      },
      "execution_count": null,
      "outputs": [
        {
          "output_type": "stream",
          "name": "stdout",
          "text": [
            "Factorial:  120\n"
          ]
        }
      ]
    },
    {
      "cell_type": "code",
      "source": [
        "#Simple Interest\n",
        "def Interest(p,t,r):\n",
        "  return (p*t*r)/100\n",
        "\n",
        "interest=Interest(10000,5,5)\n",
        "print('Interest: ',interest)"
      ],
      "metadata": {
        "colab": {
          "base_uri": "https://localhost:8080/"
        },
        "id": "TdpoFQI3_4Is",
        "outputId": "068dc428-813c-45e4-f03d-0dc4f08afae6"
      },
      "execution_count": null,
      "outputs": [
        {
          "output_type": "stream",
          "name": "stdout",
          "text": [
            "Interest:  2500.0\n"
          ]
        }
      ]
    },
    {
      "cell_type": "code",
      "source": [
        "#Compound Interest\n",
        "def CompoundInterest(p,r,t):\n",
        "  a=p*(pow((1+r/100),t))\n",
        "  return a-p\n",
        "\n",
        "interest=CompoundInterest(10000,10.25,5)\n",
        "print('Çompound Interest: ',interest)"
      ],
      "metadata": {
        "colab": {
          "base_uri": "https://localhost:8080/"
        },
        "id": "HOcBkNtlAkrp",
        "outputId": "79397781-8d1a-4e0c-960b-e8e3fdea37d9"
      },
      "execution_count": null,
      "outputs": [
        {
          "output_type": "stream",
          "name": "stdout",
          "text": [
            "Çompound Interest:  6288.946267774416\n"
          ]
        }
      ]
    },
    {
      "cell_type": "code",
      "source": [
        "#Armstrong Number\n",
        "\n",
        "def Length(num):\n",
        "  l=0\n",
        "  while(num>0):\n",
        "    num=int(num/10)\n",
        "    l=l+1\n",
        "  return l\n",
        "\n",
        "def IsArmstrong(n):\n",
        "  len=Length(n)\n",
        "  num=n\n",
        "  sum=0\n",
        "\n",
        "  while(num>=1):\n",
        "    m=num%10\n",
        "    num=int(num/10)\n",
        "    sum=sum+pow(m,len)\n",
        "\n",
        "  if sum==n:\n",
        "    return 'Armstrong Number'\n",
        "  else:\n",
        "    return 'Not an Armstrong Number'\n",
        "\n",
        "IsArmstrong(153)"
      ],
      "metadata": {
        "colab": {
          "base_uri": "https://localhost:8080/",
          "height": 35
        },
        "id": "61YzYZVdBkr0",
        "outputId": "b2588f23-9388-4d16-b041-e07ce2039711"
      },
      "execution_count": null,
      "outputs": [
        {
          "output_type": "execute_result",
          "data": {
            "text/plain": [
              "'Armstrong Number'"
            ],
            "application/vnd.google.colaboratory.intrinsic+json": {
              "type": "string"
            }
          },
          "metadata": {},
          "execution_count": 6
        }
      ]
    },
    {
      "cell_type": "code",
      "source": [
        "#Area of Circle\n",
        "def Area(r):\n",
        "  return 3.1416*pow(r,2)\n",
        "\n",
        "area=Area(5)\n",
        "print('Area:',area)"
      ],
      "metadata": {
        "colab": {
          "base_uri": "https://localhost:8080/"
        },
        "id": "7nwsr2anLu5D",
        "outputId": "3a8fcebe-565e-4b66-f14a-436d4c887070"
      },
      "execution_count": null,
      "outputs": [
        {
          "output_type": "stream",
          "name": "stdout",
          "text": [
            "Area: 78.53999999999999\n"
          ]
        }
      ]
    },
    {
      "cell_type": "code",
      "source": [
        "#Prime no\n",
        "def IsPrime(n):\n",
        "  if (n==0 or n==1):\n",
        "    return 'Not Prime'\n",
        "\n",
        "  i=2\n",
        "  while(i<(n/2)+1):\n",
        "    if(n%i==0):\n",
        "      return 'Not Prime'\n",
        "    i=i+1\n",
        "  return 'Prime'\n",
        "\n",
        "\n",
        "IsPrime(3)"
      ],
      "metadata": {
        "colab": {
          "base_uri": "https://localhost:8080/",
          "height": 35
        },
        "id": "cZOAGdADL_yc",
        "outputId": "0e8de94a-9235-4271-abbb-7bb557cff0b0"
      },
      "execution_count": null,
      "outputs": [
        {
          "output_type": "execute_result",
          "data": {
            "text/plain": [
              "'Prime'"
            ],
            "application/vnd.google.colaboratory.intrinsic+json": {
              "type": "string"
            }
          },
          "metadata": {},
          "execution_count": 8
        }
      ]
    },
    {
      "cell_type": "code",
      "source": [
        "#Fibonacci Series\n",
        "def Fibonacci(n):\n",
        "  if n==0:\n",
        "    return 'Not Possible'\n",
        "  if n==1:\n",
        "    return 0\n",
        "  if n==2:\n",
        "    return 1\n",
        "  else:\n",
        "    return Fibonacci(n-1)+Fibonacci(n-2)\n",
        "\n",
        "Fibonacci(10)"
      ],
      "metadata": {
        "colab": {
          "base_uri": "https://localhost:8080/"
        },
        "id": "APQflV2yaZIy",
        "outputId": "0e9963f0-d15b-4702-bcbc-f613e37209c0"
      },
      "execution_count": null,
      "outputs": [
        {
          "output_type": "execute_result",
          "data": {
            "text/plain": [
              "34"
            ]
          },
          "metadata": {},
          "execution_count": 9
        }
      ]
    },
    {
      "cell_type": "code",
      "source": [
        "#Fibonacci\n",
        "import math\n",
        "def PerfectSquare(n):\n",
        "  x=int(math.sqrt(n))\n",
        "  if x*x==n:\n",
        "    return 'True'\n",
        "  else:\n",
        "    return 'False'\n",
        "\n",
        "def IsFibonacci(n):\n",
        "  if PerfectSquare(5*pow(n,2)+4) or PerfectSquare(5*pow(n,2)-4):\n",
        "    return 'Yes Fibonacci'\n",
        "  return 'Not Fibonacci'\n",
        "\n",
        "IsFibonacci(34)"
      ],
      "metadata": {
        "colab": {
          "base_uri": "https://localhost:8080/",
          "height": 35
        },
        "id": "Vsg3Y0oQcJ92",
        "outputId": "e77e9902-eb17-446b-99ff-041b3e7a3df3"
      },
      "execution_count": null,
      "outputs": [
        {
          "output_type": "execute_result",
          "data": {
            "text/plain": [
              "'Yes Fibonacci'"
            ],
            "application/vnd.google.colaboratory.intrinsic+json": {
              "type": "string"
            }
          },
          "metadata": {},
          "execution_count": 10
        }
      ]
    },
    {
      "cell_type": "code",
      "source": [
        "#ASCII value\n",
        "def ASCII(a):\n",
        "  if (a>='a' and a<='z'):\n",
        "    d=abs(ord('a')-ord(a))\n",
        "    return 97+d\n",
        "  if (a>='A' and a<='Z'):\n",
        "    d=abs(ord('A')-ord(a))\n",
        "    return 65+d\n",
        "\n",
        "ASCII('Z')"
      ],
      "metadata": {
        "colab": {
          "base_uri": "https://localhost:8080/"
        },
        "id": "MgoQRJhDhfaB",
        "outputId": "64f89705-490a-48b4-eeb7-e0aad9c41c37"
      },
      "execution_count": null,
      "outputs": [
        {
          "output_type": "execute_result",
          "data": {
            "text/plain": [
              "90"
            ]
          },
          "metadata": {},
          "execution_count": 11
        }
      ]
    },
    {
      "cell_type": "code",
      "source": [
        "#Natural Numbers\n",
        "def Natural(n):\n",
        "  i=1\n",
        "  sum=0\n",
        "  while(i<=n):\n",
        "    sum=sum+pow(i,2)\n",
        "    i=i+1\n",
        "  return sum\n",
        "\n",
        "Natural(7)"
      ],
      "metadata": {
        "colab": {
          "base_uri": "https://localhost:8080/"
        },
        "id": "y_A_now44IT3",
        "outputId": "f77ab60b-d766-4b59-acf2-b00a88705c36"
      },
      "execution_count": null,
      "outputs": [
        {
          "output_type": "execute_result",
          "data": {
            "text/plain": [
              "140"
            ]
          },
          "metadata": {},
          "execution_count": 12
        }
      ]
    },
    {
      "cell_type": "markdown",
      "source": [
        "# **Array Problems**"
      ],
      "metadata": {
        "id": "9kJprLtt5WX0"
      }
    },
    {
      "cell_type": "code",
      "source": [
        "#sum of array\n",
        "def Sum(arr):\n",
        "  sum=0\n",
        "  for i in range (len(arr)):\n",
        "    sum=sum+arr[i]\n",
        "  return sum\n",
        "\n",
        "arr=[1,2,3,4,5,6,7,8,9]\n",
        "Sum(arr)"
      ],
      "metadata": {
        "colab": {
          "base_uri": "https://localhost:8080/"
        },
        "id": "oVBePFJT5BZ9",
        "outputId": "a1946fb9-53af-4846-e29f-18f70aadfcba"
      },
      "execution_count": null,
      "outputs": [
        {
          "output_type": "execute_result",
          "data": {
            "text/plain": [
              "45"
            ]
          },
          "metadata": {},
          "execution_count": 13
        }
      ]
    },
    {
      "cell_type": "code",
      "source": [
        "#largest element\n",
        "def Largest(arr):\n",
        "  max=0\n",
        "  for i in range(len(arr)):\n",
        "    if arr[i]>max:\n",
        "      max=arr[i]\n",
        "  return max\n",
        "\n",
        "arr=[20, 10, 200, 4, 100]\n",
        "Largest(arr)"
      ],
      "metadata": {
        "colab": {
          "base_uri": "https://localhost:8080/"
        },
        "id": "6PwFy24Q6ejn",
        "outputId": "9ce410b8-261c-426f-8c18-52b6bef9e170"
      },
      "execution_count": null,
      "outputs": [
        {
          "output_type": "execute_result",
          "data": {
            "text/plain": [
              "200"
            ]
          },
          "metadata": {},
          "execution_count": 14
        }
      ]
    },
    {
      "cell_type": "code",
      "source": [
        "#Left Rotation\n",
        "def Rotate(arr,p):\n",
        "    j=0\n",
        "    while(j<p):\n",
        "      temp=arr[0]\n",
        "      for i in range(len(arr)-1):\n",
        "        arr[i]=arr[i+1]\n",
        "      arr[len(arr)-1]=temp\n",
        "      j=j+1\n",
        "    return arr\n",
        "\n",
        "arr=[1,2,3,4,5,6,7,8,9]\n",
        "Rotate(arr,3)"
      ],
      "metadata": {
        "colab": {
          "base_uri": "https://localhost:8080/"
        },
        "id": "Q06z9CG16bv3",
        "outputId": "cd455f01-ea41-419f-ed39-ce0a158fbf18"
      },
      "execution_count": null,
      "outputs": [
        {
          "output_type": "execute_result",
          "data": {
            "text/plain": [
              "[4, 5, 6, 7, 8, 9, 1, 2, 3]"
            ]
          },
          "metadata": {},
          "execution_count": 15
        }
      ]
    },
    {
      "cell_type": "code",
      "source": [
        "#Complete Rotation\n",
        "def Rotation(arr):\n",
        "  for i in range(int((len(arr))/2)):\n",
        "    temp=arr[i]\n",
        "    arr[i]=arr[len(arr)-i-1]\n",
        "    arr[len(arr)-i-1]=temp\n",
        "    return arr\n",
        "\n",
        "arr=[1,2,3,4,5,6,7,8,9]\n",
        "Rotation(arr)"
      ],
      "metadata": {
        "colab": {
          "base_uri": "https://localhost:8080/"
        },
        "id": "oCJZ_9aJp8i6",
        "outputId": "a8948206-2434-4447-f699-3ce398ec52e0"
      },
      "execution_count": null,
      "outputs": [
        {
          "output_type": "execute_result",
          "data": {
            "text/plain": [
              "[9, 2, 3, 4, 5, 6, 7, 8, 1]"
            ]
          },
          "metadata": {},
          "execution_count": 16
        }
      ]
    },
    {
      "cell_type": "code",
      "source": [
        "#Split\n",
        "def Split(arr,p):\n",
        "    j=0\n",
        "    while(j<p):\n",
        "      temp=arr[0]\n",
        "      for i in range(len(arr)-1):\n",
        "        arr[i]=arr[i+1]\n",
        "      arr[len(arr)-1]=temp\n",
        "      j=j+1\n",
        "    return arr\n",
        "\n",
        "arr=[3, 1, 2]\n",
        "Split(arr,1)"
      ],
      "metadata": {
        "colab": {
          "base_uri": "https://localhost:8080/"
        },
        "id": "U5bQeufHniw5",
        "outputId": "5e63f4b2-30ce-4d65-b88e-72e320851de9"
      },
      "execution_count": null,
      "outputs": [
        {
          "output_type": "execute_result",
          "data": {
            "text/plain": [
              "[1, 2, 3]"
            ]
          },
          "metadata": {},
          "execution_count": 17
        }
      ]
    },
    {
      "cell_type": "code",
      "source": [
        "def Remainder(arr,d):\n",
        "  sum=arr[0]*arr[1]\n",
        "  for i in range(2,len(arr)):\n",
        "    sum=sum*arr[i]\n",
        "  return (sum%d)\n",
        "\n",
        "arr=[100,10,5,25,35,14]\n",
        "Remainder(arr,11)"
      ],
      "metadata": {
        "colab": {
          "base_uri": "https://localhost:8080/"
        },
        "id": "_uJEVnPvod2u",
        "outputId": "cf4cb47f-1866-458e-eb92-09aea9d7f59d"
      },
      "execution_count": null,
      "outputs": [
        {
          "output_type": "execute_result",
          "data": {
            "text/plain": [
              "9"
            ]
          },
          "metadata": {},
          "execution_count": 18
        }
      ]
    },
    {
      "cell_type": "code",
      "source": [
        "#Monotonic\n",
        "def IsMonotone(arr):\n",
        "  flag=0\n",
        "  for i in range(len(arr)-1):\n",
        "    if (arr[i]<=arr[i+1]):\n",
        "      flag=0\n",
        "    else:\n",
        "      flag=flag+1\n",
        "\n",
        "    if (arr[i]>=arr[i+1]):\n",
        "      flag=0\n",
        "    else:\n",
        "      flag=flag+1\n",
        "\n",
        "    if flag==0:\n",
        "      return True\n",
        "    else:\n",
        "      return False\n",
        "\n",
        "arr=[6,5,4,4]\n",
        "IsMonotone(arr)"
      ],
      "metadata": {
        "colab": {
          "base_uri": "https://localhost:8080/"
        },
        "id": "ZrIkD8n1p1Gt",
        "outputId": "6acebc0b-d83e-48c3-8eb0-e89c29429475"
      },
      "execution_count": null,
      "outputs": [
        {
          "output_type": "execute_result",
          "data": {
            "text/plain": [
              "True"
            ]
          },
          "metadata": {},
          "execution_count": 19
        }
      ]
    },
    {
      "cell_type": "markdown",
      "source": [
        "# **List Problems**"
      ],
      "metadata": {
        "id": "9CgwvYF7uZI7"
      }
    },
    {
      "cell_type": "code",
      "source": [
        "#swap first and last element\n",
        "def swap(lst):\n",
        "    if len(lst) >= 2:\n",
        "        lst[0], lst[-1] = lst[-1], lst[0]\n",
        "\n",
        "l1 = [1, 2, 3, 4, 5]\n",
        "swap(l1)\n",
        "print(\"Swapped List:\", l1)"
      ],
      "metadata": {
        "id": "ps3AROcmsEg2",
        "colab": {
          "base_uri": "https://localhost:8080/"
        },
        "outputId": "5e16698e-639f-4fdf-f8ad-6d432d731b97"
      },
      "execution_count": null,
      "outputs": [
        {
          "output_type": "stream",
          "name": "stdout",
          "text": [
            "Swapped List: [5, 2, 3, 4, 1]\n"
          ]
        }
      ]
    },
    {
      "cell_type": "code",
      "source": [
        "#element exist in list\n",
        "list1 = [1, 6, 3, 5, 3, 4]\n",
        "for i in list1:\n",
        "    if(i == 5):\n",
        "      print(\"Element Exists\")"
      ],
      "metadata": {
        "colab": {
          "base_uri": "https://localhost:8080/"
        },
        "id": "_4BM2um7vNiO",
        "outputId": "f59edd45-7efe-4d47-df16-96dfd9cc6c4a"
      },
      "execution_count": null,
      "outputs": [
        {
          "output_type": "stream",
          "name": "stdout",
          "text": [
            "Element Exists\n"
          ]
        }
      ]
    },
    {
      "cell_type": "code",
      "source": [
        "#Reverse a list\n",
        "def Reverse(lst):\n",
        "   new_lst = lst[::-1]\n",
        "   return new_lst\n",
        "\n",
        "lst = [10, 11, 12, 13, 14, 15]\n",
        "Reverse(lst)"
      ],
      "metadata": {
        "colab": {
          "base_uri": "https://localhost:8080/"
        },
        "id": "EV4-UfwI0_N6",
        "outputId": "e5a66361-57fc-4dff-c032-53ef9ab7569c"
      },
      "execution_count": null,
      "outputs": [
        {
          "output_type": "execute_result",
          "data": {
            "text/plain": [
              "[15, 14, 13, 12, 11, 10]"
            ]
          },
          "metadata": {},
          "execution_count": 27
        }
      ]
    },
    {
      "cell_type": "code",
      "source": [
        "#sum of elements\n",
        "def Sum(list1):\n",
        "  total = 0\n",
        "  for ele in range(0, len(list1)):\n",
        "    total = total + list1[ele]\n",
        "  return total\n",
        "\n",
        "list1 = [11, 5, 17, 18, 23]\n",
        "Sum(list1)"
      ],
      "metadata": {
        "colab": {
          "base_uri": "https://localhost:8080/"
        },
        "id": "KjMCUKg41YnP",
        "outputId": "bc3fcef8-247a-48d0-f806-13e0117c8ef0"
      },
      "execution_count": null,
      "outputs": [
        {
          "output_type": "execute_result",
          "data": {
            "text/plain": [
              "74"
            ]
          },
          "metadata": {},
          "execution_count": 28
        }
      ]
    },
    {
      "cell_type": "code",
      "source": [
        "#multiply elements\n",
        "def multiply(list1):\n",
        "\tresult = 1\n",
        "\tfor x in list1:\n",
        "\t\tresult = result * x\n",
        "\treturn result\n",
        "\n",
        "list1 = [3, 2, 4]\n",
        "multiply(list1)"
      ],
      "metadata": {
        "colab": {
          "base_uri": "https://localhost:8080/"
        },
        "id": "HO7m2nyo14nM",
        "outputId": "b92ecf35-a9f6-4376-b360-e46136ab5308"
      },
      "execution_count": null,
      "outputs": [
        {
          "output_type": "execute_result",
          "data": {
            "text/plain": [
              "24"
            ]
          },
          "metadata": {},
          "execution_count": 29
        }
      ]
    },
    {
      "cell_type": "code",
      "source": [
        "#smallest element\n",
        "list1 = [10, 20, 4, 45, 99]\n",
        "list1.sort()\n",
        "print(\"Smallest element:\", list1[0])"
      ],
      "metadata": {
        "colab": {
          "base_uri": "https://localhost:8080/"
        },
        "id": "fxmCopkv2px2",
        "outputId": "96d44bf7-9cab-44ed-ec4a-7ec276d87f60"
      },
      "execution_count": null,
      "outputs": [
        {
          "output_type": "stream",
          "name": "stdout",
          "text": [
            "Smallest element is: 4\n"
          ]
        }
      ]
    },
    {
      "cell_type": "code",
      "source": [
        "#largest element\n",
        "list1 = [10, 20, 4, 45, 99]\n",
        "list1.sort()\n",
        "print(\"Largest element:\", list1[-1])"
      ],
      "metadata": {
        "colab": {
          "base_uri": "https://localhost:8080/"
        },
        "id": "KcFg24fH2_XH",
        "outputId": "8d5aecda-123a-4a5e-dedd-5fa825b8320b"
      },
      "execution_count": null,
      "outputs": [
        {
          "output_type": "stream",
          "name": "stdout",
          "text": [
            "Largest element: 99\n"
          ]
        }
      ]
    },
    {
      "cell_type": "code",
      "source": [
        "#second largest element\n",
        "list1 = [10, 59, 4, 45, 99]\n",
        "list1.sort()\n",
        "print(\"Second Largest element:\", list1[-2])"
      ],
      "metadata": {
        "colab": {
          "base_uri": "https://localhost:8080/"
        },
        "id": "-ARNGcjQ3MvR",
        "outputId": "836bb2dd-4322-45ee-c195-793546d3165a"
      },
      "execution_count": null,
      "outputs": [
        {
          "output_type": "stream",
          "name": "stdout",
          "text": [
            "Second Largest element: 59\n"
          ]
        }
      ]
    },
    {
      "cell_type": "code",
      "source": [
        "#print even numbers\n",
        "list1 = [10, 21, 4, 45, 66, 93]\n",
        "for num in list1:\n",
        "\tif num % 2 == 0:\n",
        "\t\tprint(num, end=\" \")"
      ],
      "metadata": {
        "colab": {
          "base_uri": "https://localhost:8080/"
        },
        "id": "Xoj_2aJJ3lDI",
        "outputId": "9a2cac7e-fe33-4b05-f8bf-d912f351576f"
      },
      "execution_count": null,
      "outputs": [
        {
          "output_type": "stream",
          "name": "stdout",
          "text": [
            "10 4 66 "
          ]
        }
      ]
    },
    {
      "cell_type": "code",
      "source": [
        "#positive numbers in list\n",
        "list1 = [11, -21, 0, 45, 66, -93]\n",
        "for num in list1:\n",
        "\tif num >= 0:\n",
        "\t\tprint(num, end=' ')"
      ],
      "metadata": {
        "colab": {
          "base_uri": "https://localhost:8080/"
        },
        "id": "FDEtbm-W3_iZ",
        "outputId": "90e1c6b3-3ff3-4213-ca62-f9e8a13500ef"
      },
      "execution_count": null,
      "outputs": [
        {
          "output_type": "stream",
          "name": "stdout",
          "text": [
            "11 0 45 66 "
          ]
        }
      ]
    },
    {
      "cell_type": "code",
      "source": [
        "#nagative numbers in list\n",
        "list1 = [11, -21, 0, 45, 66, -93]\n",
        "for num in list1:\n",
        "\tif num < 0:\n",
        "\t\tprint(num, end=' ')"
      ],
      "metadata": {
        "colab": {
          "base_uri": "https://localhost:8080/"
        },
        "id": "K0WkYumR4hzb",
        "outputId": "a7fae97a-39eb-4da8-de9d-a33b59aeb447"
      },
      "execution_count": null,
      "outputs": [
        {
          "output_type": "stream",
          "name": "stdout",
          "text": [
            "-21 -93 "
          ]
        }
      ]
    },
    {
      "cell_type": "code",
      "source": [
        "#remove empty list from list\n",
        "list1 = [5, 6, [], 3, [], [], 9]\n",
        "print(\"The original list is : \" + str(list1))\n",
        "res = [ele for ele in list1 if ele != []]\n",
        "print(\"List after empty list removal : \" + str(res))"
      ],
      "metadata": {
        "colab": {
          "base_uri": "https://localhost:8080/"
        },
        "id": "Eg7Ct6mc4nYH",
        "outputId": "77e3754a-b403-4f62-f7ee-9a1e4b3ebcba"
      },
      "execution_count": null,
      "outputs": [
        {
          "output_type": "stream",
          "name": "stdout",
          "text": [
            "The original list is : [5, 6, [], 3, [], [], 9]\n",
            "List after empty list removal : [5, 6, 3, 9]\n"
          ]
        }
      ]
    },
    {
      "cell_type": "code",
      "source": [
        "#cloning the list\n",
        "def Cloning(list1):\n",
        "\tlist_copy = list1[:]\n",
        "\treturn list_copy\n",
        "\n",
        "list1 = [4, 8, 2, 10, 15, 18]\n",
        "list2 = Cloning(list1)\n",
        "print(\"Original List:\", list1)\n",
        "print(\"After Cloning:\", list2)"
      ],
      "metadata": {
        "colab": {
          "base_uri": "https://localhost:8080/"
        },
        "id": "h5_h1r8a4_aS",
        "outputId": "ce1c9b97-0d6a-4f73-fe3f-6fa52f144e4d"
      },
      "execution_count": null,
      "outputs": [
        {
          "output_type": "stream",
          "name": "stdout",
          "text": [
            "Original List: [4, 8, 2, 10, 15, 18]\n",
            "After Cloning: [4, 8, 2, 10, 15, 18]\n"
          ]
        }
      ]
    },
    {
      "cell_type": "code",
      "source": [
        "#count number of occurrences\n",
        "def count(lst, x):\n",
        "\tcount = 0\n",
        "\tfor ele in lst:\n",
        "\t\tif (ele == x):\n",
        "\t\t\tcount = count + 1\n",
        "\treturn count\n",
        "\n",
        "lst = [8, 6, 8, 10, 8, 20, 10, 8, 8]\n",
        "x = 8\n",
        "print('{} has occurred {} times'.format(x,count(lst, x)))"
      ],
      "metadata": {
        "colab": {
          "base_uri": "https://localhost:8080/"
        },
        "id": "q6quQnIH5k2n",
        "outputId": "b7a1f2f1-8552-43ae-813d-dce32af72b40"
      },
      "execution_count": null,
      "outputs": [
        {
          "output_type": "stream",
          "name": "stdout",
          "text": [
            "8 has occurred 5 times\n"
          ]
        }
      ]
    },
    {
      "cell_type": "code",
      "source": [
        "#print duplicate list\n",
        "lis = [1, 2, 1, 2, 3, 4, 5, 1, 1, 2, 5, 6, 7, 8, 9, 9]\n",
        "\n",
        "uniqueList = []\n",
        "duplicateList = []\n",
        "\n",
        "for i in lis:\n",
        "\tif i not in uniqueList:\n",
        "\t\tuniqueList.append(i)\n",
        "\telif i not in duplicateList:\n",
        "\t\tduplicateList.append(i)\n",
        "\n",
        "print(duplicateList)"
      ],
      "metadata": {
        "colab": {
          "base_uri": "https://localhost:8080/"
        },
        "id": "ePXp0EbG6ENK",
        "outputId": "dbbc9bad-e558-4400-b084-e470cd14bd3b"
      },
      "execution_count": null,
      "outputs": [
        {
          "output_type": "stream",
          "name": "stdout",
          "text": [
            "[1, 2, 5, 9]\n"
          ]
        }
      ]
    },
    {
      "cell_type": "code",
      "source": [
        "#sort one list from other list\n",
        "def sort_list(list1, list2):\n",
        "\tzipped_pairs = zip(list2, list1)\n",
        "\tz = [x for _, x in sorted(zipped_pairs)]\n",
        "\treturn z\n",
        "\n",
        "# driver code\n",
        "x = [\"a\", \"b\", \"c\", \"d\", \"e\", \"f\", \"g\", \"h\", \"i\"]\n",
        "y = [0, 1, 1, 0, 1, 2, 2, 0, 1]\n",
        "print(sort_list(x, y))"
      ],
      "metadata": {
        "colab": {
          "base_uri": "https://localhost:8080/"
        },
        "id": "hn2HQmvI6T8P",
        "outputId": "3071cd61-d54d-4c9b-c292-94c9fe12f652"
      },
      "execution_count": null,
      "outputs": [
        {
          "output_type": "stream",
          "name": "stdout",
          "text": [
            "['a', 'd', 'h', 'b', 'c', 'e', 'i', 'f', 'g']\n"
          ]
        }
      ]
    },
    {
      "cell_type": "code",
      "source": [
        "# sum of number of elements\n",
        "list1 = [12, 67, 98, 34]\n",
        "print(\"The original list is : \" + str(list1))\n",
        "\n",
        "res = []\n",
        "for ele in list1:\n",
        "\tsum = 0\n",
        "\tfor digit in str(ele):\n",
        "\t\tsum += int(digit)\n",
        "\tres.append(sum)\n",
        "\n",
        "print (\"List Integer Summation : \" + str(res))"
      ],
      "metadata": {
        "colab": {
          "base_uri": "https://localhost:8080/"
        },
        "id": "hR3mt3cn63A7",
        "outputId": "9651ac48-fc06-45b8-889e-f7333e52f034"
      },
      "execution_count": null,
      "outputs": [
        {
          "output_type": "stream",
          "name": "stdout",
          "text": [
            "The original list is : [12, 67, 98, 34]\n",
            "List Integer Summation : [3, 13, 17, 7]\n"
          ]
        }
      ]
    },
    {
      "cell_type": "markdown",
      "source": [
        "# **Matrix Problems**"
      ],
      "metadata": {
        "id": "-TLais9t8UNH"
      }
    },
    {
      "cell_type": "code",
      "source": [
        "# add two matrices\n",
        "X = [[1,2,3], [4 ,5,6], [7 ,8,9]]\n",
        "Y = [[9,8,7], [6,5,4], [3,2,1]]\n",
        "result = [[0,0,0], [0,0,0], [0,0,0]]\n",
        "\n",
        "for i in range(len(X)):\n",
        "\tfor j in range(len(X[0])):\n",
        "\t\tresult[i][j] = X[i][j] + Y[i][j]\n",
        "\n",
        "for r in result:\n",
        "\tprint(r)"
      ],
      "metadata": {
        "colab": {
          "base_uri": "https://localhost:8080/"
        },
        "id": "majYQptE7aVL",
        "outputId": "cd32d64c-3ee7-49ae-9967-68799b80d2b0"
      },
      "execution_count": null,
      "outputs": [
        {
          "output_type": "stream",
          "name": "stdout",
          "text": [
            "[10, 10, 10]\n",
            "[10, 10, 10]\n",
            "[10, 10, 10]\n"
          ]
        }
      ]
    },
    {
      "cell_type": "code",
      "source": [
        "# mutliply two matrices\n",
        "X = [[1,2,3], [4 ,5,6], [7 ,8,9]]\n",
        "Y = [[9,8,7], [6,5,4], [3,2,1]]\n",
        "result = [[0,0,0], [0,0,0], [0,0,0]]\n",
        "\n",
        "for i in range(len(X)):\n",
        "\tfor j in range(len(X[0])):\n",
        "\t\tresult[i][j] = X[i][j] * Y[i][j]\n",
        "\n",
        "for r in result:\n",
        "\tprint(r)"
      ],
      "metadata": {
        "colab": {
          "base_uri": "https://localhost:8080/"
        },
        "id": "JnpevaAc82vs",
        "outputId": "97c66344-95c7-446a-ccce-6c9a98d7f6e0"
      },
      "execution_count": null,
      "outputs": [
        {
          "output_type": "stream",
          "name": "stdout",
          "text": [
            "[9, 16, 21]\n",
            "[24, 25, 24]\n",
            "[21, 16, 9]\n"
          ]
        }
      ]
    },
    {
      "cell_type": "code",
      "source": [
        "#transpose of matrix\n",
        "m = [[1,2],[3,4],[5,6]]\n",
        "for row in m :\n",
        "\tprint(row)\n",
        "rez = [[m[j][i] for j in range(len(m))] for i in range(len(m[0]))]\n",
        "print(\"\\n\")\n",
        "for row in rez:\n",
        "\tprint(row)"
      ],
      "metadata": {
        "colab": {
          "base_uri": "https://localhost:8080/"
        },
        "id": "rkjzG2eq8_Ku",
        "outputId": "e12f0a27-6fbb-4353-da77-a31417068e57"
      },
      "execution_count": null,
      "outputs": [
        {
          "output_type": "stream",
          "name": "stdout",
          "text": [
            "[1, 2]\n",
            "[3, 4]\n",
            "[5, 6]\n",
            "\n",
            "\n",
            "[1, 3, 5]\n",
            "[2, 4, 6]\n"
          ]
        }
      ]
    },
    {
      "cell_type": "code",
      "source": [
        "#vertical concatenation\n",
        "from itertools import zip_longest\n",
        "\n",
        "test_list = [[\"Gfg\", \"good\"], [\"is\", \"for\"], [\"Best\"]]\n",
        "print(\"The original list : \" + str(test_list))\n",
        "res = [\"\".join(ele) for ele in zip_longest(*test_list, fillvalue =\"\")]\n",
        "print(\"List after column Concatenation : \" + str(res))"
      ],
      "metadata": {
        "colab": {
          "base_uri": "https://localhost:8080/"
        },
        "id": "SoaDdB5T-cy0",
        "outputId": "1bbe7bc9-1324-4007-a5e9-b605eac4676a"
      },
      "execution_count": null,
      "outputs": [
        {
          "output_type": "stream",
          "name": "stdout",
          "text": [
            "The original list : [['Gfg', 'good'], ['is', 'for'], ['Best']]\n",
            "List after column Concatenation : ['GfgisBest', 'goodfor']\n"
          ]
        }
      ]
    }
  ]
}