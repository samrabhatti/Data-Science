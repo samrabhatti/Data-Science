{
  "cells": [
    {
      "cell_type": "markdown",
      "metadata": {
        "id": "tvBbbUwWuW9S"
      },
      "source": [
        "# Perform the following analysis on the provided file \"demo.csv\".\n",
        "\n",
        "\n",
        "## 1. Which month saw the highest joining of the employees\n",
        "\n",
        "   function name: max_joinings_month()\n",
        "   \n",
        "   inputs: DataFrame\n",
        "\n",
        "   outputs: str\n",
        "   \n",
        "   \n",
        "## 2. What is the mean salary is the state KS\n",
        "\n",
        "   function name: mean_ks_salary()\n",
        "   \n",
        "   inputs: DataFrame\n",
        "\n",
        "   outputs: float\n",
        "   \n",
        "   \n",
        "## 3. Which Region has highest mean salary\n",
        "\n",
        "   function name: max_mean_salary_region()\n",
        "\n",
        "   inputs: DataFrame\n",
        "\n",
        "   outputs: str\n",
        "   \n",
        "   \n",
        "## 4. Which region has lowest mean salary\n",
        "\n",
        "   function name: min_mean_salary_region()\n",
        "\n",
        "   inputs: DataFrame\n",
        "\n",
        "   outputs: str\n",
        "   \n",
        "   \n",
        "## 5. Which City has highest mean weight\n",
        "\n",
        "   function name: max_mean_weight_city()\n",
        "\n",
        "   inputs: DataFrame\n",
        "\n",
        "   outputs: str\n",
        "   \n",
        "   \n",
        "## 6. What is the difference between mean salary of Doctors and Professors\n",
        "\n",
        "   function name: dr_prof_mean_salary_diff()\n",
        "\n",
        "   inputs: DataFrame\n",
        "\n",
        "   outputs: float\n",
        "   \n",
        "   \n",
        "## 7. How many female use yahoo\n",
        "\n",
        "   function name: females_with_yahoo()\n",
        "\n",
        "   inputs: DataFrame\n",
        "\n",
        "   outputs: int\n",
        "   \n",
        "   \n",
        "## 8. How many Doctors use gmail\n",
        "\n",
        "   function name: doctors_with_gmail()\n",
        "\n",
        "   inputs: DataFrame\n",
        "\n",
        "   outputs: int\n",
        "   \n",
        "   \n",
        "## 9. What is the password of the youngest male\n",
        "\n",
        "   function name: youngest_male_password()\n",
        "\n",
        "   inputs: DataFrame\n",
        "\n",
        "   outputs: str\n"
      ]
    },
    {
      "cell_type": "code",
      "execution_count": 1,
      "metadata": {
        "id": "5Pos8WYPuW9Y"
      },
      "outputs": [],
      "source": [
        "import pandas as pd"
      ]
    },
    {
      "cell_type": "code",
      "source": [
        "df=pd.read_csv('demo.csv')\n",
        "df"
      ],
      "metadata": {
        "id": "ZUN-RGPOvHYw",
        "colab": {
          "base_uri": "https://localhost:8080/",
          "height": 870
        },
        "outputId": "fcdbe556-0d71-4b98-e6f8-b62836467414"
      },
      "execution_count": 3,
      "outputs": [
        {
          "output_type": "execute_result",
          "data": {
            "text/plain": [
              "     Emp ID Name Prefix First Name Middle Initial  Last Name Gender  \\\n",
              "0    850297         Ms.     Shawna              W       Buck      F   \n",
              "1    304721         Mr.  Nathaniel              Z      Burke      M   \n",
              "2    412317        Drs.  Elisabeth              W     Foster      F   \n",
              "3    621375        Mrs.     Briana              C  Lancaster      F   \n",
              "4    787549        Hon.    Estella              L     Potter      F   \n",
              "..      ...         ...        ...            ...        ...    ...   \n",
              "995  568435         Ms.     Bonnie              K      Baker      F   \n",
              "996  597409         Mr.       Luke              S     Turner      M   \n",
              "997  359608        Hon.        Eva              S     Holman      F   \n",
              "998  803426        Mrs.    Maritza              H  Christian      F   \n",
              "999  669618        Drs.    Phyllis              H     Dudley      F   \n",
              "\n",
              "                              E Mail      Father's Name        Mother's Name  \\\n",
              "0              shawna.buck@gmail.com       Rosario Buck          Keisha Buck   \n",
              "1        nathaniel.burke@walmart.com      Derrick Burke         Phoebe Burke   \n",
              "2         elisabeth.foster@gmail.com       Irwin Foster         Janie Foster   \n",
              "3         briana.lancaster@yahoo.com  Jeffrey Lancaster     Shelby Lancaster   \n",
              "4           estella.potter@gmail.com      Booker Potter       Katelyn Potter   \n",
              "..                               ...                ...                  ...   \n",
              "995              bonnie.baker@bp.com      Edwardo Baker        Pauline Baker   \n",
              "996          luke.turner@charter.net      Javier Turner        Nicole Turner   \n",
              "997           eva.holman@hotmail.com         Coy Holman         Haley Holman   \n",
              "998  maritza.christian@microsoft.com     Dion Christian  Stephanie Christian   \n",
              "999       phyllis.dudley@yahoo.co.in      Jarrod Dudley       Latisha Dudley   \n",
              "\n",
              "    Mother's Maiden Name  ...          SSN    Phone No.   Place Name  \\\n",
              "0              Hendricks  ...  222-11-7603  702-771-7149   Las Vegas   \n",
              "1                   Pugh  ...  550-99-9897  231-765-6923       Irons   \n",
              "2                Delaney  ...  215-91-0004  270-749-4774   Lexington   \n",
              "3                  Weiss  ...  534-71-1053  219-623-8216     Munster   \n",
              "4                   Pate  ...  644-29-6396  907-677-8486   Fairbanks   \n",
              "..                   ...  ...          ...           ...         ...   \n",
              "995             Robinson  ...  064-02-6162  262-696-9171   Mukwonago   \n",
              "996                Sykes  ...  056-02-8240  231-629-0498    Freeport   \n",
              "997                Boyle  ...  343-11-1935  209-912-6705     Turlock   \n",
              "998               Mooney  ...  336-11-5030  203-224-9056    Stamford   \n",
              "999               Wilcox  ...  101-02-6501  405-970-2341        Meno   \n",
              "\n",
              "                   County       City State    Zip     Region    User Name  \\\n",
              "0                   Clark  Las Vegas    NV  89128       West       swbuck   \n",
              "1                    Lake      Irons    MI  49644    Midwest      nzburke   \n",
              "2                 Fayette  Lexington    KY  40501      South     ewfoster   \n",
              "3                    Lake    Munster    IN  46321    Midwest  bclancaster   \n",
              "4    Fairbanks North Star  Fairbanks    AK  99709       West     elpotter   \n",
              "..                    ...        ...   ...    ...        ...          ...   \n",
              "995              Waukesha  Mukwonago    WI  53149    Midwest      bkbaker   \n",
              "996                 Barry   Freeport    MI  49325    Midwest     lsturner   \n",
              "997            Stanislaus    Turlock    CA  95381       West     esholman   \n",
              "998             Fairfield   Stamford    CT   6910  Northeast  mhchristian   \n",
              "999                 Major       Meno    OK  73760      South     phdudley   \n",
              "\n",
              "            Password  \n",
              "0    ja8?k3BTF^]o@<&  \n",
              "1     tPA@4Wh9Ja$+Ln  \n",
              "2    5D.B4IGNkWJfG<~  \n",
              "3          I%?JDM;pW  \n",
              "4        j4jkEXfC&Rh  \n",
              "..               ...  \n",
              "995   a?Co:/r;nu_wTQ  \n",
              "996       7n5@64VC7|  \n",
              "997    DG<<<e}*WgD<U  \n",
              "998         Krs@#TnM  \n",
              "999     h6wt@400%&Uu  \n",
              "\n",
              "[1000 rows x 37 columns]"
            ],
            "text/html": [
              "\n",
              "\n",
              "  <div id=\"df-1c970996-fee4-4fb5-9eb5-ae3d8ccc1f22\">\n",
              "    <div class=\"colab-df-container\">\n",
              "      <div>\n",
              "<style scoped>\n",
              "    .dataframe tbody tr th:only-of-type {\n",
              "        vertical-align: middle;\n",
              "    }\n",
              "\n",
              "    .dataframe tbody tr th {\n",
              "        vertical-align: top;\n",
              "    }\n",
              "\n",
              "    .dataframe thead th {\n",
              "        text-align: right;\n",
              "    }\n",
              "</style>\n",
              "<table border=\"1\" class=\"dataframe\">\n",
              "  <thead>\n",
              "    <tr style=\"text-align: right;\">\n",
              "      <th></th>\n",
              "      <th>Emp ID</th>\n",
              "      <th>Name Prefix</th>\n",
              "      <th>First Name</th>\n",
              "      <th>Middle Initial</th>\n",
              "      <th>Last Name</th>\n",
              "      <th>Gender</th>\n",
              "      <th>E Mail</th>\n",
              "      <th>Father's Name</th>\n",
              "      <th>Mother's Name</th>\n",
              "      <th>Mother's Maiden Name</th>\n",
              "      <th>...</th>\n",
              "      <th>SSN</th>\n",
              "      <th>Phone No.</th>\n",
              "      <th>Place Name</th>\n",
              "      <th>County</th>\n",
              "      <th>City</th>\n",
              "      <th>State</th>\n",
              "      <th>Zip</th>\n",
              "      <th>Region</th>\n",
              "      <th>User Name</th>\n",
              "      <th>Password</th>\n",
              "    </tr>\n",
              "  </thead>\n",
              "  <tbody>\n",
              "    <tr>\n",
              "      <th>0</th>\n",
              "      <td>850297</td>\n",
              "      <td>Ms.</td>\n",
              "      <td>Shawna</td>\n",
              "      <td>W</td>\n",
              "      <td>Buck</td>\n",
              "      <td>F</td>\n",
              "      <td>shawna.buck@gmail.com</td>\n",
              "      <td>Rosario Buck</td>\n",
              "      <td>Keisha Buck</td>\n",
              "      <td>Hendricks</td>\n",
              "      <td>...</td>\n",
              "      <td>222-11-7603</td>\n",
              "      <td>702-771-7149</td>\n",
              "      <td>Las Vegas</td>\n",
              "      <td>Clark</td>\n",
              "      <td>Las Vegas</td>\n",
              "      <td>NV</td>\n",
              "      <td>89128</td>\n",
              "      <td>West</td>\n",
              "      <td>swbuck</td>\n",
              "      <td>ja8?k3BTF^]o@&lt;&amp;</td>\n",
              "    </tr>\n",
              "    <tr>\n",
              "      <th>1</th>\n",
              "      <td>304721</td>\n",
              "      <td>Mr.</td>\n",
              "      <td>Nathaniel</td>\n",
              "      <td>Z</td>\n",
              "      <td>Burke</td>\n",
              "      <td>M</td>\n",
              "      <td>nathaniel.burke@walmart.com</td>\n",
              "      <td>Derrick Burke</td>\n",
              "      <td>Phoebe Burke</td>\n",
              "      <td>Pugh</td>\n",
              "      <td>...</td>\n",
              "      <td>550-99-9897</td>\n",
              "      <td>231-765-6923</td>\n",
              "      <td>Irons</td>\n",
              "      <td>Lake</td>\n",
              "      <td>Irons</td>\n",
              "      <td>MI</td>\n",
              "      <td>49644</td>\n",
              "      <td>Midwest</td>\n",
              "      <td>nzburke</td>\n",
              "      <td>tPA@4Wh9Ja$+Ln</td>\n",
              "    </tr>\n",
              "    <tr>\n",
              "      <th>2</th>\n",
              "      <td>412317</td>\n",
              "      <td>Drs.</td>\n",
              "      <td>Elisabeth</td>\n",
              "      <td>W</td>\n",
              "      <td>Foster</td>\n",
              "      <td>F</td>\n",
              "      <td>elisabeth.foster@gmail.com</td>\n",
              "      <td>Irwin Foster</td>\n",
              "      <td>Janie Foster</td>\n",
              "      <td>Delaney</td>\n",
              "      <td>...</td>\n",
              "      <td>215-91-0004</td>\n",
              "      <td>270-749-4774</td>\n",
              "      <td>Lexington</td>\n",
              "      <td>Fayette</td>\n",
              "      <td>Lexington</td>\n",
              "      <td>KY</td>\n",
              "      <td>40501</td>\n",
              "      <td>South</td>\n",
              "      <td>ewfoster</td>\n",
              "      <td>5D.B4IGNkWJfG&lt;~</td>\n",
              "    </tr>\n",
              "    <tr>\n",
              "      <th>3</th>\n",
              "      <td>621375</td>\n",
              "      <td>Mrs.</td>\n",
              "      <td>Briana</td>\n",
              "      <td>C</td>\n",
              "      <td>Lancaster</td>\n",
              "      <td>F</td>\n",
              "      <td>briana.lancaster@yahoo.com</td>\n",
              "      <td>Jeffrey Lancaster</td>\n",
              "      <td>Shelby Lancaster</td>\n",
              "      <td>Weiss</td>\n",
              "      <td>...</td>\n",
              "      <td>534-71-1053</td>\n",
              "      <td>219-623-8216</td>\n",
              "      <td>Munster</td>\n",
              "      <td>Lake</td>\n",
              "      <td>Munster</td>\n",
              "      <td>IN</td>\n",
              "      <td>46321</td>\n",
              "      <td>Midwest</td>\n",
              "      <td>bclancaster</td>\n",
              "      <td>I%?JDM;pW</td>\n",
              "    </tr>\n",
              "    <tr>\n",
              "      <th>4</th>\n",
              "      <td>787549</td>\n",
              "      <td>Hon.</td>\n",
              "      <td>Estella</td>\n",
              "      <td>L</td>\n",
              "      <td>Potter</td>\n",
              "      <td>F</td>\n",
              "      <td>estella.potter@gmail.com</td>\n",
              "      <td>Booker Potter</td>\n",
              "      <td>Katelyn Potter</td>\n",
              "      <td>Pate</td>\n",
              "      <td>...</td>\n",
              "      <td>644-29-6396</td>\n",
              "      <td>907-677-8486</td>\n",
              "      <td>Fairbanks</td>\n",
              "      <td>Fairbanks North Star</td>\n",
              "      <td>Fairbanks</td>\n",
              "      <td>AK</td>\n",
              "      <td>99709</td>\n",
              "      <td>West</td>\n",
              "      <td>elpotter</td>\n",
              "      <td>j4jkEXfC&amp;Rh</td>\n",
              "    </tr>\n",
              "    <tr>\n",
              "      <th>...</th>\n",
              "      <td>...</td>\n",
              "      <td>...</td>\n",
              "      <td>...</td>\n",
              "      <td>...</td>\n",
              "      <td>...</td>\n",
              "      <td>...</td>\n",
              "      <td>...</td>\n",
              "      <td>...</td>\n",
              "      <td>...</td>\n",
              "      <td>...</td>\n",
              "      <td>...</td>\n",
              "      <td>...</td>\n",
              "      <td>...</td>\n",
              "      <td>...</td>\n",
              "      <td>...</td>\n",
              "      <td>...</td>\n",
              "      <td>...</td>\n",
              "      <td>...</td>\n",
              "      <td>...</td>\n",
              "      <td>...</td>\n",
              "      <td>...</td>\n",
              "    </tr>\n",
              "    <tr>\n",
              "      <th>995</th>\n",
              "      <td>568435</td>\n",
              "      <td>Ms.</td>\n",
              "      <td>Bonnie</td>\n",
              "      <td>K</td>\n",
              "      <td>Baker</td>\n",
              "      <td>F</td>\n",
              "      <td>bonnie.baker@bp.com</td>\n",
              "      <td>Edwardo Baker</td>\n",
              "      <td>Pauline Baker</td>\n",
              "      <td>Robinson</td>\n",
              "      <td>...</td>\n",
              "      <td>064-02-6162</td>\n",
              "      <td>262-696-9171</td>\n",
              "      <td>Mukwonago</td>\n",
              "      <td>Waukesha</td>\n",
              "      <td>Mukwonago</td>\n",
              "      <td>WI</td>\n",
              "      <td>53149</td>\n",
              "      <td>Midwest</td>\n",
              "      <td>bkbaker</td>\n",
              "      <td>a?Co:/r;nu_wTQ</td>\n",
              "    </tr>\n",
              "    <tr>\n",
              "      <th>996</th>\n",
              "      <td>597409</td>\n",
              "      <td>Mr.</td>\n",
              "      <td>Luke</td>\n",
              "      <td>S</td>\n",
              "      <td>Turner</td>\n",
              "      <td>M</td>\n",
              "      <td>luke.turner@charter.net</td>\n",
              "      <td>Javier Turner</td>\n",
              "      <td>Nicole Turner</td>\n",
              "      <td>Sykes</td>\n",
              "      <td>...</td>\n",
              "      <td>056-02-8240</td>\n",
              "      <td>231-629-0498</td>\n",
              "      <td>Freeport</td>\n",
              "      <td>Barry</td>\n",
              "      <td>Freeport</td>\n",
              "      <td>MI</td>\n",
              "      <td>49325</td>\n",
              "      <td>Midwest</td>\n",
              "      <td>lsturner</td>\n",
              "      <td>7n5@64VC7|</td>\n",
              "    </tr>\n",
              "    <tr>\n",
              "      <th>997</th>\n",
              "      <td>359608</td>\n",
              "      <td>Hon.</td>\n",
              "      <td>Eva</td>\n",
              "      <td>S</td>\n",
              "      <td>Holman</td>\n",
              "      <td>F</td>\n",
              "      <td>eva.holman@hotmail.com</td>\n",
              "      <td>Coy Holman</td>\n",
              "      <td>Haley Holman</td>\n",
              "      <td>Boyle</td>\n",
              "      <td>...</td>\n",
              "      <td>343-11-1935</td>\n",
              "      <td>209-912-6705</td>\n",
              "      <td>Turlock</td>\n",
              "      <td>Stanislaus</td>\n",
              "      <td>Turlock</td>\n",
              "      <td>CA</td>\n",
              "      <td>95381</td>\n",
              "      <td>West</td>\n",
              "      <td>esholman</td>\n",
              "      <td>DG&lt;&lt;&lt;e}*WgD&lt;U</td>\n",
              "    </tr>\n",
              "    <tr>\n",
              "      <th>998</th>\n",
              "      <td>803426</td>\n",
              "      <td>Mrs.</td>\n",
              "      <td>Maritza</td>\n",
              "      <td>H</td>\n",
              "      <td>Christian</td>\n",
              "      <td>F</td>\n",
              "      <td>maritza.christian@microsoft.com</td>\n",
              "      <td>Dion Christian</td>\n",
              "      <td>Stephanie Christian</td>\n",
              "      <td>Mooney</td>\n",
              "      <td>...</td>\n",
              "      <td>336-11-5030</td>\n",
              "      <td>203-224-9056</td>\n",
              "      <td>Stamford</td>\n",
              "      <td>Fairfield</td>\n",
              "      <td>Stamford</td>\n",
              "      <td>CT</td>\n",
              "      <td>6910</td>\n",
              "      <td>Northeast</td>\n",
              "      <td>mhchristian</td>\n",
              "      <td>Krs@#TnM</td>\n",
              "    </tr>\n",
              "    <tr>\n",
              "      <th>999</th>\n",
              "      <td>669618</td>\n",
              "      <td>Drs.</td>\n",
              "      <td>Phyllis</td>\n",
              "      <td>H</td>\n",
              "      <td>Dudley</td>\n",
              "      <td>F</td>\n",
              "      <td>phyllis.dudley@yahoo.co.in</td>\n",
              "      <td>Jarrod Dudley</td>\n",
              "      <td>Latisha Dudley</td>\n",
              "      <td>Wilcox</td>\n",
              "      <td>...</td>\n",
              "      <td>101-02-6501</td>\n",
              "      <td>405-970-2341</td>\n",
              "      <td>Meno</td>\n",
              "      <td>Major</td>\n",
              "      <td>Meno</td>\n",
              "      <td>OK</td>\n",
              "      <td>73760</td>\n",
              "      <td>South</td>\n",
              "      <td>phdudley</td>\n",
              "      <td>h6wt@400%&amp;Uu</td>\n",
              "    </tr>\n",
              "  </tbody>\n",
              "</table>\n",
              "<p>1000 rows × 37 columns</p>\n",
              "</div>\n",
              "      <button class=\"colab-df-convert\" onclick=\"convertToInteractive('df-1c970996-fee4-4fb5-9eb5-ae3d8ccc1f22')\"\n",
              "              title=\"Convert this dataframe to an interactive table.\"\n",
              "              style=\"display:none;\">\n",
              "\n",
              "  <svg xmlns=\"http://www.w3.org/2000/svg\" height=\"24px\"viewBox=\"0 0 24 24\"\n",
              "       width=\"24px\">\n",
              "    <path d=\"M0 0h24v24H0V0z\" fill=\"none\"/>\n",
              "    <path d=\"M18.56 5.44l.94 2.06.94-2.06 2.06-.94-2.06-.94-.94-2.06-.94 2.06-2.06.94zm-11 1L8.5 8.5l.94-2.06 2.06-.94-2.06-.94L8.5 2.5l-.94 2.06-2.06.94zm10 10l.94 2.06.94-2.06 2.06-.94-2.06-.94-.94-2.06-.94 2.06-2.06.94z\"/><path d=\"M17.41 7.96l-1.37-1.37c-.4-.4-.92-.59-1.43-.59-.52 0-1.04.2-1.43.59L10.3 9.45l-7.72 7.72c-.78.78-.78 2.05 0 2.83L4 21.41c.39.39.9.59 1.41.59.51 0 1.02-.2 1.41-.59l7.78-7.78 2.81-2.81c.8-.78.8-2.07 0-2.86zM5.41 20L4 18.59l7.72-7.72 1.47 1.35L5.41 20z\"/>\n",
              "  </svg>\n",
              "      </button>\n",
              "\n",
              "\n",
              "\n",
              "    <div id=\"df-3cc2d9fb-1eb3-4c66-8fbf-c99c490093b4\">\n",
              "      <button class=\"colab-df-quickchart\" onclick=\"quickchart('df-3cc2d9fb-1eb3-4c66-8fbf-c99c490093b4')\"\n",
              "              title=\"Suggest charts.\"\n",
              "              style=\"display:none;\">\n",
              "\n",
              "<svg xmlns=\"http://www.w3.org/2000/svg\" height=\"24px\"viewBox=\"0 0 24 24\"\n",
              "     width=\"24px\">\n",
              "    <g>\n",
              "        <path d=\"M19 3H5c-1.1 0-2 .9-2 2v14c0 1.1.9 2 2 2h14c1.1 0 2-.9 2-2V5c0-1.1-.9-2-2-2zM9 17H7v-7h2v7zm4 0h-2V7h2v10zm4 0h-2v-4h2v4z\"/>\n",
              "    </g>\n",
              "</svg>\n",
              "      </button>\n",
              "    </div>\n",
              "\n",
              "<style>\n",
              "  .colab-df-quickchart {\n",
              "    background-color: #E8F0FE;\n",
              "    border: none;\n",
              "    border-radius: 50%;\n",
              "    cursor: pointer;\n",
              "    display: none;\n",
              "    fill: #1967D2;\n",
              "    height: 32px;\n",
              "    padding: 0 0 0 0;\n",
              "    width: 32px;\n",
              "  }\n",
              "\n",
              "  .colab-df-quickchart:hover {\n",
              "    background-color: #E2EBFA;\n",
              "    box-shadow: 0px 1px 2px rgba(60, 64, 67, 0.3), 0px 1px 3px 1px rgba(60, 64, 67, 0.15);\n",
              "    fill: #174EA6;\n",
              "  }\n",
              "\n",
              "  [theme=dark] .colab-df-quickchart {\n",
              "    background-color: #3B4455;\n",
              "    fill: #D2E3FC;\n",
              "  }\n",
              "\n",
              "  [theme=dark] .colab-df-quickchart:hover {\n",
              "    background-color: #434B5C;\n",
              "    box-shadow: 0px 1px 3px 1px rgba(0, 0, 0, 0.15);\n",
              "    filter: drop-shadow(0px 1px 2px rgba(0, 0, 0, 0.3));\n",
              "    fill: #FFFFFF;\n",
              "  }\n",
              "</style>\n",
              "\n",
              "    <script>\n",
              "      async function quickchart(key) {\n",
              "        const containerElement = document.querySelector('#' + key);\n",
              "        const charts = await google.colab.kernel.invokeFunction(\n",
              "            'suggestCharts', [key], {});\n",
              "      }\n",
              "    </script>\n",
              "\n",
              "      <script>\n",
              "\n",
              "function displayQuickchartButton(domScope) {\n",
              "  let quickchartButtonEl =\n",
              "    domScope.querySelector('#df-3cc2d9fb-1eb3-4c66-8fbf-c99c490093b4 button.colab-df-quickchart');\n",
              "  quickchartButtonEl.style.display =\n",
              "    google.colab.kernel.accessAllowed ? 'block' : 'none';\n",
              "}\n",
              "\n",
              "        displayQuickchartButton(document);\n",
              "      </script>\n",
              "      <style>\n",
              "    .colab-df-container {\n",
              "      display:flex;\n",
              "      flex-wrap:wrap;\n",
              "      gap: 12px;\n",
              "    }\n",
              "\n",
              "    .colab-df-convert {\n",
              "      background-color: #E8F0FE;\n",
              "      border: none;\n",
              "      border-radius: 50%;\n",
              "      cursor: pointer;\n",
              "      display: none;\n",
              "      fill: #1967D2;\n",
              "      height: 32px;\n",
              "      padding: 0 0 0 0;\n",
              "      width: 32px;\n",
              "    }\n",
              "\n",
              "    .colab-df-convert:hover {\n",
              "      background-color: #E2EBFA;\n",
              "      box-shadow: 0px 1px 2px rgba(60, 64, 67, 0.3), 0px 1px 3px 1px rgba(60, 64, 67, 0.15);\n",
              "      fill: #174EA6;\n",
              "    }\n",
              "\n",
              "    [theme=dark] .colab-df-convert {\n",
              "      background-color: #3B4455;\n",
              "      fill: #D2E3FC;\n",
              "    }\n",
              "\n",
              "    [theme=dark] .colab-df-convert:hover {\n",
              "      background-color: #434B5C;\n",
              "      box-shadow: 0px 1px 3px 1px rgba(0, 0, 0, 0.15);\n",
              "      filter: drop-shadow(0px 1px 2px rgba(0, 0, 0, 0.3));\n",
              "      fill: #FFFFFF;\n",
              "    }\n",
              "  </style>\n",
              "\n",
              "      <script>\n",
              "        const buttonEl =\n",
              "          document.querySelector('#df-1c970996-fee4-4fb5-9eb5-ae3d8ccc1f22 button.colab-df-convert');\n",
              "        buttonEl.style.display =\n",
              "          google.colab.kernel.accessAllowed ? 'block' : 'none';\n",
              "\n",
              "        async function convertToInteractive(key) {\n",
              "          const element = document.querySelector('#df-1c970996-fee4-4fb5-9eb5-ae3d8ccc1f22');\n",
              "          const dataTable =\n",
              "            await google.colab.kernel.invokeFunction('convertToInteractive',\n",
              "                                                     [key], {});\n",
              "          if (!dataTable) return;\n",
              "\n",
              "          const docLinkHtml = 'Like what you see? Visit the ' +\n",
              "            '<a target=\"_blank\" href=https://colab.research.google.com/notebooks/data_table.ipynb>data table notebook</a>'\n",
              "            + ' to learn more about interactive tables.';\n",
              "          element.innerHTML = '';\n",
              "          dataTable['output_type'] = 'display_data';\n",
              "          await google.colab.output.renderOutput(dataTable, element);\n",
              "          const docLink = document.createElement('div');\n",
              "          docLink.innerHTML = docLinkHtml;\n",
              "          element.appendChild(docLink);\n",
              "        }\n",
              "      </script>\n",
              "    </div>\n",
              "  </div>\n"
            ]
          },
          "metadata": {},
          "execution_count": 3
        }
      ]
    },
    {
      "cell_type": "code",
      "source": [
        "df.shape"
      ],
      "metadata": {
        "colab": {
          "base_uri": "https://localhost:8080/"
        },
        "id": "uAWmPzsynKYZ",
        "outputId": "8879b904-4bca-41f7-a04c-0c95671f1365"
      },
      "execution_count": 4,
      "outputs": [
        {
          "output_type": "execute_result",
          "data": {
            "text/plain": [
              "(1000, 37)"
            ]
          },
          "metadata": {},
          "execution_count": 4
        }
      ]
    },
    {
      "cell_type": "code",
      "source": [
        "df.columns"
      ],
      "metadata": {
        "colab": {
          "base_uri": "https://localhost:8080/"
        },
        "id": "8i-S5X1lnYfu",
        "outputId": "83dd54f7-5891-4413-a445-f2aeb3479cc8"
      },
      "execution_count": 5,
      "outputs": [
        {
          "output_type": "execute_result",
          "data": {
            "text/plain": [
              "Index(['Emp ID', 'Name Prefix', 'First Name', 'Middle Initial', 'Last Name',\n",
              "       'Gender', 'E Mail', 'Father's Name', 'Mother's Name',\n",
              "       'Mother's Maiden Name', 'Date of Birth', 'Time of Birth', 'Age in Yrs.',\n",
              "       'Weight in Kgs.', 'Date of Joining', 'Quarter of Joining',\n",
              "       'Half of Joining', 'Year of Joining', 'Month of Joining',\n",
              "       'Month Name of Joining', 'Short Month', 'Day of Joining',\n",
              "       'DOW of Joining', 'Short DOW', 'Age in Company (Years)', 'Salary',\n",
              "       'Last % Hike', 'SSN', 'Phone No. ', 'Place Name', 'County', 'City',\n",
              "       'State', 'Zip', 'Region', 'User Name', 'Password'],\n",
              "      dtype='object')"
            ]
          },
          "metadata": {},
          "execution_count": 5
        }
      ]
    },
    {
      "cell_type": "markdown",
      "metadata": {
        "id": "n_fTzTbPuW9a"
      },
      "source": [
        "## 1. Which month saw the highest joining of the employees\n",
        "\n",
        "   function name: max_joinings_month()\n",
        "   \n",
        "   inputs: DataFrame\n",
        "\n",
        "   outputs: str"
      ]
    },
    {
      "cell_type": "code",
      "execution_count": 21,
      "metadata": {
        "id": "Ol33tFG-uW9a",
        "colab": {
          "base_uri": "https://localhost:8080/",
          "height": 35
        },
        "outputId": "679c52ce-6d7f-4ab5-c768-305a0bb04cda"
      },
      "outputs": [
        {
          "output_type": "execute_result",
          "data": {
            "text/plain": [
              "'April'"
            ],
            "application/vnd.google.colaboratory.intrinsic+json": {
              "type": "string"
            }
          },
          "metadata": {},
          "execution_count": 21
        }
      ],
      "source": [
        "def max_joinings_month(df):\n",
        "  return df['Month Name of Joining'].value_counts().idxmax()\n",
        "\n",
        "max_joinings_month(df)"
      ]
    },
    {
      "cell_type": "markdown",
      "metadata": {
        "id": "rVE_BdqIuW9b"
      },
      "source": [
        "## 2. What is the mean salary is the state KS\n",
        "\n",
        "   function name: mean_ks_salary()\n",
        "   \n",
        "   inputs: DataFrame\n",
        "\n",
        "   outputs: float"
      ]
    },
    {
      "cell_type": "code",
      "execution_count": 26,
      "metadata": {
        "id": "UpoU-UakuW9b",
        "colab": {
          "base_uri": "https://localhost:8080/"
        },
        "outputId": "e4a15cf6-9919-4044-8e32-82c3361e182e"
      },
      "outputs": [
        {
          "output_type": "execute_result",
          "data": {
            "text/plain": [
              "104225.45454545454"
            ]
          },
          "metadata": {},
          "execution_count": 26
        }
      ],
      "source": [
        "def mean_ks_salary(df):\n",
        "  return df['Salary'][df['State']=='KS'].mean()\n",
        "\n",
        "mean_ks_salary(df)"
      ]
    },
    {
      "cell_type": "markdown",
      "metadata": {
        "id": "Vgd5Fb5CuW9c"
      },
      "source": [
        "## 3. Which Region has highest mean salary\n",
        "\n",
        "   function name: max_mean_salary_region()\n",
        "\n",
        "   inputs: DataFrame\n",
        "\n",
        "   outputs: str"
      ]
    },
    {
      "cell_type": "code",
      "execution_count": 31,
      "metadata": {
        "id": "7HOPwotyuW9c",
        "colab": {
          "base_uri": "https://localhost:8080/",
          "height": 35
        },
        "outputId": "ae8b5431-51e8-4235-cd65-ccec449621f6"
      },
      "outputs": [
        {
          "output_type": "execute_result",
          "data": {
            "text/plain": [
              "'Midwest'"
            ],
            "application/vnd.google.colaboratory.intrinsic+json": {
              "type": "string"
            }
          },
          "metadata": {},
          "execution_count": 31
        }
      ],
      "source": [
        "def max_mean_salary_region(df):\n",
        "  return df.groupby('Region')['Salary'].mean().idxmax()\n",
        "\n",
        "max_mean_salary_region(df)"
      ]
    },
    {
      "cell_type": "markdown",
      "metadata": {
        "id": "wawx6nHmuW9d"
      },
      "source": [
        "## 4. Which region has lowest mean salary\n",
        "\n",
        "   function name: min_mean_salary_region()\n",
        "\n",
        "   inputs: DataFrame\n",
        "\n",
        "   outputs: str"
      ]
    },
    {
      "cell_type": "code",
      "execution_count": 32,
      "metadata": {
        "id": "dH61IHpFuW9d",
        "colab": {
          "base_uri": "https://localhost:8080/",
          "height": 35
        },
        "outputId": "3824162a-7616-444a-f84a-5d868af87767"
      },
      "outputs": [
        {
          "output_type": "execute_result",
          "data": {
            "text/plain": [
              "'West'"
            ],
            "application/vnd.google.colaboratory.intrinsic+json": {
              "type": "string"
            }
          },
          "metadata": {},
          "execution_count": 32
        }
      ],
      "source": [
        "def min_mean_salary_region(df):\n",
        "  return df.groupby('Region')['Salary'].mean().idxmin()\n",
        "\n",
        "min_mean_salary_region(df)"
      ]
    },
    {
      "cell_type": "markdown",
      "metadata": {
        "id": "MSpzMJpPuW9d"
      },
      "source": [
        "## 5. Which City has highest mean weight\n",
        "\n",
        "   function name: max_mean_weight_city()\n",
        "\n",
        "   inputs: DataFrame\n",
        "\n",
        "   outputs: str"
      ]
    },
    {
      "cell_type": "code",
      "execution_count": 36,
      "metadata": {
        "id": "m2gP7FpMuW9e",
        "colab": {
          "base_uri": "https://localhost:8080/",
          "height": 35
        },
        "outputId": "b2615d71-0997-4466-e9ef-5a8e285fdf3e"
      },
      "outputs": [
        {
          "output_type": "execute_result",
          "data": {
            "text/plain": [
              "'Conroe'"
            ],
            "application/vnd.google.colaboratory.intrinsic+json": {
              "type": "string"
            }
          },
          "metadata": {},
          "execution_count": 36
        }
      ],
      "source": [
        "def max_mean_weight_city(df):\n",
        "  return df.groupby('City')['Weight in Kgs.'].mean().idxmax()\n",
        "\n",
        "max_mean_weight_city(df)"
      ]
    },
    {
      "cell_type": "markdown",
      "metadata": {
        "id": "amq4sSZ5uW9e"
      },
      "source": [
        "## 6. What is the difference between mean salary of Doctors and Professors\n",
        "\n",
        "   function name: dr_prof_mean_salary_diff()\n",
        "\n",
        "   inputs: DataFrame\n",
        "\n",
        "   outputs: float"
      ]
    },
    {
      "cell_type": "code",
      "execution_count": 48,
      "metadata": {
        "id": "nXuEdsLBuW9f",
        "colab": {
          "base_uri": "https://localhost:8080/"
        },
        "outputId": "28df2774-5654-4674-8976-a6a81e451aaa"
      },
      "outputs": [
        {
          "output_type": "execute_result",
          "data": {
            "text/plain": [
              "2635.981785063763"
            ]
          },
          "metadata": {},
          "execution_count": 48
        }
      ],
      "source": [
        "def dr_prof_mean_salary_diff(df):\n",
        "  doctors_df = df[(df['Name Prefix'] == 'Dr.') | (df['Name Prefix'] == 'Drs.')]\n",
        "  professors_df = df[(df['Name Prefix'] == 'Prof.')]\n",
        "  return abs(doctors_df['Salary'].mean()-professors_df['Salary'].mean())\n",
        "\n",
        "dr_prof_mean_salary_diff(df)"
      ]
    },
    {
      "cell_type": "markdown",
      "metadata": {
        "id": "WCgvbyRHuW9f"
      },
      "source": [
        "## 7. How many female use yahoo\n",
        "\n",
        "   function name: females_with_yahoo()\n",
        "\n",
        "   inputs: DataFrame\n",
        "\n",
        "   outputs: int"
      ]
    },
    {
      "cell_type": "code",
      "execution_count": 53,
      "metadata": {
        "id": "z17LU2IVuW9f",
        "colab": {
          "base_uri": "https://localhost:8080/"
        },
        "outputId": "cfada816-2a5f-4bb5-f534-342321b59f57"
      },
      "outputs": [
        {
          "output_type": "execute_result",
          "data": {
            "text/plain": [
              "69"
            ]
          },
          "metadata": {},
          "execution_count": 53
        }
      ],
      "source": [
        "def females_with_yahoo(df):\n",
        "  female=df[df['Gender']=='F']\n",
        "  return len(female[female['E Mail'].str.contains('@yahoo', case=False)])\n",
        "\n",
        "females_with_yahoo(df)"
      ]
    },
    {
      "cell_type": "markdown",
      "metadata": {
        "id": "LRx_pxOPuW9g"
      },
      "source": [
        "## 8. How many Doctors use gmail\n",
        "\n",
        "   function name: doctors_with_gmail()\n",
        "\n",
        "   inputs: DataFrame\n",
        "\n",
        "   outputs: int"
      ]
    },
    {
      "cell_type": "code",
      "execution_count": 54,
      "metadata": {
        "id": "58Qmeg9nuW9g",
        "colab": {
          "base_uri": "https://localhost:8080/"
        },
        "outputId": "3aad164e-4165-47b9-aa06-baed9031e714"
      },
      "outputs": [
        {
          "output_type": "execute_result",
          "data": {
            "text/plain": [
              "42"
            ]
          },
          "metadata": {},
          "execution_count": 54
        }
      ],
      "source": [
        "def doctors_with_gmail(df):\n",
        "    dr=df[(df['Name Prefix'] == 'Dr.') | (df['Name Prefix'] == 'Drs.')]\n",
        "    return len(dr[dr['E Mail'].str.contains('@gmail', case=False)])\n",
        "\n",
        "doctors_with_gmail(df)"
      ]
    },
    {
      "cell_type": "markdown",
      "metadata": {
        "id": "wAMZIWg5uW9h"
      },
      "source": [
        "## 9. What is the password of the youngest male\n",
        "\n",
        "   function name: youngest_male_password()\n",
        "\n",
        "   inputs: DataFrame\n",
        "\n",
        "   outputs: str"
      ]
    },
    {
      "cell_type": "code",
      "execution_count": 57,
      "metadata": {
        "id": "LMs7ZxjRuW9h",
        "colab": {
          "base_uri": "https://localhost:8080/",
          "height": 35
        },
        "outputId": "c6de4f97-164c-4f32-f3d4-0fa8976e8534"
      },
      "outputs": [
        {
          "output_type": "execute_result",
          "data": {
            "text/plain": [
              "'xPr\\\\aGPTQ#v'"
            ],
            "application/vnd.google.colaboratory.intrinsic+json": {
              "type": "string"
            }
          },
          "metadata": {},
          "execution_count": 57
        }
      ],
      "source": [
        "def youngest_male_password(df):\n",
        "    male = df[df['Gender'] == 'M']\n",
        "    age = male['Age in Yrs.'].min()\n",
        "    youngest = male[male['Age in Yrs.'] == age]\n",
        "    password = youngest['Password'].values[0]\n",
        "    return password\n",
        "\n",
        "youngest_male_password(df)"
      ]
    }
  ],
  "metadata": {
    "kernelspec": {
      "display_name": "unet_ml11",
      "language": "python",
      "name": "unet_ml11"
    },
    "language_info": {
      "codemirror_mode": {
        "name": "ipython",
        "version": 3
      },
      "file_extension": ".py",
      "mimetype": "text/x-python",
      "name": "python",
      "nbconvert_exporter": "python",
      "pygments_lexer": "ipython3",
      "version": "3.6.9"
    },
    "colab": {
      "provenance": []
    }
  },
  "nbformat": 4,
  "nbformat_minor": 0
}